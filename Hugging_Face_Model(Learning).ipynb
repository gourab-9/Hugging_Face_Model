{
  "cells": [
    {
      "cell_type": "markdown",
      "metadata": {},
      "source": [
        "# Hugging Face Model\n",
        "\n",
        "**Author:** Gourab Kumar <br>\n",
        "**Linkedin:**  https://www.linkedin.com/in/gourab-kumar/<br>\n",
        "**Date created:** 22/04/2024<br>\n",
        "**Description:** Learning about hugging face model"
      ]
    },
    {
      "cell_type": "markdown",
      "metadata": {
        "id": "7NKbEapzs5Zu"
      },
      "source": [
        "# **CLASSIFICATION**"
      ]
    },
    {
      "cell_type": "code",
      "execution_count": 1,
      "metadata": {
        "id": "1anE8EQYsUIq"
      },
      "outputs": [],
      "source": [
        "text = \"\"\" code geass is one of those series that everybody recomends and once you watch it you know\n",
        " why.\n",
        "Mechas, war, romance, comedy, rivality, unexpected twsits, explotions, mindgames and more mechas!\n",
        " what else do you want!!! xD it totally deserver its place as one of the best animes ever made.\n",
        "\n",
        "the only aspect i see as a flaw is the art with a 9/10 the people seem a little bit deformed or\n",
        "too skinny but once you get use to it is great!.The user wants freedom.\n",
        "\n",
        "and it has by far the best story i have ever seen you just get hooked to it from the second\n",
        "episode and cant stop until finishing it.\n",
        "\n",
        "almost perfect serie, recomended to anyone who is a human beeing (nevermind, my dog liked it) \"\"\""
      ]
    },
    {
      "cell_type": "code",
      "execution_count": null,
      "metadata": {
        "id": "31bwuyQatGQx"
      },
      "outputs": [],
      "source": [
        "!pip install transformers\n",
        "!pip install datasets\n",
        "!pip install sentencepiece"
      ]
    },
    {
      "cell_type": "markdown",
      "metadata": {
        "id": "yaqz2c5atbIj"
      },
      "source": [
        "# **Transformers:**\n",
        "\n",
        "- The Transformers library, developed by Hugging Face, provides state-of-the-art natural language processing (NLP) models, including pre-trained models like BERT, GPT, RoBERTa, and more.<br><br>\n",
        "- These models are built using transformer architectures, which have revolutionized NLP by achieving superior performance on a wide range of tasks such as text classification, question answering, text generation, and language translation.<br><br>\n",
        "- The Transformers library allows users to easily load, fine-tune, and use these pre-trained models for various NLP tasks, enabling researchers and developers to leverage the latest advancements in deep learning for their projects.<br><br>\n",
        "- It also provides interfaces for working with these models in popular deep learning frameworks like TensorFlow and PyTorch.<br><br>\n",
        "# **Datasets:**\n",
        "\n",
        "- The Datasets library, also developed by Hugging Face, provides a collection of high-quality datasets for training and evaluating NLP models.<br><br>\n",
        "- These datasets cover a wide range of tasks and domains, including text classification, named entity recognition, machine translation, and more.<br><br>\n",
        "- The Datasets library offers a unified interface for accessing and manipulating these datasets, making it easy for researchers and practitioners to experiment with different datasets and benchmark their models against established baselines.<br><br>\n",
        "- It provides functionality for downloading datasets, splitting them into train/validation/test sets, preprocessing text data, and loading datasets in a format compatible with popular deep learning frameworks.<br><br>\n",
        "\n",
        "# **SentencePiece:**\n",
        "\n",
        "- SentencePiece is a library developed by Google for tokenization and text normalization tasks, particularly in the context of neural network-based models.<br><br>\n",
        "- It offers methods for segmenting text into subword units, which can be useful for handling out-of-vocabulary words, reducing vocabulary size, and improving model generalization.<br><br>\n",
        "- SentencePiece uses the unigram language model to learn a tokenization scheme from the input text data, allowing it to effectively handle various languages and writing systems.<br><br>\n",
        "\n",
        "\n",
        "\n",
        "-Training the SentencePiece Model:\n",
        "  - Imagine we have a big collection of text, like books or articles.\n",
        "  - We use this text to teach the SentencePiece model how words are formed.\n",
        "  - The model learns patterns in the text and decides how to split words into smaller parts called subwords.\n",
        "  - Tokenization of New Text:\n",
        "\n",
        "      After training, we have a model that knows how to break down words into smaller pieces.\n",
        "      When we give it a new sentence, like \"The cat is sitting on the mat,\" it splits it into these smaller pieces based on what it learned during training.\n",
        "      For example, it might split \"sitting\" into \"sit\" and \"ting\" because it didn't see \"sitting\" before, but it knows \"sit\" and \"ting.\"\n",
        "      Example Tokenization:\n",
        "\n",
        "      Let's say our SentencePiece model knows the subwords \"the,\" \"cat,\" \"is,\" \"sit,\" \"ting,\" \"on,\" \"mat,\" and \".\".\n",
        "      When it tokenizes \"The cat is sitting on the mat,\" it might output: [\"the\", \"cat\", \"is\", \"sit\", \"ting\", \"on\", \"the\", \"mat\", \".\"].\n",
        "      Notice how it split \"sitting\" into \"sit\" and \"ting\" because it didn't know \"sitting\" as a whole.\n",
        "      Handling New Words:\n",
        "\n",
        "      If the model encounters a word it didn't see during training, it tries to represent it using the subwords it knows.\n",
        "      For example, if it sees a new word like \"running,\" it might split it into \"run\" and \"ning.\"\n",
        "      In short, SentencePiece learns from a lot of text to understand how words are built and then uses that knowledge to break down new text into smaller pieces. This helps it handle new words and make text easier for computers to understand.\n",
        "- This library is commonly used in conjunction with other NLP libraries and frameworks, such as TensorFlow and PyTorch, to preprocess text data before training or inference with deep learning models."
      ]
    },
    {
      "cell_type": "code",
      "execution_count": 3,
      "metadata": {
        "id": "tAkC8YCltXXv"
      },
      "outputs": [],
      "source": [
        "import datasets\n",
        "import huggingface_hub\n",
        "import matplotlib.pyplot as plt\n",
        "import transformers"
      ]
    },
    {
      "cell_type": "markdown",
      "metadata": {
        "id": "iFeV2x8ytt5N"
      },
      "source": [
        "- huggingface_hub democratizes access to cutting-edge NLP models and datasets by providing a centralized repository where users can easily discover and download resources for their projects.\n",
        "\n",
        "\n",
        "\n",
        "- By providing a centralized hub for hosting models and datasets, huggingface_hub streamlines the process of sharing and accessing resources, thereby promoting collaboration, reproducibility, and innovation in the field of NLP."
      ]
    },
    {
      "cell_type": "code",
      "execution_count": null,
      "metadata": {
        "id": "4KKqBPHsteR1"
      },
      "outputs": [],
      "source": [
        "# Text Classification\n",
        "from transformers import pipeline\n",
        "classifier = pipeline('text-classification')"
      ]
    },
    {
      "cell_type": "markdown",
      "metadata": {
        "id": "7mrTJwIRt2S_"
      },
      "source": [
        "# **Transformers Pipeline**\n",
        "\n",
        "- The core architecture behind the text classification pipeline in the Hugging Face Transformers library typically involves a pre-trained transformer model fine-tuned on a large corpus of text data for the specific task of text classification. Here's how it works, illustrated with an example:<br><br>\n",
        "\n",
        "**Loading the Model:**\n",
        "\n",
        "- When you create a text classification pipeline using pipeline('text-classification'), the Hugging Face library automatically downloads the pre-trained model associated with text classification tasks. This model is typically a transformer-based architecture like BERT, RoBERTa, or DistilBERT that has been fine-tuned on a dataset for text classification.<br><br>\n",
        "\n",
        "\n",
        "**Tokenization:**\n",
        "\n",
        "- The input text provided to the pipeline is tokenized using the same tokenizer that was used during the pre-training of the model. This tokenizer converts the input text into a sequence of tokens that can be processed by the transformer model.<br><br>\n",
        "\n",
        "\n",
        "**Encoding:**\n",
        "\n",
        "- The tokenized input text is then encoded into numerical representations suitable for input to the transformer model. This encoding typically involves mapping each token to its corresponding index in the model's vocabulary and converting the input sequence into numerical vectors.<br><br>\n",
        "\n",
        "\n",
        "**Model Inference:**\n",
        "\n",
        "- The encoded input sequence is fed into the pre-trained transformer model. The model processes the input sequence through multiple layers of self-attention mechanisms and feed-forward neural networks to extract contextual representations of the text.<br><br>\n",
        "\n",
        "\n",
        "**Classification Head:**\n",
        "\n",
        "- After processing the input text through the transformer layers, a classification head is attached to the model. This classification head consists of one or more dense layers that take the final contextual representation of the input text as input and produce predictions for the classification task.<br><br>\n",
        "- For example, in binary classification tasks, the classification head may consist of a single neuron with a sigmoid activation function that outputs a probability score indicating the likelihood of the input text belonging to a particular class.<br><br>\n",
        "- In multi-class classification tasks, the classification head may consist of multiple neurons corresponding to each class, with a softmax activation function applied to produce a probability distribution over the classes.\n",
        "Prediction:\n",
        "\n",
        "Finally, the model outputs the predicted class label or probability distribution over the classes for the input text. This prediction is returned as the output of the text classification pipeline."
      ]
    },
    {
      "cell_type": "markdown",
      "metadata": {
        "id": "O_UeQUmht418"
      },
      "source": [
        "**config.json:**\n",
        "\n",
        "- This file contains the configuration parameters of the model, including details such as the model architecture, hyperparameters, tokenizer settings, and any other model-specific configurations. It provides essential information needed to instantiate and use the model in your code.\n",
        "\n",
        "  - {\n",
        "      - \"attention_probs_dropout_prob\": 0.1,    This parameter determines the dropout probability for attention weights. Dropout is a regularization technique used during training to prevent overfitting by randomly setting some activations to zero.\n",
        "      - \"hidden_dropout_prob\": 0.1,   Similar to attention_probs_dropout_prob, this parameter specifies the dropout probability for the hidden layers. It controls the dropout applied to the outputs of each layer in the model.\n",
        "      - \"hidden_size\": 768,   This parameter defines the dimensionality of the hidden layers in the transformer model. It represents the number of neurons in each layer's feedforward network.\n",
        "      - \"num_attention_heads\": 12,\n",
        "      - \"num_hidden_layers\": 12,   The total number of layers in the transformer model, including both encoder and decoder layers. Each layer consists of sublayers like self-attention, feedforward, and layer normalization.\n",
        "      - \"type_vocab_size\": 2,\n",
        "      - \"vocab_size\": 30522,\n",
        "          ...\n",
        "        }\n",
        "\n",
        "\n",
        "**model.safetensors**\n",
        "\n",
        "\n",
        "- safetensors is a safe and fast file format for storing and loading tensors. Typically, PyTorch model weights are saved or pickled into a .bin file with Python’s pickle utility. However, pickle is not secure and pickled files may contain malicious code that can be executed. safetensors is a secure alternative to pickle, making it ideal for sharing model weights.<br><br>\n",
        "\n",
        "\n",
        "  # Shopping cart data\n",
        "  shopping_cart = {\n",
        "  - \"items\": [\n",
        "     {\"name\": \"Laptop\", \"quantity\": 1, \"price\": 999.99},\n",
        "     {\"name\": \"Headphones\", \"quantity\": 2, \"price\": 49.99},\n",
        "     {\"name\": \"Mouse\", \"quantity\": 1, \"price\": 19.99}\n",
        "      ],\n",
        "      \"total\": 1119.96\n",
        "      }\n",
        "\n",
        "\n",
        "  ### import json\n",
        "\n",
        "  ###### Serialize the shopping cart to JSON\n",
        "  - serialized_cart = json.dumps(shopping_cart)\n",
        "\n",
        "  - ##### Save the serialized data to a file\n",
        "    with open(\"shopping_cart.json\", \"w\") as file:\n",
        "      file.write(serialized_cart)\n",
        "\n",
        "\n",
        "\n",
        "  ### Read the serialized data from the file\n",
        "  with open(\"shopping_cart.json\", \"r\") as file:\n",
        "      serialized_cart = file.read()\n",
        "\n",
        "  # Deserialize the JSON data into a Python dictionary\n",
        "  restored_cart = json.loads(serialized_cart)\n",
        "\n",
        "  print(restored_cart)\n",
        "\n",
        "\n",
        "\n",
        "**pytorch_model.bin:**\n",
        "\n",
        "- This file contains the actual weights and parameters of the BERT model, learned during pre-training or fine-tuning.\n",
        "Example content: Serialized tensor data representing the weights of each layer, attention matrices, and other parameters of the model.\n",
        "\n",
        "- Serialization: Serialization is the process of converting complex data structures, such as tensors, into a format that can be easily stored, transmitted, or reconstructed later. Serialization typically involves converting the data into a byte stream or a string format that preserves the structure and content of the original data.<br><br>\n",
        "\n",
        "  import pickle\n",
        "\n",
        "  ##### Example data to serialize\n",
        "  - data = {'name': 'John', 'age': 30, 'city': 'New York'}\n",
        "\n",
        "  # Serialize data using pickle and save to a file\n",
        "  with open('data.pkl', 'wb') as file:\n",
        "    pickle.dump(data, file)\n",
        "\n",
        "    # Deserialize data from the file\n",
        "    with open('data.pkl', 'rb') as file:\n",
        "    loaded_data = pickle.load(file)\n",
        "\n",
        "    print(loaded_data)\n",
        "\n",
        "\n",
        "\n",
        "**tokenizer_config.json:**\n",
        "\n",
        "- This file contains the configuration parameters of the BERT tokenizer, such as the tokenizer type, special tokens, vocabulary size, etc.\n",
        "Example content:\n",
        "\n",
        "\n",
        "  {\n",
        "  - \"max_len\": 512,    This indicates the maximum sequence length that the tokenizer will process. Sequences longer than this length will be truncated, and sequences shorter than this length will be padded to reach this length.\n",
        "  - \"model_type\": \"bert\",\n",
        "  - \"pad_token_id\": 0,    This is the token ID used for padding sequences. When sequences are shorter than the maximum length, they are padded with this token ID to match the maximum length.\n",
        "    \"vocab_size\": 30522,\n",
        "    ...\n",
        "   }\n"
      ]
    },
    {
      "cell_type": "code",
      "execution_count": 5,
      "metadata": {
        "colab": {
          "base_uri": "https://localhost:8080/",
          "height": 0
        },
        "id": "iy2MYmGntwSY",
        "outputId": "445f87dc-1bcd-4a9f-a968-bced7b82f599"
      },
      "outputs": [
        {
          "data": {
            "text/plain": [
              "[{'label': 'POSITIVE', 'score': 0.9967235922813416}]"
            ]
          },
          "execution_count": 5,
          "metadata": {},
          "output_type": "execute_result"
        }
      ],
      "source": [
        "classifier(text)"
      ]
    },
    {
      "cell_type": "markdown",
      "metadata": {
        "id": "yQ-tKLnxt-fG"
      },
      "source": [
        "# **NER - Named Entity Recoginition**"
      ]
    },
    {
      "cell_type": "code",
      "execution_count": null,
      "metadata": {
        "id": "2d211Ympt7RB"
      },
      "outputs": [],
      "source": [
        "import pandas as pd\n",
        "\n",
        "text1 = \"Narendra Modi is prime minister of India\"\n",
        "\n",
        "ner = pipeline('ner', aggregation_strategy='simple')\n",
        "out = ner(text1)\n",
        "print(pd.DataFrame(out))"
      ]
    },
    {
      "cell_type": "markdown",
      "metadata": {
        "id": "iQRRnHXpuIEg"
      },
      "source": [
        "In the Hugging Face Transformers library, the aggregation_strategy parameter in the Named Entity Recognition (NER) pipeline specifies how multiple predictions for the same entity across different tokens are aggregated into a single entity span.\n",
        "\n",
        "\n",
        "\n",
        "\n",
        "Let's illustrate the   **aggregation_strategy='simple'**    parameter in the Named Entity Recognition (NER) pipeline with an example:<br><br>\n",
        "\n",
        "\n",
        "\n",
        "\n",
        "\n",
        "\n",
        "\n",
        "\n",
        "\n",
        "\n",
        "Suppose we have the following input text:\n",
        "\n",
        "\n",
        "      \"The company Google is headquartered in Mountain View, California.\"\n",
        "\n",
        "\n",
        "And let's assume the NER model predicts the following entity labels for each token:\n",
        "\n",
        "      Token:         The   company  Google   is    headquartered   in    Mountain    View       ,        California   .\n",
        "      Predicted NER: O     O        B-ORG    O     O              O     B-LOC       I-LOC      O        B-LOC        .\n",
        "\n",
        "\n",
        "The output of the pipeline would be a list of dictionaries, with each dictionary representing an entity found in the input text. For example:\n",
        "\n",
        "\n",
        "        [\n",
        "          {'entity': 'ORG', 'text': 'Google', 'start': 12, 'end': 18},\n",
        "          {'entity': 'LOC', 'text': 'Mountain View', 'start': 34, 'end': 47},\n",
        "          {'entity': 'LOC', 'text': 'California', 'start': 53, 'end': 63}\n",
        "        ]\n",
        "\n",
        "\n"
      ]
    },
    {
      "cell_type": "markdown",
      "metadata": {
        "id": "VSPBfH-cuTEN"
      },
      "source": [
        "## **Question Answering**"
      ]
    },
    {
      "cell_type": "code",
      "execution_count": null,
      "metadata": {
        "id": "x84k8mU6uFkr"
      },
      "outputs": [],
      "source": [
        "reader = pipeline('question-answering')\n",
        "question = 'what does user want ?'\n",
        "outputs = reader(question=question,context = text)\n",
        "pd.DataFrame([outputs])"
      ]
    },
    {
      "cell_type": "markdown",
      "metadata": {
        "id": "QooVb3HcuYiM"
      },
      "source": [
        "## **Summarization**"
      ]
    },
    {
      "cell_type": "code",
      "execution_count": null,
      "metadata": {
        "id": "I-94Qp4auMaC"
      },
      "outputs": [],
      "source": [
        "summarizer = pipeline('summarization')\n",
        "outputs = summarizer( text, clean_up_tokenization_spaces=True, max_length=90)\n",
        "print(outputs[0]['summary_text'])"
      ]
    },
    {
      "cell_type": "markdown",
      "metadata": {
        "id": "2iBsC_-iufyw"
      },
      "source": [
        "**clean_up_tokenization_spaces=True:**<br><br>\n",
        "\n",
        "- When clean_up_tokenization_spaces is set to True, it indicates that the pipeline should remove any extra spaces resulting from tokenization before generating the summary text.<br><br>\n",
        "- Tokenization of text involves splitting it into individual tokens (words or subwords). Sometimes, tokenization can introduce extra spaces, especially around punctuation marks or special characters.<br><br>\n",
        "- Setting clean_up_tokenization_spaces=True ensures that these extra spaces are removed from the input text before it is summarized, resulting in cleaner and more readable summaries.<br><br>\n",
        "\n",
        "\n",
        "**max_length=90:**<br><br>\n",
        "\n",
        "- The max_length parameter specifies the maximum length (in tokens) of the generated summary text.<br><br>\n",
        "- When summarizing text, it's often desirable to limit the length of the summary to make it concise and focused.<br><br>\n",
        "- By setting max_length=90, you're instructing the summarization pipeline to generate a summary with a maximum length of 90 tokens. If the summary exceeds this length, it will be truncated to meet the specified limit.<br><br>\n",
        "- Limiting the length of the summary can help control the amount of information presented to the reader and ensure that the summary remains informative and easy to comprehend."
      ]
    },
    {
      "cell_type": "markdown",
      "metadata": {
        "id": "uR2XEPcHuiVq"
      },
      "source": [
        "## **Translation**"
      ]
    },
    {
      "cell_type": "code",
      "execution_count": null,
      "metadata": {
        "id": "1uzxlYd4ubBU"
      },
      "outputs": [],
      "source": [
        "translate = pipeline('translation_en_to_de', model='Helsinki-NLP/opus-mt-en-de')\n",
        "output = translate(text,clean_up_tokenization_spaces=True,min_length=120)\n",
        "print(output[0]['translation_text'])"
      ]
    },
    {
      "cell_type": "markdown",
      "metadata": {
        "id": "-x0nUjVlunsy"
      },
      "source": [
        "## **TEXT CLASSIFICATION WITH HUGGINGFACE**"
      ]
    },
    {
      "cell_type": "code",
      "execution_count": null,
      "metadata": {
        "id": "mg3EHZM4ukgs"
      },
      "outputs": [],
      "source": [
        "!pip install --upgrade pip\n",
        "!pip install transformers\n",
        "!pip install datasets\n",
        "!pip install sentencepiece"
      ]
    },
    {
      "cell_type": "markdown",
      "metadata": {
        "id": "EhuUgI_juuEe"
      },
      "source": [
        "# Datasets"
      ]
    },
    {
      "cell_type": "code",
      "execution_count": null,
      "metadata": {
        "id": "gyFXjUf_uqFr"
      },
      "outputs": [],
      "source": [
        "# Emotion detector\n",
        "from datasets import list_datasets\n",
        "all_datasets = list_datasets()\n",
        "print(f\"There are total of {len(all_datasets)} in the hub\")\n",
        "print(f\"Some example datasets are {all_datasets[:5]}\")"
      ]
    },
    {
      "cell_type": "code",
      "execution_count": null,
      "metadata": {
        "id": "IGxgpy5uuwiJ"
      },
      "outputs": [],
      "source": [
        "from datasets import load_dataset\n",
        "emotion_dataset = load_dataset('emotion')\n",
        "emotion_dataset"
      ]
    },
    {
      "cell_type": "code",
      "execution_count": 13,
      "metadata": {
        "colab": {
          "base_uri": "https://localhost:8080/",
          "height": 0
        },
        "id": "Vzj73Cm4u3jg",
        "outputId": "5b2a2619-f8f9-4966-cdd9-3e775a9adea4"
      },
      "outputs": [
        {
          "data": {
            "text/plain": [
              "Dataset({\n",
              "    features: ['text', 'label'],\n",
              "    num_rows: 16000\n",
              "})"
            ]
          },
          "execution_count": 13,
          "metadata": {},
          "output_type": "execute_result"
        }
      ],
      "source": [
        "train_dataset = emotion_dataset['train']\n",
        "train_dataset"
      ]
    },
    {
      "cell_type": "code",
      "execution_count": 14,
      "metadata": {
        "colab": {
          "base_uri": "https://localhost:8080/",
          "height": 0
        },
        "id": "wFIDo3ttu8TU",
        "outputId": "f626f758-9b31-4df0-c9d0-c601cac8a46d"
      },
      "outputs": [
        {
          "data": {
            "text/plain": [
              "{'text': 'i didnt feel humiliated', 'label': 0}"
            ]
          },
          "execution_count": 14,
          "metadata": {},
          "output_type": "execute_result"
        }
      ],
      "source": [
        "train_dataset[0]"
      ]
    },
    {
      "cell_type": "code",
      "execution_count": 15,
      "metadata": {
        "colab": {
          "base_uri": "https://localhost:8080/",
          "height": 0
        },
        "id": "N7eeL1ivu-ZE",
        "outputId": "65d214b3-f035-4249-accf-4bc9d8a952ed"
      },
      "outputs": [
        {
          "data": {
            "text/plain": [
              "{'text': ['i didnt feel humiliated',\n",
              "  'i can go from feeling so hopeless to so damned hopeful just from being around someone who cares and is awake',\n",
              "  'im grabbing a minute to post i feel greedy wrong',\n",
              "  'i am ever feeling nostalgic about the fireplace i will know that it is still on the property',\n",
              "  'i am feeling grouchy'],\n",
              " 'label': [0, 0, 3, 2, 3]}"
            ]
          },
          "execution_count": 15,
          "metadata": {},
          "output_type": "execute_result"
        }
      ],
      "source": [
        "train_dataset[:5]"
      ]
    },
    {
      "cell_type": "code",
      "execution_count": 16,
      "metadata": {
        "colab": {
          "base_uri": "https://localhost:8080/",
          "height": 0
        },
        "id": "8yxl8lDOu_1r",
        "outputId": "fc259f1b-1003-4e31-b1b3-1f8aa53b662f"
      },
      "outputs": [
        {
          "data": {
            "text/plain": [
              "['text', 'label']"
            ]
          },
          "execution_count": 16,
          "metadata": {},
          "output_type": "execute_result"
        }
      ],
      "source": [
        "train_dataset.column_names"
      ]
    },
    {
      "cell_type": "code",
      "execution_count": 17,
      "metadata": {
        "colab": {
          "base_uri": "https://localhost:8080/",
          "height": 0
        },
        "id": "rXJ9q4-OvCGF",
        "outputId": "f0350abd-b447-49cb-f305-14c6c4d00e41"
      },
      "outputs": [
        {
          "data": {
            "text/plain": [
              "{'text': Value(dtype='string', id=None),\n",
              " 'label': ClassLabel(names=['sadness', 'joy', 'love', 'anger', 'fear', 'surprise'], id=None)}"
            ]
          },
          "execution_count": 17,
          "metadata": {},
          "output_type": "execute_result"
        }
      ],
      "source": [
        "train_dataset.features"
      ]
    },
    {
      "cell_type": "code",
      "execution_count": 18,
      "metadata": {
        "colab": {
          "base_uri": "https://localhost:8080/",
          "height": 0
        },
        "id": "JDBKFntGvDns",
        "outputId": "b6c55281-a1a3-46ce-9560-4e26a518e792"
      },
      "outputs": [
        {
          "data": {
            "text/plain": [
              "['sadness', 'joy', 'love', 'anger', 'fear', 'surprise']"
            ]
          },
          "execution_count": 18,
          "metadata": {},
          "output_type": "execute_result"
        }
      ],
      "source": [
        "train_dataset.features['label'].names"
      ]
    },
    {
      "cell_type": "markdown",
      "metadata": {
        "id": "EoYOFp7OGQWr"
      },
      "source": [
        "!wget https://raw.githubusercontent.com/nachikethmurthy/Source-Code-Dataset-for-Machine-Learning-using-Python/main/Data/sentiment_train"
      ]
    },
    {
      "cell_type": "code",
      "execution_count": 19,
      "metadata": {
        "colab": {
          "base_uri": "https://localhost:8080/",
          "height": 0
        },
        "id": "gp-CoqXyvFqr",
        "outputId": "3f46764b-5e71-4a00-e7cc-f57c050442d4"
      },
      "outputs": [
        {
          "name": "stdout",
          "output_type": "stream",
          "text": [
            "--2024-04-22 03:56:17--  https://raw.githubusercontent.com/nachikethmurthy/Source-Code-Dataset-for-Machine-Learning-using-Python/main/Data/sentiment_train\n",
            "Resolving raw.githubusercontent.com (raw.githubusercontent.com)... 185.199.108.133, 185.199.109.133, 185.199.110.133, ...\n",
            "Connecting to raw.githubusercontent.com (raw.githubusercontent.com)|185.199.108.133|:443... connected.\n",
            "HTTP request sent, awaiting response... 200 OK\n",
            "Length: 447555 (437K) [text/plain]\n",
            "Saving to: ‘sentiment_train’\n",
            "\n",
            "sentiment_train     100%[===================>] 437.07K  --.-KB/s    in 0.03s   \n",
            "\n",
            "2024-04-22 03:56:18 (15.7 MB/s) - ‘sentiment_train’ saved [447555/447555]\n",
            "\n"
          ]
        }
      ],
      "source": [
        "!wget https://raw.githubusercontent.com/nachikethmurthy/Source-Code-Dataset-for-Machine-Learning-using-Python/main/Data/sentiment_train"
      ]
    },
    {
      "cell_type": "code",
      "execution_count": 20,
      "metadata": {
        "colab": {
          "base_uri": "https://localhost:8080/",
          "height": 153,
          "referenced_widgets": [
            "b165ccedfc6247c6b2bd039f89f7e9d9",
            "33853dd660264aa880b89a4ea3bc54bd",
            "39a9cb86d00f4177b777098be98826d7",
            "801bfe70c31a4960bef858222858d04f",
            "814dd7a5a82f4347a0460a5d62b52f7e",
            "9b0c2d236ae74c568cc1883c3d7421b0",
            "e109133a3bb74edd9ed009b5132c8850",
            "1a29a0cb338841a39a8b34cc75e2aa22",
            "930053f0f1a64bef8be216e283ff7e67",
            "4aa5a2b7ae444cd49fcfaac5e9c64813",
            "210d1a59d78e448b8331685247810bfe"
          ]
        },
        "id": "Ch8x2dRyvHvK",
        "outputId": "36032411-28ca-4903-ea16-484c8294a6fd"
      },
      "outputs": [
        {
          "data": {
            "application/vnd.jupyter.widget-view+json": {
              "model_id": "b165ccedfc6247c6b2bd039f89f7e9d9",
              "version_major": 2,
              "version_minor": 0
            },
            "text/plain": [
              "Generating train split: 0 examples [00:00, ? examples/s]"
            ]
          },
          "metadata": {},
          "output_type": "display_data"
        },
        {
          "data": {
            "text/plain": [
              "DatasetDict({\n",
              "    train: Dataset({\n",
              "        features: ['sentiment', 'text'],\n",
              "        num_rows: 6918\n",
              "    })\n",
              "})"
            ]
          },
          "execution_count": 20,
          "metadata": {},
          "output_type": "execute_result"
        }
      ],
      "source": [
        "# load the dataset\n",
        "sentiment_train = load_dataset('csv',data_files = \"sentiment_train\",sep='\\t')\n",
        "sentiment_train"
      ]
    },
    {
      "cell_type": "code",
      "execution_count": 21,
      "metadata": {
        "colab": {
          "base_uri": "https://localhost:8080/",
          "height": 0
        },
        "id": "3cCWqmxRvKJY",
        "outputId": "de246bb4-03aa-45d4-92c8-a264aa2ae29b"
      },
      "outputs": [
        {
          "data": {
            "text/plain": [
              "DatasetDict({\n",
              "    train: Dataset({\n",
              "        features: ['text', 'label'],\n",
              "        num_rows: 16000\n",
              "    })\n",
              "    validation: Dataset({\n",
              "        features: ['text', 'label'],\n",
              "        num_rows: 2000\n",
              "    })\n",
              "    test: Dataset({\n",
              "        features: ['text', 'label'],\n",
              "        num_rows: 2000\n",
              "    })\n",
              "})"
            ]
          },
          "execution_count": 21,
          "metadata": {},
          "output_type": "execute_result"
        }
      ],
      "source": [
        "emotion_dataset"
      ]
    },
    {
      "cell_type": "markdown",
      "metadata": {
        "id": "c3Dge6EevSDt"
      },
      "source": [
        "Convert the Hugging Face Dataset object (emotion_dataset) into a pandas DataFrame (df)"
      ]
    },
    {
      "cell_type": "code",
      "execution_count": 22,
      "metadata": {
        "colab": {
          "base_uri": "https://localhost:8080/",
          "height": 206
        },
        "id": "1TCnvi93vL51",
        "outputId": "16e75c7b-615d-4796-934c-92d3efeb7a04"
      },
      "outputs": [
        {
          "data": {
            "application/vnd.google.colaboratory.intrinsic+json": {
              "summary": "{\n  \"name\": \"df\",\n  \"rows\": 16000,\n  \"fields\": [\n    {\n      \"column\": \"text\",\n      \"properties\": {\n        \"dtype\": \"string\",\n        \"num_unique_values\": 15969,\n        \"samples\": [\n          \"i feel rather imbicilic or at least complacent\",\n          \"i was in the bathroom i had sat down to pee it was to make me feel submissive again per instructions\",\n          \"i am thrilled with the way my skin and hair feel if you are like me you are skeptical\"\n        ],\n        \"semantic_type\": \"\",\n        \"description\": \"\"\n      }\n    },\n    {\n      \"column\": \"label\",\n      \"properties\": {\n        \"dtype\": \"number\",\n        \"std\": 1,\n        \"min\": 0,\n        \"max\": 5,\n        \"num_unique_values\": 6,\n        \"samples\": [\n          0,\n          3,\n          1\n        ],\n        \"semantic_type\": \"\",\n        \"description\": \"\"\n      }\n    }\n  ]\n}",
              "type": "dataframe",
              "variable_name": "df"
            },
            "text/html": [
              "\n",
              "  <div id=\"df-e7e4cff4-2f9b-4e96-bcd4-1f2bbdc81ab4\" class=\"colab-df-container\">\n",
              "    <div>\n",
              "<style scoped>\n",
              "    .dataframe tbody tr th:only-of-type {\n",
              "        vertical-align: middle;\n",
              "    }\n",
              "\n",
              "    .dataframe tbody tr th {\n",
              "        vertical-align: top;\n",
              "    }\n",
              "\n",
              "    .dataframe thead th {\n",
              "        text-align: right;\n",
              "    }\n",
              "</style>\n",
              "<table border=\"1\" class=\"dataframe\">\n",
              "  <thead>\n",
              "    <tr style=\"text-align: right;\">\n",
              "      <th></th>\n",
              "      <th>text</th>\n",
              "      <th>label</th>\n",
              "    </tr>\n",
              "  </thead>\n",
              "  <tbody>\n",
              "    <tr>\n",
              "      <th>0</th>\n",
              "      <td>i didnt feel humiliated</td>\n",
              "      <td>0</td>\n",
              "    </tr>\n",
              "    <tr>\n",
              "      <th>1</th>\n",
              "      <td>i can go from feeling so hopeless to so damned...</td>\n",
              "      <td>0</td>\n",
              "    </tr>\n",
              "    <tr>\n",
              "      <th>2</th>\n",
              "      <td>im grabbing a minute to post i feel greedy wrong</td>\n",
              "      <td>3</td>\n",
              "    </tr>\n",
              "    <tr>\n",
              "      <th>3</th>\n",
              "      <td>i am ever feeling nostalgic about the fireplac...</td>\n",
              "      <td>2</td>\n",
              "    </tr>\n",
              "    <tr>\n",
              "      <th>4</th>\n",
              "      <td>i am feeling grouchy</td>\n",
              "      <td>3</td>\n",
              "    </tr>\n",
              "  </tbody>\n",
              "</table>\n",
              "</div>\n",
              "    <div class=\"colab-df-buttons\">\n",
              "\n",
              "  <div class=\"colab-df-container\">\n",
              "    <button class=\"colab-df-convert\" onclick=\"convertToInteractive('df-e7e4cff4-2f9b-4e96-bcd4-1f2bbdc81ab4')\"\n",
              "            title=\"Convert this dataframe to an interactive table.\"\n",
              "            style=\"display:none;\">\n",
              "\n",
              "  <svg xmlns=\"http://www.w3.org/2000/svg\" height=\"24px\" viewBox=\"0 -960 960 960\">\n",
              "    <path d=\"M120-120v-720h720v720H120Zm60-500h600v-160H180v160Zm220 220h160v-160H400v160Zm0 220h160v-160H400v160ZM180-400h160v-160H180v160Zm440 0h160v-160H620v160ZM180-180h160v-160H180v160Zm440 0h160v-160H620v160Z\"/>\n",
              "  </svg>\n",
              "    </button>\n",
              "\n",
              "  <style>\n",
              "    .colab-df-container {\n",
              "      display:flex;\n",
              "      gap: 12px;\n",
              "    }\n",
              "\n",
              "    .colab-df-convert {\n",
              "      background-color: #E8F0FE;\n",
              "      border: none;\n",
              "      border-radius: 50%;\n",
              "      cursor: pointer;\n",
              "      display: none;\n",
              "      fill: #1967D2;\n",
              "      height: 32px;\n",
              "      padding: 0 0 0 0;\n",
              "      width: 32px;\n",
              "    }\n",
              "\n",
              "    .colab-df-convert:hover {\n",
              "      background-color: #E2EBFA;\n",
              "      box-shadow: 0px 1px 2px rgba(60, 64, 67, 0.3), 0px 1px 3px 1px rgba(60, 64, 67, 0.15);\n",
              "      fill: #174EA6;\n",
              "    }\n",
              "\n",
              "    .colab-df-buttons div {\n",
              "      margin-bottom: 4px;\n",
              "    }\n",
              "\n",
              "    [theme=dark] .colab-df-convert {\n",
              "      background-color: #3B4455;\n",
              "      fill: #D2E3FC;\n",
              "    }\n",
              "\n",
              "    [theme=dark] .colab-df-convert:hover {\n",
              "      background-color: #434B5C;\n",
              "      box-shadow: 0px 1px 3px 1px rgba(0, 0, 0, 0.15);\n",
              "      filter: drop-shadow(0px 1px 2px rgba(0, 0, 0, 0.3));\n",
              "      fill: #FFFFFF;\n",
              "    }\n",
              "  </style>\n",
              "\n",
              "    <script>\n",
              "      const buttonEl =\n",
              "        document.querySelector('#df-e7e4cff4-2f9b-4e96-bcd4-1f2bbdc81ab4 button.colab-df-convert');\n",
              "      buttonEl.style.display =\n",
              "        google.colab.kernel.accessAllowed ? 'block' : 'none';\n",
              "\n",
              "      async function convertToInteractive(key) {\n",
              "        const element = document.querySelector('#df-e7e4cff4-2f9b-4e96-bcd4-1f2bbdc81ab4');\n",
              "        const dataTable =\n",
              "          await google.colab.kernel.invokeFunction('convertToInteractive',\n",
              "                                                    [key], {});\n",
              "        if (!dataTable) return;\n",
              "\n",
              "        const docLinkHtml = 'Like what you see? Visit the ' +\n",
              "          '<a target=\"_blank\" href=https://colab.research.google.com/notebooks/data_table.ipynb>data table notebook</a>'\n",
              "          + ' to learn more about interactive tables.';\n",
              "        element.innerHTML = '';\n",
              "        dataTable['output_type'] = 'display_data';\n",
              "        await google.colab.output.renderOutput(dataTable, element);\n",
              "        const docLink = document.createElement('div');\n",
              "        docLink.innerHTML = docLinkHtml;\n",
              "        element.appendChild(docLink);\n",
              "      }\n",
              "    </script>\n",
              "  </div>\n",
              "\n",
              "\n",
              "<div id=\"df-d15f4a4e-35e8-4728-bdce-5de4a688799d\">\n",
              "  <button class=\"colab-df-quickchart\" onclick=\"quickchart('df-d15f4a4e-35e8-4728-bdce-5de4a688799d')\"\n",
              "            title=\"Suggest charts\"\n",
              "            style=\"display:none;\">\n",
              "\n",
              "<svg xmlns=\"http://www.w3.org/2000/svg\" height=\"24px\"viewBox=\"0 0 24 24\"\n",
              "     width=\"24px\">\n",
              "    <g>\n",
              "        <path d=\"M19 3H5c-1.1 0-2 .9-2 2v14c0 1.1.9 2 2 2h14c1.1 0 2-.9 2-2V5c0-1.1-.9-2-2-2zM9 17H7v-7h2v7zm4 0h-2V7h2v10zm4 0h-2v-4h2v4z\"/>\n",
              "    </g>\n",
              "</svg>\n",
              "  </button>\n",
              "\n",
              "<style>\n",
              "  .colab-df-quickchart {\n",
              "      --bg-color: #E8F0FE;\n",
              "      --fill-color: #1967D2;\n",
              "      --hover-bg-color: #E2EBFA;\n",
              "      --hover-fill-color: #174EA6;\n",
              "      --disabled-fill-color: #AAA;\n",
              "      --disabled-bg-color: #DDD;\n",
              "  }\n",
              "\n",
              "  [theme=dark] .colab-df-quickchart {\n",
              "      --bg-color: #3B4455;\n",
              "      --fill-color: #D2E3FC;\n",
              "      --hover-bg-color: #434B5C;\n",
              "      --hover-fill-color: #FFFFFF;\n",
              "      --disabled-bg-color: #3B4455;\n",
              "      --disabled-fill-color: #666;\n",
              "  }\n",
              "\n",
              "  .colab-df-quickchart {\n",
              "    background-color: var(--bg-color);\n",
              "    border: none;\n",
              "    border-radius: 50%;\n",
              "    cursor: pointer;\n",
              "    display: none;\n",
              "    fill: var(--fill-color);\n",
              "    height: 32px;\n",
              "    padding: 0;\n",
              "    width: 32px;\n",
              "  }\n",
              "\n",
              "  .colab-df-quickchart:hover {\n",
              "    background-color: var(--hover-bg-color);\n",
              "    box-shadow: 0 1px 2px rgba(60, 64, 67, 0.3), 0 1px 3px 1px rgba(60, 64, 67, 0.15);\n",
              "    fill: var(--button-hover-fill-color);\n",
              "  }\n",
              "\n",
              "  .colab-df-quickchart-complete:disabled,\n",
              "  .colab-df-quickchart-complete:disabled:hover {\n",
              "    background-color: var(--disabled-bg-color);\n",
              "    fill: var(--disabled-fill-color);\n",
              "    box-shadow: none;\n",
              "  }\n",
              "\n",
              "  .colab-df-spinner {\n",
              "    border: 2px solid var(--fill-color);\n",
              "    border-color: transparent;\n",
              "    border-bottom-color: var(--fill-color);\n",
              "    animation:\n",
              "      spin 1s steps(1) infinite;\n",
              "  }\n",
              "\n",
              "  @keyframes spin {\n",
              "    0% {\n",
              "      border-color: transparent;\n",
              "      border-bottom-color: var(--fill-color);\n",
              "      border-left-color: var(--fill-color);\n",
              "    }\n",
              "    20% {\n",
              "      border-color: transparent;\n",
              "      border-left-color: var(--fill-color);\n",
              "      border-top-color: var(--fill-color);\n",
              "    }\n",
              "    30% {\n",
              "      border-color: transparent;\n",
              "      border-left-color: var(--fill-color);\n",
              "      border-top-color: var(--fill-color);\n",
              "      border-right-color: var(--fill-color);\n",
              "    }\n",
              "    40% {\n",
              "      border-color: transparent;\n",
              "      border-right-color: var(--fill-color);\n",
              "      border-top-color: var(--fill-color);\n",
              "    }\n",
              "    60% {\n",
              "      border-color: transparent;\n",
              "      border-right-color: var(--fill-color);\n",
              "    }\n",
              "    80% {\n",
              "      border-color: transparent;\n",
              "      border-right-color: var(--fill-color);\n",
              "      border-bottom-color: var(--fill-color);\n",
              "    }\n",
              "    90% {\n",
              "      border-color: transparent;\n",
              "      border-bottom-color: var(--fill-color);\n",
              "    }\n",
              "  }\n",
              "</style>\n",
              "\n",
              "  <script>\n",
              "    async function quickchart(key) {\n",
              "      const quickchartButtonEl =\n",
              "        document.querySelector('#' + key + ' button');\n",
              "      quickchartButtonEl.disabled = true;  // To prevent multiple clicks.\n",
              "      quickchartButtonEl.classList.add('colab-df-spinner');\n",
              "      try {\n",
              "        const charts = await google.colab.kernel.invokeFunction(\n",
              "            'suggestCharts', [key], {});\n",
              "      } catch (error) {\n",
              "        console.error('Error during call to suggestCharts:', error);\n",
              "      }\n",
              "      quickchartButtonEl.classList.remove('colab-df-spinner');\n",
              "      quickchartButtonEl.classList.add('colab-df-quickchart-complete');\n",
              "    }\n",
              "    (() => {\n",
              "      let quickchartButtonEl =\n",
              "        document.querySelector('#df-d15f4a4e-35e8-4728-bdce-5de4a688799d button');\n",
              "      quickchartButtonEl.style.display =\n",
              "        google.colab.kernel.accessAllowed ? 'block' : 'none';\n",
              "    })();\n",
              "  </script>\n",
              "</div>\n",
              "\n",
              "    </div>\n",
              "  </div>\n"
            ],
            "text/plain": [
              "                                                text  label\n",
              "0                            i didnt feel humiliated      0\n",
              "1  i can go from feeling so hopeless to so damned...      0\n",
              "2   im grabbing a minute to post i feel greedy wrong      3\n",
              "3  i am ever feeling nostalgic about the fireplac...      2\n",
              "4                               i am feeling grouchy      3"
            ]
          },
          "execution_count": 22,
          "metadata": {},
          "output_type": "execute_result"
        }
      ],
      "source": [
        "import pandas as pd\n",
        "emotion_dataset.set_format(type='pandas')\n",
        "df = emotion_dataset['train'][:]\n",
        "df.head()"
      ]
    },
    {
      "cell_type": "code",
      "execution_count": 23,
      "metadata": {
        "colab": {
          "base_uri": "https://localhost:8080/",
          "height": 0
        },
        "id": "vPg7zA3rvOi2",
        "outputId": "134d10e9-25a5-4c4e-a984-0738e83719ca"
      },
      "outputs": [
        {
          "data": {
            "text/plain": [
              "Dataset({\n",
              "    features: ['text', 'label'],\n",
              "    num_rows: 16000\n",
              "})"
            ]
          },
          "execution_count": 23,
          "metadata": {},
          "output_type": "execute_result"
        }
      ],
      "source": [
        "emotion_dataset['train']"
      ]
    },
    {
      "cell_type": "code",
      "execution_count": 24,
      "metadata": {
        "colab": {
          "base_uri": "https://localhost:8080/",
          "height": 424
        },
        "id": "GQy5i3d8vWwk",
        "outputId": "8ff533f5-703b-4b3d-954b-ce4157db8da8"
      },
      "outputs": [
        {
          "data": {
            "application/vnd.google.colaboratory.intrinsic+json": {
              "summary": "{\n  \"name\": \"emotion_dataset['train'][:]\",\n  \"rows\": 16000,\n  \"fields\": [\n    {\n      \"column\": \"text\",\n      \"properties\": {\n        \"dtype\": \"string\",\n        \"num_unique_values\": 15969,\n        \"samples\": [\n          \"i feel rather imbicilic or at least complacent\",\n          \"i was in the bathroom i had sat down to pee it was to make me feel submissive again per instructions\",\n          \"i am thrilled with the way my skin and hair feel if you are like me you are skeptical\"\n        ],\n        \"semantic_type\": \"\",\n        \"description\": \"\"\n      }\n    },\n    {\n      \"column\": \"label\",\n      \"properties\": {\n        \"dtype\": \"number\",\n        \"std\": 1,\n        \"min\": 0,\n        \"max\": 5,\n        \"num_unique_values\": 6,\n        \"samples\": [\n          0,\n          3,\n          1\n        ],\n        \"semantic_type\": \"\",\n        \"description\": \"\"\n      }\n    }\n  ]\n}",
              "type": "dataframe"
            },
            "text/html": [
              "\n",
              "  <div id=\"df-01588dd8-1022-49d6-9580-b90f1829b4b2\" class=\"colab-df-container\">\n",
              "    <div>\n",
              "<style scoped>\n",
              "    .dataframe tbody tr th:only-of-type {\n",
              "        vertical-align: middle;\n",
              "    }\n",
              "\n",
              "    .dataframe tbody tr th {\n",
              "        vertical-align: top;\n",
              "    }\n",
              "\n",
              "    .dataframe thead th {\n",
              "        text-align: right;\n",
              "    }\n",
              "</style>\n",
              "<table border=\"1\" class=\"dataframe\">\n",
              "  <thead>\n",
              "    <tr style=\"text-align: right;\">\n",
              "      <th></th>\n",
              "      <th>text</th>\n",
              "      <th>label</th>\n",
              "    </tr>\n",
              "  </thead>\n",
              "  <tbody>\n",
              "    <tr>\n",
              "      <th>0</th>\n",
              "      <td>i didnt feel humiliated</td>\n",
              "      <td>0</td>\n",
              "    </tr>\n",
              "    <tr>\n",
              "      <th>1</th>\n",
              "      <td>i can go from feeling so hopeless to so damned...</td>\n",
              "      <td>0</td>\n",
              "    </tr>\n",
              "    <tr>\n",
              "      <th>2</th>\n",
              "      <td>im grabbing a minute to post i feel greedy wrong</td>\n",
              "      <td>3</td>\n",
              "    </tr>\n",
              "    <tr>\n",
              "      <th>3</th>\n",
              "      <td>i am ever feeling nostalgic about the fireplac...</td>\n",
              "      <td>2</td>\n",
              "    </tr>\n",
              "    <tr>\n",
              "      <th>4</th>\n",
              "      <td>i am feeling grouchy</td>\n",
              "      <td>3</td>\n",
              "    </tr>\n",
              "    <tr>\n",
              "      <th>...</th>\n",
              "      <td>...</td>\n",
              "      <td>...</td>\n",
              "    </tr>\n",
              "    <tr>\n",
              "      <th>15995</th>\n",
              "      <td>i just had a very brief time in the beanbag an...</td>\n",
              "      <td>0</td>\n",
              "    </tr>\n",
              "    <tr>\n",
              "      <th>15996</th>\n",
              "      <td>i am now turning and i feel pathetic that i am...</td>\n",
              "      <td>0</td>\n",
              "    </tr>\n",
              "    <tr>\n",
              "      <th>15997</th>\n",
              "      <td>i feel strong and good overall</td>\n",
              "      <td>1</td>\n",
              "    </tr>\n",
              "    <tr>\n",
              "      <th>15998</th>\n",
              "      <td>i feel like this was such a rude comment and i...</td>\n",
              "      <td>3</td>\n",
              "    </tr>\n",
              "    <tr>\n",
              "      <th>15999</th>\n",
              "      <td>i know a lot but i feel so stupid because i ca...</td>\n",
              "      <td>0</td>\n",
              "    </tr>\n",
              "  </tbody>\n",
              "</table>\n",
              "<p>16000 rows × 2 columns</p>\n",
              "</div>\n",
              "    <div class=\"colab-df-buttons\">\n",
              "\n",
              "  <div class=\"colab-df-container\">\n",
              "    <button class=\"colab-df-convert\" onclick=\"convertToInteractive('df-01588dd8-1022-49d6-9580-b90f1829b4b2')\"\n",
              "            title=\"Convert this dataframe to an interactive table.\"\n",
              "            style=\"display:none;\">\n",
              "\n",
              "  <svg xmlns=\"http://www.w3.org/2000/svg\" height=\"24px\" viewBox=\"0 -960 960 960\">\n",
              "    <path d=\"M120-120v-720h720v720H120Zm60-500h600v-160H180v160Zm220 220h160v-160H400v160Zm0 220h160v-160H400v160ZM180-400h160v-160H180v160Zm440 0h160v-160H620v160ZM180-180h160v-160H180v160Zm440 0h160v-160H620v160Z\"/>\n",
              "  </svg>\n",
              "    </button>\n",
              "\n",
              "  <style>\n",
              "    .colab-df-container {\n",
              "      display:flex;\n",
              "      gap: 12px;\n",
              "    }\n",
              "\n",
              "    .colab-df-convert {\n",
              "      background-color: #E8F0FE;\n",
              "      border: none;\n",
              "      border-radius: 50%;\n",
              "      cursor: pointer;\n",
              "      display: none;\n",
              "      fill: #1967D2;\n",
              "      height: 32px;\n",
              "      padding: 0 0 0 0;\n",
              "      width: 32px;\n",
              "    }\n",
              "\n",
              "    .colab-df-convert:hover {\n",
              "      background-color: #E2EBFA;\n",
              "      box-shadow: 0px 1px 2px rgba(60, 64, 67, 0.3), 0px 1px 3px 1px rgba(60, 64, 67, 0.15);\n",
              "      fill: #174EA6;\n",
              "    }\n",
              "\n",
              "    .colab-df-buttons div {\n",
              "      margin-bottom: 4px;\n",
              "    }\n",
              "\n",
              "    [theme=dark] .colab-df-convert {\n",
              "      background-color: #3B4455;\n",
              "      fill: #D2E3FC;\n",
              "    }\n",
              "\n",
              "    [theme=dark] .colab-df-convert:hover {\n",
              "      background-color: #434B5C;\n",
              "      box-shadow: 0px 1px 3px 1px rgba(0, 0, 0, 0.15);\n",
              "      filter: drop-shadow(0px 1px 2px rgba(0, 0, 0, 0.3));\n",
              "      fill: #FFFFFF;\n",
              "    }\n",
              "  </style>\n",
              "\n",
              "    <script>\n",
              "      const buttonEl =\n",
              "        document.querySelector('#df-01588dd8-1022-49d6-9580-b90f1829b4b2 button.colab-df-convert');\n",
              "      buttonEl.style.display =\n",
              "        google.colab.kernel.accessAllowed ? 'block' : 'none';\n",
              "\n",
              "      async function convertToInteractive(key) {\n",
              "        const element = document.querySelector('#df-01588dd8-1022-49d6-9580-b90f1829b4b2');\n",
              "        const dataTable =\n",
              "          await google.colab.kernel.invokeFunction('convertToInteractive',\n",
              "                                                    [key], {});\n",
              "        if (!dataTable) return;\n",
              "\n",
              "        const docLinkHtml = 'Like what you see? Visit the ' +\n",
              "          '<a target=\"_blank\" href=https://colab.research.google.com/notebooks/data_table.ipynb>data table notebook</a>'\n",
              "          + ' to learn more about interactive tables.';\n",
              "        element.innerHTML = '';\n",
              "        dataTable['output_type'] = 'display_data';\n",
              "        await google.colab.output.renderOutput(dataTable, element);\n",
              "        const docLink = document.createElement('div');\n",
              "        docLink.innerHTML = docLinkHtml;\n",
              "        element.appendChild(docLink);\n",
              "      }\n",
              "    </script>\n",
              "  </div>\n",
              "\n",
              "\n",
              "<div id=\"df-f949b18b-6ded-4666-95f1-db50ea48aafd\">\n",
              "  <button class=\"colab-df-quickchart\" onclick=\"quickchart('df-f949b18b-6ded-4666-95f1-db50ea48aafd')\"\n",
              "            title=\"Suggest charts\"\n",
              "            style=\"display:none;\">\n",
              "\n",
              "<svg xmlns=\"http://www.w3.org/2000/svg\" height=\"24px\"viewBox=\"0 0 24 24\"\n",
              "     width=\"24px\">\n",
              "    <g>\n",
              "        <path d=\"M19 3H5c-1.1 0-2 .9-2 2v14c0 1.1.9 2 2 2h14c1.1 0 2-.9 2-2V5c0-1.1-.9-2-2-2zM9 17H7v-7h2v7zm4 0h-2V7h2v10zm4 0h-2v-4h2v4z\"/>\n",
              "    </g>\n",
              "</svg>\n",
              "  </button>\n",
              "\n",
              "<style>\n",
              "  .colab-df-quickchart {\n",
              "      --bg-color: #E8F0FE;\n",
              "      --fill-color: #1967D2;\n",
              "      --hover-bg-color: #E2EBFA;\n",
              "      --hover-fill-color: #174EA6;\n",
              "      --disabled-fill-color: #AAA;\n",
              "      --disabled-bg-color: #DDD;\n",
              "  }\n",
              "\n",
              "  [theme=dark] .colab-df-quickchart {\n",
              "      --bg-color: #3B4455;\n",
              "      --fill-color: #D2E3FC;\n",
              "      --hover-bg-color: #434B5C;\n",
              "      --hover-fill-color: #FFFFFF;\n",
              "      --disabled-bg-color: #3B4455;\n",
              "      --disabled-fill-color: #666;\n",
              "  }\n",
              "\n",
              "  .colab-df-quickchart {\n",
              "    background-color: var(--bg-color);\n",
              "    border: none;\n",
              "    border-radius: 50%;\n",
              "    cursor: pointer;\n",
              "    display: none;\n",
              "    fill: var(--fill-color);\n",
              "    height: 32px;\n",
              "    padding: 0;\n",
              "    width: 32px;\n",
              "  }\n",
              "\n",
              "  .colab-df-quickchart:hover {\n",
              "    background-color: var(--hover-bg-color);\n",
              "    box-shadow: 0 1px 2px rgba(60, 64, 67, 0.3), 0 1px 3px 1px rgba(60, 64, 67, 0.15);\n",
              "    fill: var(--button-hover-fill-color);\n",
              "  }\n",
              "\n",
              "  .colab-df-quickchart-complete:disabled,\n",
              "  .colab-df-quickchart-complete:disabled:hover {\n",
              "    background-color: var(--disabled-bg-color);\n",
              "    fill: var(--disabled-fill-color);\n",
              "    box-shadow: none;\n",
              "  }\n",
              "\n",
              "  .colab-df-spinner {\n",
              "    border: 2px solid var(--fill-color);\n",
              "    border-color: transparent;\n",
              "    border-bottom-color: var(--fill-color);\n",
              "    animation:\n",
              "      spin 1s steps(1) infinite;\n",
              "  }\n",
              "\n",
              "  @keyframes spin {\n",
              "    0% {\n",
              "      border-color: transparent;\n",
              "      border-bottom-color: var(--fill-color);\n",
              "      border-left-color: var(--fill-color);\n",
              "    }\n",
              "    20% {\n",
              "      border-color: transparent;\n",
              "      border-left-color: var(--fill-color);\n",
              "      border-top-color: var(--fill-color);\n",
              "    }\n",
              "    30% {\n",
              "      border-color: transparent;\n",
              "      border-left-color: var(--fill-color);\n",
              "      border-top-color: var(--fill-color);\n",
              "      border-right-color: var(--fill-color);\n",
              "    }\n",
              "    40% {\n",
              "      border-color: transparent;\n",
              "      border-right-color: var(--fill-color);\n",
              "      border-top-color: var(--fill-color);\n",
              "    }\n",
              "    60% {\n",
              "      border-color: transparent;\n",
              "      border-right-color: var(--fill-color);\n",
              "    }\n",
              "    80% {\n",
              "      border-color: transparent;\n",
              "      border-right-color: var(--fill-color);\n",
              "      border-bottom-color: var(--fill-color);\n",
              "    }\n",
              "    90% {\n",
              "      border-color: transparent;\n",
              "      border-bottom-color: var(--fill-color);\n",
              "    }\n",
              "  }\n",
              "</style>\n",
              "\n",
              "  <script>\n",
              "    async function quickchart(key) {\n",
              "      const quickchartButtonEl =\n",
              "        document.querySelector('#' + key + ' button');\n",
              "      quickchartButtonEl.disabled = true;  // To prevent multiple clicks.\n",
              "      quickchartButtonEl.classList.add('colab-df-spinner');\n",
              "      try {\n",
              "        const charts = await google.colab.kernel.invokeFunction(\n",
              "            'suggestCharts', [key], {});\n",
              "      } catch (error) {\n",
              "        console.error('Error during call to suggestCharts:', error);\n",
              "      }\n",
              "      quickchartButtonEl.classList.remove('colab-df-spinner');\n",
              "      quickchartButtonEl.classList.add('colab-df-quickchart-complete');\n",
              "    }\n",
              "    (() => {\n",
              "      let quickchartButtonEl =\n",
              "        document.querySelector('#df-f949b18b-6ded-4666-95f1-db50ea48aafd button');\n",
              "      quickchartButtonEl.style.display =\n",
              "        google.colab.kernel.accessAllowed ? 'block' : 'none';\n",
              "    })();\n",
              "  </script>\n",
              "</div>\n",
              "\n",
              "    </div>\n",
              "  </div>\n"
            ],
            "text/plain": [
              "                                                    text  label\n",
              "0                                i didnt feel humiliated      0\n",
              "1      i can go from feeling so hopeless to so damned...      0\n",
              "2       im grabbing a minute to post i feel greedy wrong      3\n",
              "3      i am ever feeling nostalgic about the fireplac...      2\n",
              "4                                   i am feeling grouchy      3\n",
              "...                                                  ...    ...\n",
              "15995  i just had a very brief time in the beanbag an...      0\n",
              "15996  i am now turning and i feel pathetic that i am...      0\n",
              "15997                     i feel strong and good overall      1\n",
              "15998  i feel like this was such a rude comment and i...      3\n",
              "15999  i know a lot but i feel so stupid because i ca...      0\n",
              "\n",
              "[16000 rows x 2 columns]"
            ]
          },
          "execution_count": 24,
          "metadata": {},
          "output_type": "execute_result"
        }
      ],
      "source": [
        "emotion_dataset['train'][:]"
      ]
    },
    {
      "cell_type": "code",
      "execution_count": 25,
      "metadata": {
        "colab": {
          "base_uri": "https://localhost:8080/",
          "height": 35
        },
        "id": "jYBLWyy9vYRB",
        "outputId": "336b9353-8587-4c46-aba7-c97e2f68f3eb"
      },
      "outputs": [
        {
          "data": {
            "application/vnd.google.colaboratory.intrinsic+json": {
              "type": "string"
            },
            "text/plain": [
              "'sadness'"
            ]
          },
          "execution_count": 25,
          "metadata": {},
          "output_type": "execute_result"
        }
      ],
      "source": [
        "emotion_dataset['train'].features['label'].int2str(0)"
      ]
    },
    {
      "cell_type": "markdown",
      "metadata": {
        "id": "Mb2YVOruvcfw"
      },
      "source": [
        "**The int2str()**<br><br>\n",
        "\n",
        "\n",
        " method is used to convert integer indices back to string labels. It's particularly useful when dealing with classification tasks where labels are represented as integers but you want to convert them back to their original string representations."
      ]
    },
    {
      "cell_type": "code",
      "execution_count": 26,
      "metadata": {
        "colab": {
          "base_uri": "https://localhost:8080/",
          "height": 35
        },
        "id": "qbY6_5c1vaUH",
        "outputId": "5aa7d673-7342-46b9-c4b5-a6c25ed9385b"
      },
      "outputs": [
        {
          "data": {
            "application/vnd.google.colaboratory.intrinsic+json": {
              "type": "string"
            },
            "text/plain": [
              "'joy'"
            ]
          },
          "execution_count": 26,
          "metadata": {},
          "output_type": "execute_result"
        }
      ],
      "source": [
        "emotion_dataset['train'].features['label'].int2str(1)"
      ]
    },
    {
      "cell_type": "code",
      "execution_count": 27,
      "metadata": {
        "colab": {
          "base_uri": "https://localhost:8080/",
          "height": 206
        },
        "id": "Xa5GIq8Nvf2X",
        "outputId": "e541315e-fa03-4c2b-a359-d27c4f26d028"
      },
      "outputs": [
        {
          "data": {
            "application/vnd.google.colaboratory.intrinsic+json": {
              "summary": "{\n  \"name\": \"df\",\n  \"rows\": 16000,\n  \"fields\": [\n    {\n      \"column\": \"text\",\n      \"properties\": {\n        \"dtype\": \"string\",\n        \"num_unique_values\": 15969,\n        \"samples\": [\n          \"i feel rather imbicilic or at least complacent\",\n          \"i was in the bathroom i had sat down to pee it was to make me feel submissive again per instructions\",\n          \"i am thrilled with the way my skin and hair feel if you are like me you are skeptical\"\n        ],\n        \"semantic_type\": \"\",\n        \"description\": \"\"\n      }\n    },\n    {\n      \"column\": \"label\",\n      \"properties\": {\n        \"dtype\": \"number\",\n        \"std\": 1,\n        \"min\": 0,\n        \"max\": 5,\n        \"num_unique_values\": 6,\n        \"samples\": [\n          0,\n          3,\n          1\n        ],\n        \"semantic_type\": \"\",\n        \"description\": \"\"\n      }\n    },\n    {\n      \"column\": \"labels_name\",\n      \"properties\": {\n        \"dtype\": \"category\",\n        \"num_unique_values\": 6,\n        \"samples\": [\n          \"sadness\",\n          \"anger\",\n          \"joy\"\n        ],\n        \"semantic_type\": \"\",\n        \"description\": \"\"\n      }\n    }\n  ]\n}",
              "type": "dataframe",
              "variable_name": "df"
            },
            "text/html": [
              "\n",
              "  <div id=\"df-e89f75a8-328f-48e2-8ec2-15761015f37c\" class=\"colab-df-container\">\n",
              "    <div>\n",
              "<style scoped>\n",
              "    .dataframe tbody tr th:only-of-type {\n",
              "        vertical-align: middle;\n",
              "    }\n",
              "\n",
              "    .dataframe tbody tr th {\n",
              "        vertical-align: top;\n",
              "    }\n",
              "\n",
              "    .dataframe thead th {\n",
              "        text-align: right;\n",
              "    }\n",
              "</style>\n",
              "<table border=\"1\" class=\"dataframe\">\n",
              "  <thead>\n",
              "    <tr style=\"text-align: right;\">\n",
              "      <th></th>\n",
              "      <th>text</th>\n",
              "      <th>label</th>\n",
              "      <th>labels_name</th>\n",
              "    </tr>\n",
              "  </thead>\n",
              "  <tbody>\n",
              "    <tr>\n",
              "      <th>0</th>\n",
              "      <td>i didnt feel humiliated</td>\n",
              "      <td>0</td>\n",
              "      <td>sadness</td>\n",
              "    </tr>\n",
              "    <tr>\n",
              "      <th>1</th>\n",
              "      <td>i can go from feeling so hopeless to so damned...</td>\n",
              "      <td>0</td>\n",
              "      <td>sadness</td>\n",
              "    </tr>\n",
              "    <tr>\n",
              "      <th>2</th>\n",
              "      <td>im grabbing a minute to post i feel greedy wrong</td>\n",
              "      <td>3</td>\n",
              "      <td>anger</td>\n",
              "    </tr>\n",
              "    <tr>\n",
              "      <th>3</th>\n",
              "      <td>i am ever feeling nostalgic about the fireplac...</td>\n",
              "      <td>2</td>\n",
              "      <td>love</td>\n",
              "    </tr>\n",
              "    <tr>\n",
              "      <th>4</th>\n",
              "      <td>i am feeling grouchy</td>\n",
              "      <td>3</td>\n",
              "      <td>anger</td>\n",
              "    </tr>\n",
              "  </tbody>\n",
              "</table>\n",
              "</div>\n",
              "    <div class=\"colab-df-buttons\">\n",
              "\n",
              "  <div class=\"colab-df-container\">\n",
              "    <button class=\"colab-df-convert\" onclick=\"convertToInteractive('df-e89f75a8-328f-48e2-8ec2-15761015f37c')\"\n",
              "            title=\"Convert this dataframe to an interactive table.\"\n",
              "            style=\"display:none;\">\n",
              "\n",
              "  <svg xmlns=\"http://www.w3.org/2000/svg\" height=\"24px\" viewBox=\"0 -960 960 960\">\n",
              "    <path d=\"M120-120v-720h720v720H120Zm60-500h600v-160H180v160Zm220 220h160v-160H400v160Zm0 220h160v-160H400v160ZM180-400h160v-160H180v160Zm440 0h160v-160H620v160ZM180-180h160v-160H180v160Zm440 0h160v-160H620v160Z\"/>\n",
              "  </svg>\n",
              "    </button>\n",
              "\n",
              "  <style>\n",
              "    .colab-df-container {\n",
              "      display:flex;\n",
              "      gap: 12px;\n",
              "    }\n",
              "\n",
              "    .colab-df-convert {\n",
              "      background-color: #E8F0FE;\n",
              "      border: none;\n",
              "      border-radius: 50%;\n",
              "      cursor: pointer;\n",
              "      display: none;\n",
              "      fill: #1967D2;\n",
              "      height: 32px;\n",
              "      padding: 0 0 0 0;\n",
              "      width: 32px;\n",
              "    }\n",
              "\n",
              "    .colab-df-convert:hover {\n",
              "      background-color: #E2EBFA;\n",
              "      box-shadow: 0px 1px 2px rgba(60, 64, 67, 0.3), 0px 1px 3px 1px rgba(60, 64, 67, 0.15);\n",
              "      fill: #174EA6;\n",
              "    }\n",
              "\n",
              "    .colab-df-buttons div {\n",
              "      margin-bottom: 4px;\n",
              "    }\n",
              "\n",
              "    [theme=dark] .colab-df-convert {\n",
              "      background-color: #3B4455;\n",
              "      fill: #D2E3FC;\n",
              "    }\n",
              "\n",
              "    [theme=dark] .colab-df-convert:hover {\n",
              "      background-color: #434B5C;\n",
              "      box-shadow: 0px 1px 3px 1px rgba(0, 0, 0, 0.15);\n",
              "      filter: drop-shadow(0px 1px 2px rgba(0, 0, 0, 0.3));\n",
              "      fill: #FFFFFF;\n",
              "    }\n",
              "  </style>\n",
              "\n",
              "    <script>\n",
              "      const buttonEl =\n",
              "        document.querySelector('#df-e89f75a8-328f-48e2-8ec2-15761015f37c button.colab-df-convert');\n",
              "      buttonEl.style.display =\n",
              "        google.colab.kernel.accessAllowed ? 'block' : 'none';\n",
              "\n",
              "      async function convertToInteractive(key) {\n",
              "        const element = document.querySelector('#df-e89f75a8-328f-48e2-8ec2-15761015f37c');\n",
              "        const dataTable =\n",
              "          await google.colab.kernel.invokeFunction('convertToInteractive',\n",
              "                                                    [key], {});\n",
              "        if (!dataTable) return;\n",
              "\n",
              "        const docLinkHtml = 'Like what you see? Visit the ' +\n",
              "          '<a target=\"_blank\" href=https://colab.research.google.com/notebooks/data_table.ipynb>data table notebook</a>'\n",
              "          + ' to learn more about interactive tables.';\n",
              "        element.innerHTML = '';\n",
              "        dataTable['output_type'] = 'display_data';\n",
              "        await google.colab.output.renderOutput(dataTable, element);\n",
              "        const docLink = document.createElement('div');\n",
              "        docLink.innerHTML = docLinkHtml;\n",
              "        element.appendChild(docLink);\n",
              "      }\n",
              "    </script>\n",
              "  </div>\n",
              "\n",
              "\n",
              "<div id=\"df-68295ada-4a79-4489-b927-c6e150d868b0\">\n",
              "  <button class=\"colab-df-quickchart\" onclick=\"quickchart('df-68295ada-4a79-4489-b927-c6e150d868b0')\"\n",
              "            title=\"Suggest charts\"\n",
              "            style=\"display:none;\">\n",
              "\n",
              "<svg xmlns=\"http://www.w3.org/2000/svg\" height=\"24px\"viewBox=\"0 0 24 24\"\n",
              "     width=\"24px\">\n",
              "    <g>\n",
              "        <path d=\"M19 3H5c-1.1 0-2 .9-2 2v14c0 1.1.9 2 2 2h14c1.1 0 2-.9 2-2V5c0-1.1-.9-2-2-2zM9 17H7v-7h2v7zm4 0h-2V7h2v10zm4 0h-2v-4h2v4z\"/>\n",
              "    </g>\n",
              "</svg>\n",
              "  </button>\n",
              "\n",
              "<style>\n",
              "  .colab-df-quickchart {\n",
              "      --bg-color: #E8F0FE;\n",
              "      --fill-color: #1967D2;\n",
              "      --hover-bg-color: #E2EBFA;\n",
              "      --hover-fill-color: #174EA6;\n",
              "      --disabled-fill-color: #AAA;\n",
              "      --disabled-bg-color: #DDD;\n",
              "  }\n",
              "\n",
              "  [theme=dark] .colab-df-quickchart {\n",
              "      --bg-color: #3B4455;\n",
              "      --fill-color: #D2E3FC;\n",
              "      --hover-bg-color: #434B5C;\n",
              "      --hover-fill-color: #FFFFFF;\n",
              "      --disabled-bg-color: #3B4455;\n",
              "      --disabled-fill-color: #666;\n",
              "  }\n",
              "\n",
              "  .colab-df-quickchart {\n",
              "    background-color: var(--bg-color);\n",
              "    border: none;\n",
              "    border-radius: 50%;\n",
              "    cursor: pointer;\n",
              "    display: none;\n",
              "    fill: var(--fill-color);\n",
              "    height: 32px;\n",
              "    padding: 0;\n",
              "    width: 32px;\n",
              "  }\n",
              "\n",
              "  .colab-df-quickchart:hover {\n",
              "    background-color: var(--hover-bg-color);\n",
              "    box-shadow: 0 1px 2px rgba(60, 64, 67, 0.3), 0 1px 3px 1px rgba(60, 64, 67, 0.15);\n",
              "    fill: var(--button-hover-fill-color);\n",
              "  }\n",
              "\n",
              "  .colab-df-quickchart-complete:disabled,\n",
              "  .colab-df-quickchart-complete:disabled:hover {\n",
              "    background-color: var(--disabled-bg-color);\n",
              "    fill: var(--disabled-fill-color);\n",
              "    box-shadow: none;\n",
              "  }\n",
              "\n",
              "  .colab-df-spinner {\n",
              "    border: 2px solid var(--fill-color);\n",
              "    border-color: transparent;\n",
              "    border-bottom-color: var(--fill-color);\n",
              "    animation:\n",
              "      spin 1s steps(1) infinite;\n",
              "  }\n",
              "\n",
              "  @keyframes spin {\n",
              "    0% {\n",
              "      border-color: transparent;\n",
              "      border-bottom-color: var(--fill-color);\n",
              "      border-left-color: var(--fill-color);\n",
              "    }\n",
              "    20% {\n",
              "      border-color: transparent;\n",
              "      border-left-color: var(--fill-color);\n",
              "      border-top-color: var(--fill-color);\n",
              "    }\n",
              "    30% {\n",
              "      border-color: transparent;\n",
              "      border-left-color: var(--fill-color);\n",
              "      border-top-color: var(--fill-color);\n",
              "      border-right-color: var(--fill-color);\n",
              "    }\n",
              "    40% {\n",
              "      border-color: transparent;\n",
              "      border-right-color: var(--fill-color);\n",
              "      border-top-color: var(--fill-color);\n",
              "    }\n",
              "    60% {\n",
              "      border-color: transparent;\n",
              "      border-right-color: var(--fill-color);\n",
              "    }\n",
              "    80% {\n",
              "      border-color: transparent;\n",
              "      border-right-color: var(--fill-color);\n",
              "      border-bottom-color: var(--fill-color);\n",
              "    }\n",
              "    90% {\n",
              "      border-color: transparent;\n",
              "      border-bottom-color: var(--fill-color);\n",
              "    }\n",
              "  }\n",
              "</style>\n",
              "\n",
              "  <script>\n",
              "    async function quickchart(key) {\n",
              "      const quickchartButtonEl =\n",
              "        document.querySelector('#' + key + ' button');\n",
              "      quickchartButtonEl.disabled = true;  // To prevent multiple clicks.\n",
              "      quickchartButtonEl.classList.add('colab-df-spinner');\n",
              "      try {\n",
              "        const charts = await google.colab.kernel.invokeFunction(\n",
              "            'suggestCharts', [key], {});\n",
              "      } catch (error) {\n",
              "        console.error('Error during call to suggestCharts:', error);\n",
              "      }\n",
              "      quickchartButtonEl.classList.remove('colab-df-spinner');\n",
              "      quickchartButtonEl.classList.add('colab-df-quickchart-complete');\n",
              "    }\n",
              "    (() => {\n",
              "      let quickchartButtonEl =\n",
              "        document.querySelector('#df-68295ada-4a79-4489-b927-c6e150d868b0 button');\n",
              "      quickchartButtonEl.style.display =\n",
              "        google.colab.kernel.accessAllowed ? 'block' : 'none';\n",
              "    })();\n",
              "  </script>\n",
              "</div>\n",
              "\n",
              "    </div>\n",
              "  </div>\n"
            ],
            "text/plain": [
              "                                                text  label labels_name\n",
              "0                            i didnt feel humiliated      0     sadness\n",
              "1  i can go from feeling so hopeless to so damned...      0     sadness\n",
              "2   im grabbing a minute to post i feel greedy wrong      3       anger\n",
              "3  i am ever feeling nostalgic about the fireplac...      2        love\n",
              "4                               i am feeling grouchy      3       anger"
            ]
          },
          "execution_count": 27,
          "metadata": {},
          "output_type": "execute_result"
        }
      ],
      "source": [
        "def label_to_str(row):\n",
        "  return emotion_dataset['train'].features['label'].int2str(row)\n",
        "\n",
        "df['labels_name'] = df['label'].apply(label_to_str)\n",
        "df.head()"
      ]
    },
    {
      "cell_type": "code",
      "execution_count": 28,
      "metadata": {
        "id": "g921FXVuvhvH"
      },
      "outputs": [],
      "source": [
        "emotion_dataset.reset_format()   #Hugging Face datasets library, such as the DatasetDict"
      ]
    },
    {
      "cell_type": "markdown",
      "metadata": {
        "id": "-1IhkX2Lvlo9"
      },
      "source": [
        "# Tokenization - Character tokenization\n",
        "# Tokenization - Word tokenization\n",
        "# Goal --> Find a way to effienctly perform the tokenization - Subword Tokenization"
      ]
    },
    {
      "cell_type": "code",
      "execution_count": 29,
      "metadata": {
        "colab": {
          "base_uri": "https://localhost:8080/",
          "height": 145,
          "referenced_widgets": [
            "e9f4fd3853464628a51238f8f887efaf",
            "5c2054a41d184dd8ba9edbfb03ee58a0",
            "fc966b63d5ed4da4863e921c7970e414",
            "7d8f474318be4898abaa3f08750a30f7",
            "cb8fc566557b466e88dcd7e581869d0b",
            "054c3886c7a14622abfc0136b6658401",
            "20d562f7f76b4ceeb862660957c1a7a7",
            "f0ef68275c0e4cb4a6c542ac94dc515a",
            "625ab34150744c7684f3502b1350420c",
            "c59719f594dd43c38f1da9fc3a613938",
            "1a24506a11634aee8ef0d85d12ecb3c6",
            "e580acc8204643a8a8c8f774f501029c",
            "bee6f85d2ae64f1d8a8a97d7b051cf75",
            "1c6e78b85a174b21b8337a6767fdbe30",
            "7f45938787a142938c39966b8d5c23a9",
            "df1a91f1d4e1486f84be29ec8f9e4e92",
            "435acd65e4704773a3bee9124500eb2d",
            "80c056083c054e0ab556bbc38742353a",
            "a1a5e2f917f84f359e4170e066bab9c5",
            "487097e028924c36a57fd0c664fb08e2",
            "2dab15f25a7c495fb8f05f7442ee0e94",
            "6fa35e944409454fa6597b0c426d90be",
            "1cad528964de46969e1e275c24fe0bc5",
            "943c640f4e7c489c9cf879299044aa5a",
            "3298aac50c534fa2acf49b2bcecd6bc6",
            "52f77561340c4a718feba0a804402a1d",
            "37ff75a841664c8aa41bb6342e20cc8c",
            "17a4dbcf721c4ce0b941bc4e383b7e33",
            "28b4f8c1e38c48c1aacdf33c92834552",
            "cdf69374c56b40708f722fca010f9779",
            "f8801a2759f94c138701fb5e7727ff05",
            "6f74a41170154c46855b5823ba64934a",
            "41ff7cdb0834408c865d38768330b019",
            "d9931f6fca6c4ec380bf9e2f955ebbe3",
            "3683886409e14d05b3e112542558918b",
            "d88c6387f7064925b53983032b08253a",
            "ae59bd3f68154204a346e3b82668c5f8",
            "38c38ec3917a46fab353819e317e4c40",
            "16a7363b56cf432990ea75bad7768107",
            "a44215b290e644338178e8ad83f0b2fa",
            "6e2b2d8e8bb740d58bfc35c40817c25e",
            "c711815022d34e08be1e355c2342ac90",
            "4c8f6179f3ef40eea9932d675d0500f3",
            "d069de31c5494fa2b32967633c1102b4"
          ]
        },
        "id": "U3Esb55FvjeK",
        "outputId": "0a17c90a-e57a-4336-857b-afd9fa463a57"
      },
      "outputs": [
        {
          "data": {
            "application/vnd.jupyter.widget-view+json": {
              "model_id": "e9f4fd3853464628a51238f8f887efaf",
              "version_major": 2,
              "version_minor": 0
            },
            "text/plain": [
              "tokenizer_config.json:   0%|          | 0.00/28.0 [00:00<?, ?B/s]"
            ]
          },
          "metadata": {},
          "output_type": "display_data"
        },
        {
          "data": {
            "application/vnd.jupyter.widget-view+json": {
              "model_id": "e580acc8204643a8a8c8f774f501029c",
              "version_major": 2,
              "version_minor": 0
            },
            "text/plain": [
              "config.json:   0%|          | 0.00/483 [00:00<?, ?B/s]"
            ]
          },
          "metadata": {},
          "output_type": "display_data"
        },
        {
          "data": {
            "application/vnd.jupyter.widget-view+json": {
              "model_id": "1cad528964de46969e1e275c24fe0bc5",
              "version_major": 2,
              "version_minor": 0
            },
            "text/plain": [
              "vocab.txt:   0%|          | 0.00/232k [00:00<?, ?B/s]"
            ]
          },
          "metadata": {},
          "output_type": "display_data"
        },
        {
          "data": {
            "application/vnd.jupyter.widget-view+json": {
              "model_id": "d9931f6fca6c4ec380bf9e2f955ebbe3",
              "version_major": 2,
              "version_minor": 0
            },
            "text/plain": [
              "tokenizer.json:   0%|          | 0.00/466k [00:00<?, ?B/s]"
            ]
          },
          "metadata": {},
          "output_type": "display_data"
        }
      ],
      "source": [
        "from transformers import AutoTokenizer\n",
        "model = 'distilbert-base-uncased'\n",
        "tokenizer = AutoTokenizer.from_pretrained(model)"
      ]
    },
    {
      "cell_type": "code",
      "execution_count": 30,
      "metadata": {
        "colab": {
          "base_uri": "https://localhost:8080/",
          "height": 0
        },
        "id": "DcljU1LVvo66",
        "outputId": "1f743e29-d9f2-49d2-eefb-452b26b48036"
      },
      "outputs": [
        {
          "name": "stdout",
          "output_type": "stream",
          "text": [
            "{'input_ids': [101, 2026, 5440, 2833, 2003, 16137, 7911, 9998, 2050, 102], 'attention_mask': [1, 1, 1, 1, 1, 1, 1, 1, 1, 1]}\n"
          ]
        }
      ],
      "source": [
        "text = \"My favorite food is Masala Dosa\"\n",
        "encoded_text = tokenizer(text)\n",
        "print(encoded_text)"
      ]
    },
    {
      "cell_type": "markdown",
      "metadata": {
        "id": "4XriqepUvuQD"
      },
      "source": [
        "- input_ids: This is a list of token IDs representing the input text after tokenization. Each token in the input text is mapped to a corresponding ID from the model's vocabulary. Here's what each ID represents:\n",
        "\n",
        "- 101: This is the special token [CLS], which stands for \"classification\" and is added at the beginning of the input sequence.\n",
        "- 2026: The token ID for the word \"My\".\n",
        "- 5440: The token ID for the word \"favorite\".\n",
        "- 2833: The token ID for the word \"food\".\n",
        "- 2003: The token ID for the word \"is\".\n",
        "- 16137: The token ID for the subword \"mas\".\n",
        "- 7911: The token ID for the subword \"##ala\".\n",
        "- 9998: The token ID for the subword \"dos\".\n",
        "- 2050: The token ID for the subword '##a'\n",
        "- 102: This is another instance of the special token [SEP], indicating the end of the sequence.\n",
        "- attention_mask: This is a list indicating which tokens in the input sequence should be attended to (have their attention scores calculated) and which ones should be ignored. In this case, all tokens have an attention mask value of 1, indicating that they should all be attended to."
      ]
    },
    {
      "cell_type": "markdown",
      "metadata": {
        "id": "HaL83dvKvxG_"
      },
      "source": [
        "**[CLS] stands for \"classification\"**\n",
        "\n",
        "\n",
        "- The special token [CLS] stands for \"classification\" and is added at the beginning of the input sequence specifically for tasks that involve classification or sequence labeling, such as sentiment analysis, text classification, or named entity recognition. Its main purpose is to provide a representation of the entire input sequence that can be used for classification tasks.\n",
        "\n",
        "- When training a model for classification tasks using techniques like BERT, the model typically receives a single vector representation of the entire input sequence. The [CLS] token's position is chosen because it always appears in the same position in every input sequence, making it a consistent representation to use for classification purposes<br><br>\n",
        "\n",
        "\n",
        "**[SEP] Token (ID 102):**\n",
        "\n",
        "- The [SEP] token is indeed a separator token used to mark the end of a sequence or to separate segments within a sequence.\n",
        "- It's added at the end of each input sequence to indicate the end of the sequence.\n",
        "- In tasks like sentence classification or question answering, where there's only one input sequence, a single [SEP] token is added at the end to denote the end of that sequence.\n",
        "\n",
        "\n",
        "\n"
      ]
    },
    {
      "cell_type": "code",
      "execution_count": 31,
      "metadata": {
        "colab": {
          "base_uri": "https://localhost:8080/",
          "height": 221
        },
        "id": "jAQUiWALvrB9",
        "outputId": "cb8a66d6-0b8e-47de-8360-a1e02060ce98"
      },
      "outputs": [
        {
          "data": {
            "text/html": [
              "<div style=\"max-width:800px; border: 1px solid var(--colab-border-color);\"><style>\n",
              "      pre.function-repr-contents {\n",
              "        overflow-x: auto;\n",
              "        padding: 8px 12px;\n",
              "        max-height: 500px;\n",
              "      }\n",
              "\n",
              "      pre.function-repr-contents.function-repr-contents-collapsed {\n",
              "        cursor: pointer;\n",
              "        max-height: 100px;\n",
              "      }\n",
              "    </style>\n",
              "    <pre style=\"white-space: initial; background:\n",
              "         var(--colab-secondary-surface-color); padding: 8px 12px;\n",
              "         border-bottom: 1px solid var(--colab-border-color);\"><b>transformers.tokenization_utils_base.BatchEncoding</b><br/>def __init__(data: Optional[Dict[str, Any]]=None, encoding: Optional[Union[EncodingFast, Sequence[EncodingFast]]]=None, tensor_type: Union[None, str, TensorType]=None, prepend_batch_axis: bool=False, n_sequences: Optional[int]=None)</pre><pre class=\"function-repr-contents function-repr-contents-collapsed\" style=\"\"><a class=\"filepath\" style=\"display:none\" href=\"#\">/usr/local/lib/python3.10/dist-packages/transformers/tokenization_utils_base.py</a>Holds the output of the [`~tokenization_utils_base.PreTrainedTokenizerBase.__call__`],\n",
              "[`~tokenization_utils_base.PreTrainedTokenizerBase.encode_plus`] and\n",
              "[`~tokenization_utils_base.PreTrainedTokenizerBase.batch_encode_plus`] methods (tokens, attention_masks, etc).\n",
              "\n",
              "This class is derived from a python dictionary and can be used as a dictionary. In addition, this class exposes\n",
              "utility methods to map from word/character space to token space.\n",
              "\n",
              "Args:\n",
              "    data (`dict`, *optional*):\n",
              "        Dictionary of lists/arrays/tensors returned by the `__call__`/`encode_plus`/`batch_encode_plus` methods\n",
              "        (&#x27;input_ids&#x27;, &#x27;attention_mask&#x27;, etc.).\n",
              "    encoding (`tokenizers.Encoding` or `Sequence[tokenizers.Encoding]`, *optional*):\n",
              "        If the tokenizer is a fast tokenizer which outputs additional information like mapping from word/character\n",
              "        space to token space the `tokenizers.Encoding` instance or list of instance (for batches) hold this\n",
              "        information.\n",
              "    tensor_type (`Union[None, str, TensorType]`, *optional*):\n",
              "        You can give a tensor_type here to convert the lists of integers in PyTorch/TensorFlow/Numpy Tensors at\n",
              "        initialization.\n",
              "    prepend_batch_axis (`bool`, *optional*, defaults to `False`):\n",
              "        Whether or not to add a batch axis when converting to tensors (see `tensor_type` above).\n",
              "    n_sequences (`Optional[int]`, *optional*):\n",
              "        You can give a tensor_type here to convert the lists of integers in PyTorch/TensorFlow/Numpy Tensors at\n",
              "        initialization.</pre>\n",
              "      <script>\n",
              "      if (google.colab.kernel.accessAllowed && google.colab.files && google.colab.files.view) {\n",
              "        for (const element of document.querySelectorAll('.filepath')) {\n",
              "          element.style.display = 'block'\n",
              "          element.onclick = (event) => {\n",
              "            event.preventDefault();\n",
              "            event.stopPropagation();\n",
              "            google.colab.files.view(element.textContent, 176);\n",
              "          };\n",
              "        }\n",
              "      }\n",
              "      for (const element of document.querySelectorAll('.function-repr-contents')) {\n",
              "        element.onclick = (event) => {\n",
              "          event.preventDefault();\n",
              "          event.stopPropagation();\n",
              "          element.classList.toggle('function-repr-contents-collapsed');\n",
              "        };\n",
              "      }\n",
              "      </script>\n",
              "      </div>"
            ],
            "text/plain": [
              "transformers.tokenization_utils_base.BatchEncoding"
            ]
          },
          "execution_count": 31,
          "metadata": {},
          "output_type": "execute_result"
        }
      ],
      "source": [
        "type(encoded_text)"
      ]
    },
    {
      "cell_type": "markdown",
      "metadata": {
        "id": "wvYDWamrv1Vm"
      },
      "source": [
        "**transformers:**\n",
        "\n",
        "This is the namespace or package where the class tokenization_utils_base is defined. In the context of Hugging Face's Transformers library, this is where the tokenization-related utilities are implemented.<br><br>\n",
        "\n",
        "**tokenization_utils_base:**\n",
        "\n",
        "\n",
        "This is a module within the Transformers library that contains base classes and utilities for tokenization. It provides the foundation for various tokenization-related functionalities.<br><br>\n",
        "\n",
        "**BatchEncoding:**\n",
        "\n",
        "This is the specific class or type of object returned by the tokenizer when encoding a batch of input sequences. It represents a batch of encoded sequences and typically contains attributes such as input_ids, attention_mask, and other relevant information about the encoded batch."
      ]
    },
    {
      "cell_type": "markdown",
      "metadata": {
        "id": "vWAQjkb7v3lB"
      },
      "source": []
    },
    {
      "cell_type": "code",
      "execution_count": 32,
      "metadata": {
        "colab": {
          "base_uri": "https://localhost:8080/",
          "height": 0
        },
        "id": "P0Jy_STqvzoX",
        "outputId": "36b4e001-26ee-4f41-cd69-1d3de570f407"
      },
      "outputs": [
        {
          "name": "stdout",
          "output_type": "stream",
          "text": [
            "['[CLS]', 'my', 'favorite', 'food', 'is', 'mas', '##ala', 'dos', '##a', '[SEP]']\n"
          ]
        }
      ],
      "source": [
        "tokens = tokenizer.convert_ids_to_tokens(encoded_text.input_ids)\n",
        "print(tokens)"
      ]
    },
    {
      "cell_type": "code",
      "execution_count": 33,
      "metadata": {
        "colab": {
          "base_uri": "https://localhost:8080/",
          "height": 35
        },
        "id": "_uiOj7cRv7GQ",
        "outputId": "cb815f68-a7d6-43d6-eae4-c9258757064e"
      },
      "outputs": [
        {
          "data": {
            "application/vnd.google.colaboratory.intrinsic+json": {
              "type": "string"
            },
            "text/plain": [
              "'[CLS] my favorite food is masala dosa [SEP]'"
            ]
          },
          "execution_count": 33,
          "metadata": {},
          "output_type": "execute_result"
        }
      ],
      "source": [
        "tokenizer.convert_tokens_to_string(tokens)"
      ]
    },
    {
      "cell_type": "code",
      "execution_count": 34,
      "metadata": {
        "colab": {
          "base_uri": "https://localhost:8080/",
          "height": 0
        },
        "id": "RThyN0v0v-Hf",
        "outputId": "3ada9415-b968-4a22-8062-71cf52a73a5f"
      },
      "outputs": [
        {
          "data": {
            "text/plain": [
              "30522"
            ]
          },
          "execution_count": 34,
          "metadata": {},
          "output_type": "execute_result"
        }
      ],
      "source": [
        "tokenizer.vocab_size"
      ]
    },
    {
      "cell_type": "code",
      "execution_count": 35,
      "metadata": {
        "colab": {
          "base_uri": "https://localhost:8080/",
          "height": 0
        },
        "id": "cmpYYG2FwARM",
        "outputId": "9160c52d-3b0e-492a-a975-a1120f849790"
      },
      "outputs": [
        {
          "data": {
            "text/plain": [
              "512"
            ]
          },
          "execution_count": 35,
          "metadata": {},
          "output_type": "execute_result"
        }
      ],
      "source": [
        "tokenizer.model_max_length"
      ]
    },
    {
      "cell_type": "code",
      "execution_count": 36,
      "metadata": {
        "colab": {
          "base_uri": "https://localhost:8080/",
          "height": 0
        },
        "id": "zXpAmVWhwCGO",
        "outputId": "99246014-07c8-47ac-af63-2e1c750ba0e3"
      },
      "outputs": [
        {
          "data": {
            "text/plain": [
              "['input_ids', 'attention_mask']"
            ]
          },
          "execution_count": 36,
          "metadata": {},
          "output_type": "execute_result"
        }
      ],
      "source": [
        "tokenizer.model_input_names"
      ]
    },
    {
      "cell_type": "markdown",
      "metadata": {
        "id": "khh-Pz8CwFVy"
      },
      "source": [
        "## **TOKENIZATION ON DATASET**"
      ]
    },
    {
      "cell_type": "code",
      "execution_count": 37,
      "metadata": {
        "colab": {
          "base_uri": "https://localhost:8080/",
          "height": 0
        },
        "id": "c7FDyThTwDZt",
        "outputId": "19fed9d1-c10e-4887-c6b3-bb9e7a602c14"
      },
      "outputs": [
        {
          "data": {
            "text/plain": [
              "{'text': ['i didnt feel humiliated',\n",
              "  'i can go from feeling so hopeless to so damned hopeful just from being around someone who cares and is awake'],\n",
              " 'label': [0, 0]}"
            ]
          },
          "execution_count": 37,
          "metadata": {},
          "output_type": "execute_result"
        }
      ],
      "source": [
        "emotion_dataset['train'][:2]"
      ]
    },
    {
      "cell_type": "code",
      "execution_count": 38,
      "metadata": {
        "colab": {
          "base_uri": "https://localhost:8080/",
          "height": 0
        },
        "id": "Ed5Jr4MywHzn",
        "outputId": "5c58ac13-d4f0-432c-ebbb-39948a89a54d"
      },
      "outputs": [
        {
          "data": {
            "text/plain": [
              "{'input_ids': [[101, 1045, 2134, 2102, 2514, 26608, 102, 0, 0, 0, 0, 0, 0, 0, 0, 0, 0, 0, 0, 0, 0, 0, 0], [101, 1045, 2064, 2175, 2013, 3110, 2061, 20625, 2000, 2061, 9636, 17772, 2074, 2013, 2108, 2105, 2619, 2040, 14977, 1998, 2003, 8300, 102]], 'attention_mask': [[1, 1, 1, 1, 1, 1, 1, 0, 0, 0, 0, 0, 0, 0, 0, 0, 0, 0, 0, 0, 0, 0, 0], [1, 1, 1, 1, 1, 1, 1, 1, 1, 1, 1, 1, 1, 1, 1, 1, 1, 1, 1, 1, 1, 1, 1]]}"
            ]
          },
          "execution_count": 38,
          "metadata": {},
          "output_type": "execute_result"
        }
      ],
      "source": [
        "def tokenization(batch):\n",
        "  return tokenizer(batch['text'], padding=True, truncation=True)\n",
        "\n",
        "tokenization(emotion_dataset['train'][:2])"
      ]
    },
    {
      "cell_type": "markdown",
      "metadata": {
        "id": "sJRdmV4MwL5w"
      },
      "source": [
        "- {'input_ids': [[101, 1045, 2134, 2102, 2514, 26608, 102, 0, 0, 0, 0, 0, 0, 0, 0, 0, 0, 0, 0, 0, 0, 0, 0],\n",
        "- [101, 1045, 2064, 2175, 2013, 3110, 2061, 20625, 2000, 2061, 9636, 17772, 2074, 2013, 2108, 2105, 2619, 2040, 14977, 1998, 2003, 8300, 102]],\n",
        "- 'attention_mask': [[1, 1, 1, 1, 1, 1, 1, 0, 0, 0, 0, 0, 0, 0, 0, 0, 0, 0, 0, 0, 0, 0, 0],\n",
        "- [1, 1, 1, 1, 1, 1, 1, 1, 1, 1, 1, 1, 1, 1, 1, 1, 1, 1, 1, 1, 1, 1, 1]]}\n"
      ]
    },
    {
      "cell_type": "code",
      "execution_count": null,
      "metadata": {
        "id": "mfBHP-NDwJO4"
      },
      "outputs": [],
      "source": [
        "emotions_encoded = emotion_dataset.map(tokenization, batched=True, batch_size=None)\n",
        "emotions_encoded"
      ]
    },
    {
      "cell_type": "markdown",
      "metadata": {
        "id": "IytUblwDwRJ2"
      },
      "source": [
        "# **HuggingFace Models**"
      ]
    },
    {
      "cell_type": "markdown",
      "metadata": {
        "id": "WEd3jMMmwTiJ"
      },
      "source": [
        "**BitsAndBytes:**\n",
        "\n",
        "The bitsandbytes library is a Python library developed by OpenAI for efficient data serialization and deserialization.<br><br>\n",
        "\n",
        "**Here's how it works:**\n",
        "\n",
        "- Original List: [10, 20, 30, 40, 50]<br><br>\n",
        "- Serialized Form: 10 20 30 40 50<br><br>\n",
        "- In the serialized form, each number is represented as a string of characters separated by spaces. This representation may look shorter compared to the original list, but in terms of memory or storage size, it may not necessarily be shorter.<br><br>\n",
        "\n",
        "- The primary benefit of serialization with bitsandbytes is not to make the data physically shorter but to convert it into a format that is easier to handle, transmit, or store, especially when dealing with complex data structures or when interoperating with other systems.<br><br>\n",
        "\n",
        "\n",
        "\n",
        "**Accelerate:**<br><br>\n",
        "\n",
        "- Suppose you're training a deep learning model to recognize images. This process involves lots of complex calculations.<br><br>\n",
        "- With accelerate, you can harness the power of specialized hardware like GPUs (Graphics Processing Units) to speed up these calculations.<br><br>\n",
        "- For example, if it takes 10 hours to train your model on a regular computer, accelerate might reduce it to just 2 hours on a GPU.<br><br>\n",
        "- Similarly, when you're running your trained model to make predictions, accelerate helps make those predictions faster, which is crucial for real-time applications like video processing or natural language understanding.<br><br>\n",
        "In summary, bitsandbytes helps with data compression and decompression, while accelerate boosts the performance of deep learning tasks by leveraging specialized hardware."
      ]
    },
    {
      "cell_type": "code",
      "execution_count": null,
      "metadata": {
        "id": "dQkmEFMGwN7B"
      },
      "outputs": [],
      "source": [
        "!pip install accelerate"
      ]
    },
    {
      "cell_type": "markdown",
      "metadata": {
        "id": "Z0D04KVbwZxz"
      },
      "source": [
        "# Mixtral-8x22B-v0.1"
      ]
    },
    {
      "cell_type": "markdown",
      "metadata": {
        "id": "0K6NHVHgwcuF"
      },
      "source": [
        "- \"8x22\" indicates that the model consists of 8 layers of 22 blocks each.\n",
        "- \"B\" typically represents billion parameters, suggesting that the model has a large number of parameters.\n",
        "- Now, let's discuss the concept of a Mixture of Experts (MoE) and how it's trained:\n",
        "\n",
        "- Mixture of Experts (MoE):\n",
        "\n",
        "- A Mixture of Experts is a neural network architecture that consists of multiple subnetworks called \"experts\" working in parallel, along with a gating mechanism that learns to dynamically select which expert to use for a given input. Each expert specializes in different aspects of the data, and the gating mechanism determines the relevance or importance of each expert for a particular input.\n",
        "\n",
        "- In the context of language modeling, each expert might specialize in generating specific types of text, such as formal language, informal language, technical jargon, etc.\n",
        "\n",
        "- Training Process:\n",
        "\n",
        "- Expert Training: Initially, each expert in the MoE is trained independently on the data. This allows each expert to specialize in different aspects of the data.\n",
        "\n",
        "- Gating Network Training: Simultaneously, the gating network is trained to learn how to dynamically combine the outputs of the experts based on the input data. The gating network's goal is to select the most relevant expert for each input.\n",
        "\n",
        "- Joint Training: After training the experts and the gating network separately, the entire MoE model is fine-tuned jointly. During this joint training, the parameters of both the experts and the gating network are updated together to optimize the overall performance of the model.\n",
        "\n",
        "- Example:\n",
        "\n",
        "- Consider a language generation task where the input is a prompt, and the model is tasked with generating a coherent continuation of the prompt.\n",
        "\n",
        "- Expert Networks: The MoE might consist of experts trained on different genres of text, such as news articles, fiction, scientific papers, etc.\n",
        "\n",
        "- Gating Mechanism: The gating network learns to identify the genre or style of the input prompt and dynamically selects the expert best suited to generate text in that style.\n",
        "\n",
        "- Training: During training, the MoE is fed a variety of prompts from different genres, and the parameters of both the experts and the gating network are adjusted to minimize the generation loss across all inputs.\n",
        "\n",
        "- Overall, the Mixture of Experts architecture enables the model to leverage the strengths of multiple specialized subnetworks, resulting in improved performance and versatility across different types of data."
      ]
    },
    {
      "cell_type": "markdown",
      "metadata": {
        "id": "YssQhzFawhLi"
      },
      "source": [
        "# Mixture of Experts Model Working with example"
      ]
    },
    {
      "cell_type": "markdown",
      "metadata": {
        "id": "SA9Y-BBrwjO9"
      },
      "source": [
        "- Imagine you're planning a big event, like a party, and you need to organize various activities for different groups of guests. You decide to hire a team of experts, each specializing in a different aspect of event planning:\n",
        "\n",
        "- Food Expert:\n",
        "  This expert knows all about cooking and catering delicious meals.\n",
        "\n",
        "- Music Expert:\n",
        "  This expert specializes in creating playlists and setting up sound systems for entertainment.\n",
        "\n",
        "- Decoration Expert:\n",
        "  This expert is skilled at designing and decorating the venue to create a festive atmosphere.\n",
        "\n",
        "- Entertainment Expert:\n",
        "  This expert arranges games, performances, and other activities to keep guests entertained.\n",
        "\n",
        "- Now, here's how the MoE architecture works:\n",
        "\n",
        "- Expert Training:\n",
        "  Each expert receives specialized training in their respective area. The food expert learns recipes, the music expert curates playlists, the decoration expert hones their design skills, and the entertainment expert plans fun activities.\n",
        "\n",
        "- Gating Mechanism:\n",
        "  You, as the event organizer, act as the gating mechanism. Based on the preferences and interests of your guests, you dynamically select which expert to consult for each aspect of the event. For example, if you have guests who love dancing, you might prioritize the music expert and choose lively playlists.\n",
        "\n",
        "- Joint Training:\n",
        "  As you plan the event, you interact with the experts and fine-tune the details. You might adjust the menu based on dietary preferences, tweak the playlist to suit different moods, and personalize the decorations to match the theme. This collaborative process optimizes the overall event experience.\n",
        "\n",
        "  - In summary, the MoE model architecture combines the expertise of specialized subnetworks (the experts) with a dynamic selection mechanism (the gating mechanism) to optimize performance across different tasks or domains. By leveraging the strengths of multiple experts, the MoE can adapt to diverse inputs and produce high-quality outputs tailored to specific needs.\n",
        "\n",
        "\n",
        "\n",
        "\n",
        "\n",
        "\n"
      ]
    },
    {
      "cell_type": "markdown",
      "metadata": {
        "id": "C0w9ajP3wmhd"
      },
      "source": [
        "# Take too much space more than 200gb (estimated)"
      ]
    },
    {
      "cell_type": "code",
      "execution_count": null,
      "metadata": {
        "id": "XLTocS95wXIu"
      },
      "outputs": [],
      "source": [
        "from transformers import AutoModelForCausalLM, AutoTokenizer\n",
        "\n",
        "model_id = \"mistral-community/Mixtral-8x22B-v0.1\"\n",
        "tokenizer = AutoTokenizer.from_pretrained(model_id)\n",
        "\n",
        "\n",
        "model = AutoModelForCausalLM.from_pretrained(model_id)\n",
        "\n",
        "text = \"Hello my name is\"\n",
        "inputs = tokenizer(text, return_tensors=\"pt\")\n",
        "\n",
        "outputs = model.generate(**inputs, max_new_tokens=20)\n",
        "print(tokenizer.decode(outputs[0], skip_special_tokens=True))\n"
      ]
    },
    {
      "cell_type": "markdown",
      "metadata": {
        "id": "jd78E7NEwqf2"
      },
      "source": [
        "**AutoModelForCausalLM and AutoTokenizer**<br><br>\n",
        "These are classes provided by the Hugging Face transformers library. They are used to simplify the process of loading and using pre-trained language models and tokenizers.<br><br>\n",
        "\n",
        "**AutoModelForCausalLM:**\n",
        "\n",
        "- This class is used to load pre-trained language models that are specifically designed for causal language modeling tasks.<br><br>\n",
        "- Causal language modeling is a type of language modeling where the model predicts the next token in a sequence given the preceding tokens. It is commonly used for tasks like text generation and completion.<br><br>\n",
        "- By using AutoModelForCausalLM, you can easily load a pre-trained model suitable for causal language modeling without worrying about the specific model architecture or configuration.<br><br>\n",
        "\n",
        "\n",
        "**AutoTokenizer:**<br><br>\n",
        "\n",
        "- This class is used to load pre-trained tokenizers that are compatible with specific language models.<br><br>\n",
        "- Tokenizers are used to preprocess text data into tokens that can be fed into a language model.<br><br>\n",
        "- The AutoTokenizer class automatically selects the appropriate tokenizer based on the specified model_id."
      ]
    },
    {
      "cell_type": "markdown",
      "metadata": {
        "id": "blYRTj0Qwsrc"
      },
      "source": [
        "1.  **Table Question Answering from Tasks**\n",
        "\n",
        "\n"
      ]
    },
    {
      "cell_type": "code",
      "execution_count": 42,
      "metadata": {
        "id": "N7seXZQayyCd"
      },
      "outputs": [],
      "source": [
        "from transformers import pipeline\n",
        "import pandas as pd\n"
      ]
    },
    {
      "cell_type": "code",
      "execution_count": 43,
      "metadata": {
        "id": "vgNvRs9_y6b6"
      },
      "outputs": [],
      "source": [
        "\n",
        "# prepare table + question\n",
        "data = {\"Actors\": [\"Brad Pitt\", \"Leonardo Di Caprio\", \"George Clooney\"], \"Number of movies\":\n",
        " [\"87\", \"53\", \"69\"]}\n",
        "table = pd.DataFrame.from_dict(data)\n",
        "question = \"how many movies does Leonardo Di Caprio have?\"\n",
        "\n"
      ]
    },
    {
      "cell_type": "code",
      "execution_count": null,
      "metadata": {
        "id": "T5HxNKNhy-dn"
      },
      "outputs": [],
      "source": [
        "\n",
        "# pipeline model\n",
        "# Note: you must to install torch-scatter first.\n",
        "tqa = pipeline(task=\"table-question-answering\", model=\"google/tapas-large-finetuned-wtq\")\n",
        "\n"
      ]
    },
    {
      "cell_type": "code",
      "execution_count": 45,
      "metadata": {
        "colab": {
          "base_uri": "https://localhost:8080/",
          "height": 0
        },
        "id": "Px74I3T4zB8j",
        "outputId": "eb5487f8-2a3b-49ac-aa7c-59bdecd56efb"
      },
      "outputs": [
        {
          "name": "stdout",
          "output_type": "stream",
          "text": [
            "53\n"
          ]
        }
      ],
      "source": [
        "# result\n",
        "\n",
        "print(tqa(table=table, query=question)['cells'][0])\n",
        "#53"
      ]
    },
    {
      "cell_type": "code",
      "execution_count": 46,
      "metadata": {
        "colab": {
          "base_uri": "https://localhost:8080/",
          "height": 0
        },
        "id": "Ko0rtSICwvEY",
        "outputId": "2c5bc006-fbaa-4525-9c3c-844c2af06a93"
      },
      "outputs": [
        {
          "name": "stdout",
          "output_type": "stream",
          "text": [
            "87\n"
          ]
        }
      ],
      "source": [
        "print(tqa(table=table, query=\"bradd pitt movies\")['cells'][0])"
      ]
    },
    {
      "cell_type": "markdown",
      "metadata": {
        "id": "_ATY7mGnwyqm"
      },
      "source": [
        "2.  **Document-Question-Answering from Tasks**"
      ]
    },
    {
      "cell_type": "code",
      "execution_count": 54,
      "metadata": {
        "colab": {
          "base_uri": "https://localhost:8080/",
          "height": 0
        },
        "id": "b_UfckgwwyFT",
        "outputId": "98619a00-a682-4708-d309-ce2b57867a92"
      },
      "outputs": [
        {
          "data": {
            "text/plain": [
              "[{'answer': 'inc42'}]"
            ]
          },
          "execution_count": 54,
          "metadata": {},
          "output_type": "execute_result"
        }
      ],
      "source": [
        "from transformers import pipeline\n",
        "from PIL import Image\n",
        "\n",
        "pipe = pipeline(\"document-question-answering\", model=\"naver-clova-ix/donut-base-finetuned-docvqa\")\n",
        "\n",
        "question = \"What is the purchase amount?\"\n",
        "image = Image.open(\"/content/Bollywood.jpg\")\n",
        "\n",
        "pipe(image=image, question=question)\n",
        "\n",
        "\n"
      ]
    },
    {
      "cell_type": "markdown",
      "metadata": {
        "id": "l_8u5IKhw6Ys"
      },
      "source": [
        "## **Evaluation Metrics**"
      ]
    },
    {
      "cell_type": "markdown",
      "metadata": {
        "id": "iFiOWySOw9DJ"
      },
      "source": [
        "# Bert Score\n",
        "\n",
        "BERTScore is a metric used for evaluating the quality of text generated by language models. It measures how similar the generated text (predictions) is to the reference text.<br><br>\n",
        "\n",
        "Here's a simpler breakdown:<br><br>\n",
        "\n",
        "**What it measures:**<br><br>\n",
        "\n",
        "- BERTScore calculates a score for each token in the generated text (predictions) by comparing it to each token in the reference text. It uses pre-trained language models like BERT to understand the context of the words.<br><br>\n",
        "\n",
        "**How it works:**<br><br>\n",
        "\n",
        "- BERTScore looks at each word in the generated text and finds the most similar word in the reference text using cosine similarity. It then calculates precision, recall, and F1 score based on these similarities.\n",
        "\n",
        "**What it tells us:**<br><br>\n",
        "\n",
        "- The precision score tells us how many words in the generated text match words in the reference text. The recall score tells us how many words in the reference text are captured by the generated text. The F1 score is a combination of precision and recall, providing an overall measure of similarity.<br><br>\n",
        "\n",
        "**Usage:** <br><br>\n",
        "- BERTScore can be used to compare different language generation models, evaluate the quality of machine translation, text summarization, and other natural language processing tasks.\n",
        "\n",
        "In summary, BERTScore is a metric that measures the similarity between generated text and reference text, providing insight into the quality of language generation models. It's a useful tool for evaluating and comparing different text generation techniques."
      ]
    },
    {
      "cell_type": "code",
      "execution_count": null,
      "metadata": {
        "id": "VgagO1HYw7Bc"
      },
      "outputs": [],
      "source": [
        "# Install the bert_score library\n",
        "!pip install bert_score\n",
        "\n",
        "# Import the necessary functions\n",
        "from bert_score import score\n",
        "\n",
        "# Prepare your predictions and references\n",
        "predictions = [\"hello world\", \"general kenobi\"]\n",
        "references = [\"hello world\", \"general kenobi\"]\n",
        "\n",
        "# Compute BERTScore specifying the language (English)\n",
        "precision, recall, f1 = score(predictions, references, lang=\"en\")\n",
        "\n",
        "# Print the results\n",
        "print(\"Precision:\", precision)\n",
        "print(\"Recall:\", recall)\n",
        "print(\"F1 Score:\", f1)\n"
      ]
    },
    {
      "cell_type": "code",
      "execution_count": null,
      "metadata": {
        "id": "RB3SNK3-xD01"
      },
      "outputs": [],
      "source": [
        "!pip install evaluate"
      ]
    },
    {
      "cell_type": "code",
      "execution_count": 51,
      "metadata": {
        "colab": {
          "base_uri": "https://localhost:8080/",
          "height": 415,
          "referenced_widgets": [
            "ac9001abe6734bf490462e806522e9d3",
            "4589cf9d65dc419aa8b75366d5d13c5d",
            "6dcf4bccaecf454b884a0798894fc2f0",
            "46a94e143c944c59801fbddff4a686d4",
            "fd7bd63a76b0458ca08ce75c703d1533",
            "233feaafecc1400b856309fe744bc991",
            "b365c7ae86674b9aab14adac1e4bee92",
            "a3438c0add8c45a3af5d414c75b13117",
            "958cbb4b9d3048e7b9cd96f184aff89e",
            "35e119768ae14488a4a5984a47c0e8fb",
            "cde14f2656044b7e89f113b2c8c01710",
            "b299310ff1264930bde9df29d5489d6d",
            "0e703bfd1e4243dbb5712de38d594be4",
            "fe34e38ec02a4e1e9d22eb5a5da0f355",
            "ca45fc8c471041aba2990d968ce50f62",
            "d947f768351247f1bed9e27a4d8edf39",
            "8fc42c8fde484efb97fd544f0f145dab"
          ]
        },
        "id": "l3twUFdZxHJw",
        "outputId": "637d1217-bff2-45b7-fda8-c82dad979180"
      },
      "outputs": [
        {
          "data": {
            "application/vnd.jupyter.widget-view+json": {
              "model_id": "ac9001abe6734bf490462e806522e9d3",
              "version_major": 2,
              "version_minor": 0
            },
            "text/plain": [
              "VBox(children=(HTML(value='<center> <img\\nsrc=https://huggingface.co/front/assets/huggingface_logo-noborder.sv…"
            ]
          },
          "metadata": {},
          "output_type": "display_data"
        }
      ],
      "source": [
        "from huggingface_hub import notebook_login\n",
        "\n",
        "notebook_login()"
      ]
    },
    {
      "cell_type": "code",
      "execution_count": 52,
      "metadata": {
        "colab": {
          "base_uri": "https://localhost:8080/",
          "height": 104,
          "referenced_widgets": [
            "b6a6e9bd403a46b1aa64a3c07638736e",
            "e7906889f382472d93d0e79197adbafe",
            "0c31d948ae0b43e1981e2c751438bed5",
            "d277a1fbe45d4a65b98ff21a0f7e7d54",
            "d28aeb84542b475cb03b9555d7160243",
            "1b9c57c85a224d0899cf225911e7202f",
            "182e2aac306e46b1884838827e8b6b40",
            "17cd12d21dbe4b62887f40c1afecf4d2",
            "4be63112731c48fabf6831707e44ddd3",
            "11ee10a555654f0ab9e6427b76434415",
            "3fbef34aa739472db620ca88cc56319e"
          ]
        },
        "id": "YQAyZKSIxJVE",
        "outputId": "f8ee618f-5b6a-4442-cacd-3aa5849fe955"
      },
      "outputs": [
        {
          "data": {
            "application/vnd.jupyter.widget-view+json": {
              "model_id": "b6a6e9bd403a46b1aa64a3c07638736e",
              "version_major": 2,
              "version_minor": 0
            },
            "text/plain": [
              "Downloading builder script:   0%|          | 0.00/7.95k [00:00<?, ?B/s]"
            ]
          },
          "metadata": {},
          "output_type": "display_data"
        },
        {
          "name": "stderr",
          "output_type": "stream",
          "text": [
            "Some weights of RobertaModel were not initialized from the model checkpoint at roberta-large and are newly initialized: ['roberta.pooler.dense.bias', 'roberta.pooler.dense.weight']\n",
            "You should probably TRAIN this model on a down-stream task to be able to use it for predictions and inference.\n"
          ]
        }
      ],
      "source": [
        "from evaluate import load\n",
        "bertscore = load(\"bertscore\")\n",
        "predictions = [\"hello there\", \"general kenobi\"]\n",
        "references = [\"hello there\", \"general kenobi\"]\n",
        "results = bertscore.compute(predictions=predictions, references=references, lang=\"en\")"
      ]
    },
    {
      "cell_type": "markdown",
      "metadata": {
        "id": "80saHbhJxL_Z"
      },
      "source": [
        "# BLEU (Bilingual Evaluation Understudy):\n",
        "\n",
        "**What it measures:**<br><br>\n",
        "\n",
        "- BLEU is a metric used to evaluate the quality of machine-translated text by comparing it to human translations. It measures how closely the machine-generated text matches the human reference translations.<br><br>\n",
        "\n",
        "**How it works:**<br><br>\n",
        "\n",
        "- Segmentation:\n",
        " - BLEU first divides the candidate translation (machine-generated text) and reference translations (human-generated text) into segments, usually sentences.\n",
        "\n",
        "- N-gram matching:\n",
        "  - It then compares each segment of the candidate translation to the corresponding segments in the reference translations. BLEU considers the overlap of n-grams (contiguous sequences of n words) between the candidate and reference translations.\n",
        "\n",
        "- Precision calculation:\n",
        "  - For each n-gram size, BLEU calculates precision, which measures the proportion of n-grams in the candidate translation that appear in the reference translations.\n",
        "\n",
        "- Brevity penalty:\n",
        "  - BLEU also penalizes translations that are shorter than the reference translations to prevent shorter translations from receiving artificially high scores.\n",
        "\n",
        "- BLEU score:\n",
        "  - Finally, BLEU combines the precision scores for different n-gram sizes using a geometric mean and applies the brevity penalty to compute the overall BLEU score\n",
        "\n",
        "**Scoring range:**<br><br>\n",
        "- BLEU scores range from 0 to 1, where a score closer to 1 indicates a better match between the machine-generated and human-translated texts. A score of 1 means the machine translation is identical to a human translation.<br><br>\n",
        "\n",
        "**Usage:**<br><br>\n",
        "- BLEU is commonly used for evaluating machine translation systems. It helps researchers and developers assess the quality of their translation models and make improvements.<br><br>\n",
        "\n",
        "In summary, BLEU provides a quantitative measure of the quality of machine translations by comparing them to human translations. Higher BLEU scores indicate better quality translations. It's a widely-used and cost-effective metric for assessing translation performance.\n",
        "\n",
        "\n",
        "\n",
        "\n",
        "\n"
      ]
    },
    {
      "cell_type": "code",
      "execution_count": 53,
      "metadata": {
        "colab": {
          "base_uri": "https://localhost:8080/",
          "height": 0
        },
        "id": "4a0fBqzdxOqY",
        "outputId": "320185fb-8581-4262-bd26-36ff045eef21"
      },
      "outputs": [
        {
          "name": "stdout",
          "output_type": "stream",
          "text": [
            "BLEU Score: 1.491668146240062e-154\n"
          ]
        },
        {
          "name": "stderr",
          "output_type": "stream",
          "text": [
            "/usr/local/lib/python3.10/dist-packages/nltk/translate/bleu_score.py:552: UserWarning: \n",
            "The hypothesis contains 0 counts of 3-gram overlaps.\n",
            "Therefore the BLEU score evaluates to 0, independently of\n",
            "how many N-gram overlaps of lower order it contains.\n",
            "Consider using lower n-gram order or use SmoothingFunction()\n",
            "  warnings.warn(_msg)\n",
            "/usr/local/lib/python3.10/dist-packages/nltk/translate/bleu_score.py:552: UserWarning: \n",
            "The hypothesis contains 0 counts of 4-gram overlaps.\n",
            "Therefore the BLEU score evaluates to 0, independently of\n",
            "how many N-gram overlaps of lower order it contains.\n",
            "Consider using lower n-gram order or use SmoothingFunction()\n",
            "  warnings.warn(_msg)\n"
          ]
        }
      ],
      "source": [
        "import nltk\n",
        "from nltk.translate.bleu_score import sentence_bleu\n",
        "\n",
        "# Define candidate and reference sentences\n",
        "candidate = \"hello world\"\n",
        "reference = [\"hello world\", \"general kenobi\"]\n",
        "\n",
        "# Tokenize candidate and reference sentences\n",
        "candidate_tokens = candidate.split()\n",
        "reference_tokens = [ref.split() for ref in reference]\n",
        "\n",
        "# Calculate BLEU score\n",
        "bleu_score = sentence_bleu(reference_tokens, candidate_tokens)\n",
        "\n",
        "# Print BLEU score\n",
        "print(\"BLEU Score:\", bleu_score)\n"
      ]
    },
    {
      "cell_type": "markdown",
      "metadata": {
        "id": "6kEg6wmVxR5Z"
      },
      "source": [
        "# GLUE (General Language Understanding Evaluation)\n",
        "\n",
        "- GLUE, or General Language Understanding Evaluation, is a test used to measure how well a machine understands human language. It includes different datasets to evaluate various aspects of language understanding.<br><br>\n",
        "\n",
        "To use GLUE:<br><br>\n",
        "\n",
        "**Load the relevant metric:**<br><br>\n",
        "\n",
        "- Depending on which part of GLUE you're testing against, you load the corresponding metric.<br><br>\n",
        "\n",
        "**Calculate the metric:**<br><br>\n",
        "\n",
        "- Once loaded, provide your model's predictions and the reference answers. The metric then computes scores like accuracy or correlation."
      ]
    },
    {
      "cell_type": "markdown",
      "metadata": {
        "id": "LmtYxDOLxU9B"
      },
      "source": [
        "**For example, if you're testing on a subset called MRPC, which checks accuracy and F1 score:**\n",
        "\n",
        "from evaluate import load\n",
        "\n",
        "###### #Load the GLUE metric for the MRPC subset\n",
        "glue_metric = load('glue', 'mrpc')\n",
        "\n",
        "###### # Prepare your predictions and references\n",
        "predictions = [0, 1]\n",
        "references = [0, 1]\n",
        "\n",
        "###### # Compute the GLUE score\n",
        "results = glue_metric.compute(predictions=predictions, references=references)\n",
        "\n",
        "###### # Print the results\n",
        "print(results)\n",
        "\n",
        "\n",
        "**For STSB, which checks Pearson and Spearman correlations:**\n",
        "\n",
        "\n",
        "from evaluate import load\n",
        "\n",
        "###### # Load the GLUE metric for the STSB subset\n",
        "glue_metric = load('glue', 'stsb')\n",
        "\n",
        "###### # Prepare your predictions and references\n",
        "predictions = [-10., -11., -12., -13., -14., -15.]\n",
        "references = [0., 1., 2., 3., 4., 5.]\n",
        "\n",
        "###### # Compute the GLUE score\n",
        "results = glue_metric.compute(predictions=predictions, references=references)\n",
        "\n",
        "###### # Print the results\n",
        "print(results)\n"
      ]
    },
    {
      "cell_type": "markdown",
      "metadata": {
        "id": "5U7X4N0DxX0D"
      },
      "source": [
        "# PERPEXILITY\n",
        "\n",
        " Imagine you have a language model, like GPT-2, which has been trained on a large corpus of text data. Perplexity measures how well this model predicts a sequence of words.\n",
        "\n",
        " Let's say we have a simple sentence: \"The cat sat on the mat.\" Now, the model tries to predict each word in this sentence based on the context of the previous words.\n",
        "\n",
        " Word Prediction: For each word in the sentence, the model predicts the probability distribution of the next word. For example:\n",
        "\n",
        " For \"The\", the model predicts the probability of \"cat\", \"dog\", \"house\", etc.\n",
        " For \"cat\", it predicts the probability of \"sat\", \"jumped\", \"ate\", etc.\n",
        " And so on for each word in the sentence.\n",
        " Perplexity Calculation: Perplexity calculates how surprised the model is by the actual words in the sequence. If the model is very confident in its predictions, the perplexity is low. If it's unsure and assigns similar probabilities to multiple words, the perplexity is high.\n",
        "\n",
        " Here's how it works:\n",
        "\n",
        " For each word in the sequence, the model assigns a probability to the actual word that appears next.\n",
        " Perplexity is the geometric mean of the inverse probabilities of the actual words. In simpler terms, it's like asking: \"How surprised was the model by the actual sequence of words?\"\n",
        "  Let's say the model's predictions for our sentence are as follows:\n",
        "\n",
        "  \"The\" -> \"cat\" (with probability 0.8)\n",
        "  \"cat\" -> \"sat\" (with probability 0.7)\n",
        "  \"sat\" -> \"on\" (with probability 0.6)\n",
        "  \"on\" -> \"the\" (with probability 0.9)\n",
        "  \"the\" -> \"mat\" (with probability 0.8)\n",
        "  To calculate perplexity:\n",
        "\n",
        "  Inverse the probabilities: 1/0.8, 1/0.7, 1/0.6, 1/0.9, 1/0.8.\n",
        "  Calculate the geometric mean of these inverse probabilities.\n",
        "  The result is the perplexity score.\n",
        "  The lower the perplexity, the better the model's predictions match the actual sequence of words. In our example, if the perplexity is around 1, it means the model was very confident and not surprised by the actual sequence. If it's higher, it means the model was more uncertain about its predictions.\n",
        "\n",
        "\n",
        "\n",
        "\n",
        "\n",
        "\n"
      ]
    },
    {
      "cell_type": "code",
      "execution_count": null,
      "metadata": {
        "id": "O7_BChWaA4z8"
      },
      "outputs": [],
      "source": []
    }
  ],
  "metadata": {
    "accelerator": "GPU",
    "colab": {
      "gpuType": "T4",
      "provenance": []
    },
    "kernelspec": {
      "display_name": "Python 3",
      "name": "python3"
    },
    "language_info": {
      "name": "python"
    },
    "widgets": {
      "application/vnd.jupyter.widget-state+json": {
        "054c3886c7a14622abfc0136b6658401": {
          "model_module": "@jupyter-widgets/base",
          "model_module_version": "1.2.0",
          "model_name": "LayoutModel",
          "state": {
            "_model_module": "@jupyter-widgets/base",
            "_model_module_version": "1.2.0",
            "_model_name": "LayoutModel",
            "_view_count": null,
            "_view_module": "@jupyter-widgets/base",
            "_view_module_version": "1.2.0",
            "_view_name": "LayoutView",
            "align_content": null,
            "align_items": null,
            "align_self": null,
            "border": null,
            "bottom": null,
            "display": null,
            "flex": null,
            "flex_flow": null,
            "grid_area": null,
            "grid_auto_columns": null,
            "grid_auto_flow": null,
            "grid_auto_rows": null,
            "grid_column": null,
            "grid_gap": null,
            "grid_row": null,
            "grid_template_areas": null,
            "grid_template_columns": null,
            "grid_template_rows": null,
            "height": null,
            "justify_content": null,
            "justify_items": null,
            "left": null,
            "margin": null,
            "max_height": null,
            "max_width": null,
            "min_height": null,
            "min_width": null,
            "object_fit": null,
            "object_position": null,
            "order": null,
            "overflow": null,
            "overflow_x": null,
            "overflow_y": null,
            "padding": null,
            "right": null,
            "top": null,
            "visibility": null,
            "width": null
          }
        },
        "0c31d948ae0b43e1981e2c751438bed5": {
          "model_module": "@jupyter-widgets/controls",
          "model_module_version": "1.5.0",
          "model_name": "FloatProgressModel",
          "state": {
            "_dom_classes": [],
            "_model_module": "@jupyter-widgets/controls",
            "_model_module_version": "1.5.0",
            "_model_name": "FloatProgressModel",
            "_view_count": null,
            "_view_module": "@jupyter-widgets/controls",
            "_view_module_version": "1.5.0",
            "_view_name": "ProgressView",
            "bar_style": "success",
            "description": "",
            "description_tooltip": null,
            "layout": "IPY_MODEL_17cd12d21dbe4b62887f40c1afecf4d2",
            "max": 7950,
            "min": 0,
            "orientation": "horizontal",
            "style": "IPY_MODEL_4be63112731c48fabf6831707e44ddd3",
            "value": 7950
          }
        },
        "0e703bfd1e4243dbb5712de38d594be4": {
          "model_module": "@jupyter-widgets/controls",
          "model_module_version": "1.5.0",
          "model_name": "DescriptionStyleModel",
          "state": {
            "_model_module": "@jupyter-widgets/controls",
            "_model_module_version": "1.5.0",
            "_model_name": "DescriptionStyleModel",
            "_view_count": null,
            "_view_module": "@jupyter-widgets/base",
            "_view_module_version": "1.2.0",
            "_view_name": "StyleView",
            "description_width": ""
          }
        },
        "11ee10a555654f0ab9e6427b76434415": {
          "model_module": "@jupyter-widgets/base",
          "model_module_version": "1.2.0",
          "model_name": "LayoutModel",
          "state": {
            "_model_module": "@jupyter-widgets/base",
            "_model_module_version": "1.2.0",
            "_model_name": "LayoutModel",
            "_view_count": null,
            "_view_module": "@jupyter-widgets/base",
            "_view_module_version": "1.2.0",
            "_view_name": "LayoutView",
            "align_content": null,
            "align_items": null,
            "align_self": null,
            "border": null,
            "bottom": null,
            "display": null,
            "flex": null,
            "flex_flow": null,
            "grid_area": null,
            "grid_auto_columns": null,
            "grid_auto_flow": null,
            "grid_auto_rows": null,
            "grid_column": null,
            "grid_gap": null,
            "grid_row": null,
            "grid_template_areas": null,
            "grid_template_columns": null,
            "grid_template_rows": null,
            "height": null,
            "justify_content": null,
            "justify_items": null,
            "left": null,
            "margin": null,
            "max_height": null,
            "max_width": null,
            "min_height": null,
            "min_width": null,
            "object_fit": null,
            "object_position": null,
            "order": null,
            "overflow": null,
            "overflow_x": null,
            "overflow_y": null,
            "padding": null,
            "right": null,
            "top": null,
            "visibility": null,
            "width": null
          }
        },
        "16a7363b56cf432990ea75bad7768107": {
          "model_module": "@jupyter-widgets/base",
          "model_module_version": "1.2.0",
          "model_name": "LayoutModel",
          "state": {
            "_model_module": "@jupyter-widgets/base",
            "_model_module_version": "1.2.0",
            "_model_name": "LayoutModel",
            "_view_count": null,
            "_view_module": "@jupyter-widgets/base",
            "_view_module_version": "1.2.0",
            "_view_name": "LayoutView",
            "align_content": null,
            "align_items": null,
            "align_self": null,
            "border": null,
            "bottom": null,
            "display": null,
            "flex": null,
            "flex_flow": null,
            "grid_area": null,
            "grid_auto_columns": null,
            "grid_auto_flow": null,
            "grid_auto_rows": null,
            "grid_column": null,
            "grid_gap": null,
            "grid_row": null,
            "grid_template_areas": null,
            "grid_template_columns": null,
            "grid_template_rows": null,
            "height": null,
            "justify_content": null,
            "justify_items": null,
            "left": null,
            "margin": null,
            "max_height": null,
            "max_width": null,
            "min_height": null,
            "min_width": null,
            "object_fit": null,
            "object_position": null,
            "order": null,
            "overflow": null,
            "overflow_x": null,
            "overflow_y": null,
            "padding": null,
            "right": null,
            "top": null,
            "visibility": null,
            "width": null
          }
        },
        "17a4dbcf721c4ce0b941bc4e383b7e33": {
          "model_module": "@jupyter-widgets/base",
          "model_module_version": "1.2.0",
          "model_name": "LayoutModel",
          "state": {
            "_model_module": "@jupyter-widgets/base",
            "_model_module_version": "1.2.0",
            "_model_name": "LayoutModel",
            "_view_count": null,
            "_view_module": "@jupyter-widgets/base",
            "_view_module_version": "1.2.0",
            "_view_name": "LayoutView",
            "align_content": null,
            "align_items": null,
            "align_self": null,
            "border": null,
            "bottom": null,
            "display": null,
            "flex": null,
            "flex_flow": null,
            "grid_area": null,
            "grid_auto_columns": null,
            "grid_auto_flow": null,
            "grid_auto_rows": null,
            "grid_column": null,
            "grid_gap": null,
            "grid_row": null,
            "grid_template_areas": null,
            "grid_template_columns": null,
            "grid_template_rows": null,
            "height": null,
            "justify_content": null,
            "justify_items": null,
            "left": null,
            "margin": null,
            "max_height": null,
            "max_width": null,
            "min_height": null,
            "min_width": null,
            "object_fit": null,
            "object_position": null,
            "order": null,
            "overflow": null,
            "overflow_x": null,
            "overflow_y": null,
            "padding": null,
            "right": null,
            "top": null,
            "visibility": null,
            "width": null
          }
        },
        "17cd12d21dbe4b62887f40c1afecf4d2": {
          "model_module": "@jupyter-widgets/base",
          "model_module_version": "1.2.0",
          "model_name": "LayoutModel",
          "state": {
            "_model_module": "@jupyter-widgets/base",
            "_model_module_version": "1.2.0",
            "_model_name": "LayoutModel",
            "_view_count": null,
            "_view_module": "@jupyter-widgets/base",
            "_view_module_version": "1.2.0",
            "_view_name": "LayoutView",
            "align_content": null,
            "align_items": null,
            "align_self": null,
            "border": null,
            "bottom": null,
            "display": null,
            "flex": null,
            "flex_flow": null,
            "grid_area": null,
            "grid_auto_columns": null,
            "grid_auto_flow": null,
            "grid_auto_rows": null,
            "grid_column": null,
            "grid_gap": null,
            "grid_row": null,
            "grid_template_areas": null,
            "grid_template_columns": null,
            "grid_template_rows": null,
            "height": null,
            "justify_content": null,
            "justify_items": null,
            "left": null,
            "margin": null,
            "max_height": null,
            "max_width": null,
            "min_height": null,
            "min_width": null,
            "object_fit": null,
            "object_position": null,
            "order": null,
            "overflow": null,
            "overflow_x": null,
            "overflow_y": null,
            "padding": null,
            "right": null,
            "top": null,
            "visibility": null,
            "width": null
          }
        },
        "182e2aac306e46b1884838827e8b6b40": {
          "model_module": "@jupyter-widgets/controls",
          "model_module_version": "1.5.0",
          "model_name": "DescriptionStyleModel",
          "state": {
            "_model_module": "@jupyter-widgets/controls",
            "_model_module_version": "1.5.0",
            "_model_name": "DescriptionStyleModel",
            "_view_count": null,
            "_view_module": "@jupyter-widgets/base",
            "_view_module_version": "1.2.0",
            "_view_name": "StyleView",
            "description_width": ""
          }
        },
        "1a24506a11634aee8ef0d85d12ecb3c6": {
          "model_module": "@jupyter-widgets/controls",
          "model_module_version": "1.5.0",
          "model_name": "DescriptionStyleModel",
          "state": {
            "_model_module": "@jupyter-widgets/controls",
            "_model_module_version": "1.5.0",
            "_model_name": "DescriptionStyleModel",
            "_view_count": null,
            "_view_module": "@jupyter-widgets/base",
            "_view_module_version": "1.2.0",
            "_view_name": "StyleView",
            "description_width": ""
          }
        },
        "1a29a0cb338841a39a8b34cc75e2aa22": {
          "model_module": "@jupyter-widgets/base",
          "model_module_version": "1.2.0",
          "model_name": "LayoutModel",
          "state": {
            "_model_module": "@jupyter-widgets/base",
            "_model_module_version": "1.2.0",
            "_model_name": "LayoutModel",
            "_view_count": null,
            "_view_module": "@jupyter-widgets/base",
            "_view_module_version": "1.2.0",
            "_view_name": "LayoutView",
            "align_content": null,
            "align_items": null,
            "align_self": null,
            "border": null,
            "bottom": null,
            "display": null,
            "flex": null,
            "flex_flow": null,
            "grid_area": null,
            "grid_auto_columns": null,
            "grid_auto_flow": null,
            "grid_auto_rows": null,
            "grid_column": null,
            "grid_gap": null,
            "grid_row": null,
            "grid_template_areas": null,
            "grid_template_columns": null,
            "grid_template_rows": null,
            "height": null,
            "justify_content": null,
            "justify_items": null,
            "left": null,
            "margin": null,
            "max_height": null,
            "max_width": null,
            "min_height": null,
            "min_width": null,
            "object_fit": null,
            "object_position": null,
            "order": null,
            "overflow": null,
            "overflow_x": null,
            "overflow_y": null,
            "padding": null,
            "right": null,
            "top": null,
            "visibility": null,
            "width": "20px"
          }
        },
        "1b9c57c85a224d0899cf225911e7202f": {
          "model_module": "@jupyter-widgets/base",
          "model_module_version": "1.2.0",
          "model_name": "LayoutModel",
          "state": {
            "_model_module": "@jupyter-widgets/base",
            "_model_module_version": "1.2.0",
            "_model_name": "LayoutModel",
            "_view_count": null,
            "_view_module": "@jupyter-widgets/base",
            "_view_module_version": "1.2.0",
            "_view_name": "LayoutView",
            "align_content": null,
            "align_items": null,
            "align_self": null,
            "border": null,
            "bottom": null,
            "display": null,
            "flex": null,
            "flex_flow": null,
            "grid_area": null,
            "grid_auto_columns": null,
            "grid_auto_flow": null,
            "grid_auto_rows": null,
            "grid_column": null,
            "grid_gap": null,
            "grid_row": null,
            "grid_template_areas": null,
            "grid_template_columns": null,
            "grid_template_rows": null,
            "height": null,
            "justify_content": null,
            "justify_items": null,
            "left": null,
            "margin": null,
            "max_height": null,
            "max_width": null,
            "min_height": null,
            "min_width": null,
            "object_fit": null,
            "object_position": null,
            "order": null,
            "overflow": null,
            "overflow_x": null,
            "overflow_y": null,
            "padding": null,
            "right": null,
            "top": null,
            "visibility": null,
            "width": null
          }
        },
        "1c6e78b85a174b21b8337a6767fdbe30": {
          "model_module": "@jupyter-widgets/controls",
          "model_module_version": "1.5.0",
          "model_name": "FloatProgressModel",
          "state": {
            "_dom_classes": [],
            "_model_module": "@jupyter-widgets/controls",
            "_model_module_version": "1.5.0",
            "_model_name": "FloatProgressModel",
            "_view_count": null,
            "_view_module": "@jupyter-widgets/controls",
            "_view_module_version": "1.5.0",
            "_view_name": "ProgressView",
            "bar_style": "success",
            "description": "",
            "description_tooltip": null,
            "layout": "IPY_MODEL_a1a5e2f917f84f359e4170e066bab9c5",
            "max": 483,
            "min": 0,
            "orientation": "horizontal",
            "style": "IPY_MODEL_487097e028924c36a57fd0c664fb08e2",
            "value": 483
          }
        },
        "1cad528964de46969e1e275c24fe0bc5": {
          "model_module": "@jupyter-widgets/controls",
          "model_module_version": "1.5.0",
          "model_name": "HBoxModel",
          "state": {
            "_dom_classes": [],
            "_model_module": "@jupyter-widgets/controls",
            "_model_module_version": "1.5.0",
            "_model_name": "HBoxModel",
            "_view_count": null,
            "_view_module": "@jupyter-widgets/controls",
            "_view_module_version": "1.5.0",
            "_view_name": "HBoxView",
            "box_style": "",
            "children": [
              "IPY_MODEL_943c640f4e7c489c9cf879299044aa5a",
              "IPY_MODEL_3298aac50c534fa2acf49b2bcecd6bc6",
              "IPY_MODEL_52f77561340c4a718feba0a804402a1d"
            ],
            "layout": "IPY_MODEL_37ff75a841664c8aa41bb6342e20cc8c"
          }
        },
        "20d562f7f76b4ceeb862660957c1a7a7": {
          "model_module": "@jupyter-widgets/controls",
          "model_module_version": "1.5.0",
          "model_name": "DescriptionStyleModel",
          "state": {
            "_model_module": "@jupyter-widgets/controls",
            "_model_module_version": "1.5.0",
            "_model_name": "DescriptionStyleModel",
            "_view_count": null,
            "_view_module": "@jupyter-widgets/base",
            "_view_module_version": "1.2.0",
            "_view_name": "StyleView",
            "description_width": ""
          }
        },
        "210d1a59d78e448b8331685247810bfe": {
          "model_module": "@jupyter-widgets/controls",
          "model_module_version": "1.5.0",
          "model_name": "DescriptionStyleModel",
          "state": {
            "_model_module": "@jupyter-widgets/controls",
            "_model_module_version": "1.5.0",
            "_model_name": "DescriptionStyleModel",
            "_view_count": null,
            "_view_module": "@jupyter-widgets/base",
            "_view_module_version": "1.2.0",
            "_view_name": "StyleView",
            "description_width": ""
          }
        },
        "233feaafecc1400b856309fe744bc991": {
          "model_module": "@jupyter-widgets/controls",
          "model_module_version": "1.5.0",
          "model_name": "HTMLModel",
          "state": {
            "_dom_classes": [],
            "_model_module": "@jupyter-widgets/controls",
            "_model_module_version": "1.5.0",
            "_model_name": "HTMLModel",
            "_view_count": null,
            "_view_module": "@jupyter-widgets/controls",
            "_view_module_version": "1.5.0",
            "_view_name": "HTMLView",
            "description": "",
            "description_tooltip": null,
            "layout": "IPY_MODEL_d947f768351247f1bed9e27a4d8edf39",
            "placeholder": "​",
            "style": "IPY_MODEL_8fc42c8fde484efb97fd544f0f145dab",
            "value": "\n<b>Pro Tip:</b> If you don't already have one, you can create a dedicated\n'notebooks' token with 'write' access, that you can then easily reuse for all\nnotebooks. </center>"
          }
        },
        "28b4f8c1e38c48c1aacdf33c92834552": {
          "model_module": "@jupyter-widgets/controls",
          "model_module_version": "1.5.0",
          "model_name": "DescriptionStyleModel",
          "state": {
            "_model_module": "@jupyter-widgets/controls",
            "_model_module_version": "1.5.0",
            "_model_name": "DescriptionStyleModel",
            "_view_count": null,
            "_view_module": "@jupyter-widgets/base",
            "_view_module_version": "1.2.0",
            "_view_name": "StyleView",
            "description_width": ""
          }
        },
        "2dab15f25a7c495fb8f05f7442ee0e94": {
          "model_module": "@jupyter-widgets/base",
          "model_module_version": "1.2.0",
          "model_name": "LayoutModel",
          "state": {
            "_model_module": "@jupyter-widgets/base",
            "_model_module_version": "1.2.0",
            "_model_name": "LayoutModel",
            "_view_count": null,
            "_view_module": "@jupyter-widgets/base",
            "_view_module_version": "1.2.0",
            "_view_name": "LayoutView",
            "align_content": null,
            "align_items": null,
            "align_self": null,
            "border": null,
            "bottom": null,
            "display": null,
            "flex": null,
            "flex_flow": null,
            "grid_area": null,
            "grid_auto_columns": null,
            "grid_auto_flow": null,
            "grid_auto_rows": null,
            "grid_column": null,
            "grid_gap": null,
            "grid_row": null,
            "grid_template_areas": null,
            "grid_template_columns": null,
            "grid_template_rows": null,
            "height": null,
            "justify_content": null,
            "justify_items": null,
            "left": null,
            "margin": null,
            "max_height": null,
            "max_width": null,
            "min_height": null,
            "min_width": null,
            "object_fit": null,
            "object_position": null,
            "order": null,
            "overflow": null,
            "overflow_x": null,
            "overflow_y": null,
            "padding": null,
            "right": null,
            "top": null,
            "visibility": null,
            "width": null
          }
        },
        "3298aac50c534fa2acf49b2bcecd6bc6": {
          "model_module": "@jupyter-widgets/controls",
          "model_module_version": "1.5.0",
          "model_name": "FloatProgressModel",
          "state": {
            "_dom_classes": [],
            "_model_module": "@jupyter-widgets/controls",
            "_model_module_version": "1.5.0",
            "_model_name": "FloatProgressModel",
            "_view_count": null,
            "_view_module": "@jupyter-widgets/controls",
            "_view_module_version": "1.5.0",
            "_view_name": "ProgressView",
            "bar_style": "success",
            "description": "",
            "description_tooltip": null,
            "layout": "IPY_MODEL_cdf69374c56b40708f722fca010f9779",
            "max": 231508,
            "min": 0,
            "orientation": "horizontal",
            "style": "IPY_MODEL_f8801a2759f94c138701fb5e7727ff05",
            "value": 231508
          }
        },
        "33853dd660264aa880b89a4ea3bc54bd": {
          "model_module": "@jupyter-widgets/controls",
          "model_module_version": "1.5.0",
          "model_name": "HTMLModel",
          "state": {
            "_dom_classes": [],
            "_model_module": "@jupyter-widgets/controls",
            "_model_module_version": "1.5.0",
            "_model_name": "HTMLModel",
            "_view_count": null,
            "_view_module": "@jupyter-widgets/controls",
            "_view_module_version": "1.5.0",
            "_view_name": "HTMLView",
            "description": "",
            "description_tooltip": null,
            "layout": "IPY_MODEL_9b0c2d236ae74c568cc1883c3d7421b0",
            "placeholder": "​",
            "style": "IPY_MODEL_e109133a3bb74edd9ed009b5132c8850",
            "value": "Generating train split: "
          }
        },
        "35e119768ae14488a4a5984a47c0e8fb": {
          "model_module": "@jupyter-widgets/base",
          "model_module_version": "1.2.0",
          "model_name": "LayoutModel",
          "state": {
            "_model_module": "@jupyter-widgets/base",
            "_model_module_version": "1.2.0",
            "_model_name": "LayoutModel",
            "_view_count": null,
            "_view_module": "@jupyter-widgets/base",
            "_view_module_version": "1.2.0",
            "_view_name": "LayoutView",
            "align_content": null,
            "align_items": null,
            "align_self": null,
            "border": null,
            "bottom": null,
            "display": null,
            "flex": null,
            "flex_flow": null,
            "grid_area": null,
            "grid_auto_columns": null,
            "grid_auto_flow": null,
            "grid_auto_rows": null,
            "grid_column": null,
            "grid_gap": null,
            "grid_row": null,
            "grid_template_areas": null,
            "grid_template_columns": null,
            "grid_template_rows": null,
            "height": null,
            "justify_content": null,
            "justify_items": null,
            "left": null,
            "margin": null,
            "max_height": null,
            "max_width": null,
            "min_height": null,
            "min_width": null,
            "object_fit": null,
            "object_position": null,
            "order": null,
            "overflow": null,
            "overflow_x": null,
            "overflow_y": null,
            "padding": null,
            "right": null,
            "top": null,
            "visibility": null,
            "width": null
          }
        },
        "3683886409e14d05b3e112542558918b": {
          "model_module": "@jupyter-widgets/controls",
          "model_module_version": "1.5.0",
          "model_name": "HTMLModel",
          "state": {
            "_dom_classes": [],
            "_model_module": "@jupyter-widgets/controls",
            "_model_module_version": "1.5.0",
            "_model_name": "HTMLModel",
            "_view_count": null,
            "_view_module": "@jupyter-widgets/controls",
            "_view_module_version": "1.5.0",
            "_view_name": "HTMLView",
            "description": "",
            "description_tooltip": null,
            "layout": "IPY_MODEL_16a7363b56cf432990ea75bad7768107",
            "placeholder": "​",
            "style": "IPY_MODEL_a44215b290e644338178e8ad83f0b2fa",
            "value": "tokenizer.json: 100%"
          }
        },
        "37ff75a841664c8aa41bb6342e20cc8c": {
          "model_module": "@jupyter-widgets/base",
          "model_module_version": "1.2.0",
          "model_name": "LayoutModel",
          "state": {
            "_model_module": "@jupyter-widgets/base",
            "_model_module_version": "1.2.0",
            "_model_name": "LayoutModel",
            "_view_count": null,
            "_view_module": "@jupyter-widgets/base",
            "_view_module_version": "1.2.0",
            "_view_name": "LayoutView",
            "align_content": null,
            "align_items": null,
            "align_self": null,
            "border": null,
            "bottom": null,
            "display": null,
            "flex": null,
            "flex_flow": null,
            "grid_area": null,
            "grid_auto_columns": null,
            "grid_auto_flow": null,
            "grid_auto_rows": null,
            "grid_column": null,
            "grid_gap": null,
            "grid_row": null,
            "grid_template_areas": null,
            "grid_template_columns": null,
            "grid_template_rows": null,
            "height": null,
            "justify_content": null,
            "justify_items": null,
            "left": null,
            "margin": null,
            "max_height": null,
            "max_width": null,
            "min_height": null,
            "min_width": null,
            "object_fit": null,
            "object_position": null,
            "order": null,
            "overflow": null,
            "overflow_x": null,
            "overflow_y": null,
            "padding": null,
            "right": null,
            "top": null,
            "visibility": null,
            "width": null
          }
        },
        "38c38ec3917a46fab353819e317e4c40": {
          "model_module": "@jupyter-widgets/base",
          "model_module_version": "1.2.0",
          "model_name": "LayoutModel",
          "state": {
            "_model_module": "@jupyter-widgets/base",
            "_model_module_version": "1.2.0",
            "_model_name": "LayoutModel",
            "_view_count": null,
            "_view_module": "@jupyter-widgets/base",
            "_view_module_version": "1.2.0",
            "_view_name": "LayoutView",
            "align_content": null,
            "align_items": null,
            "align_self": null,
            "border": null,
            "bottom": null,
            "display": null,
            "flex": null,
            "flex_flow": null,
            "grid_area": null,
            "grid_auto_columns": null,
            "grid_auto_flow": null,
            "grid_auto_rows": null,
            "grid_column": null,
            "grid_gap": null,
            "grid_row": null,
            "grid_template_areas": null,
            "grid_template_columns": null,
            "grid_template_rows": null,
            "height": null,
            "justify_content": null,
            "justify_items": null,
            "left": null,
            "margin": null,
            "max_height": null,
            "max_width": null,
            "min_height": null,
            "min_width": null,
            "object_fit": null,
            "object_position": null,
            "order": null,
            "overflow": null,
            "overflow_x": null,
            "overflow_y": null,
            "padding": null,
            "right": null,
            "top": null,
            "visibility": null,
            "width": null
          }
        },
        "39a9cb86d00f4177b777098be98826d7": {
          "model_module": "@jupyter-widgets/controls",
          "model_module_version": "1.5.0",
          "model_name": "FloatProgressModel",
          "state": {
            "_dom_classes": [],
            "_model_module": "@jupyter-widgets/controls",
            "_model_module_version": "1.5.0",
            "_model_name": "FloatProgressModel",
            "_view_count": null,
            "_view_module": "@jupyter-widgets/controls",
            "_view_module_version": "1.5.0",
            "_view_name": "ProgressView",
            "bar_style": "success",
            "description": "",
            "description_tooltip": null,
            "layout": "IPY_MODEL_1a29a0cb338841a39a8b34cc75e2aa22",
            "max": 1,
            "min": 0,
            "orientation": "horizontal",
            "style": "IPY_MODEL_930053f0f1a64bef8be216e283ff7e67",
            "value": 1
          }
        },
        "3fbef34aa739472db620ca88cc56319e": {
          "model_module": "@jupyter-widgets/controls",
          "model_module_version": "1.5.0",
          "model_name": "DescriptionStyleModel",
          "state": {
            "_model_module": "@jupyter-widgets/controls",
            "_model_module_version": "1.5.0",
            "_model_name": "DescriptionStyleModel",
            "_view_count": null,
            "_view_module": "@jupyter-widgets/base",
            "_view_module_version": "1.2.0",
            "_view_name": "StyleView",
            "description_width": ""
          }
        },
        "41ff7cdb0834408c865d38768330b019": {
          "model_module": "@jupyter-widgets/controls",
          "model_module_version": "1.5.0",
          "model_name": "DescriptionStyleModel",
          "state": {
            "_model_module": "@jupyter-widgets/controls",
            "_model_module_version": "1.5.0",
            "_model_name": "DescriptionStyleModel",
            "_view_count": null,
            "_view_module": "@jupyter-widgets/base",
            "_view_module_version": "1.2.0",
            "_view_name": "StyleView",
            "description_width": ""
          }
        },
        "435acd65e4704773a3bee9124500eb2d": {
          "model_module": "@jupyter-widgets/base",
          "model_module_version": "1.2.0",
          "model_name": "LayoutModel",
          "state": {
            "_model_module": "@jupyter-widgets/base",
            "_model_module_version": "1.2.0",
            "_model_name": "LayoutModel",
            "_view_count": null,
            "_view_module": "@jupyter-widgets/base",
            "_view_module_version": "1.2.0",
            "_view_name": "LayoutView",
            "align_content": null,
            "align_items": null,
            "align_self": null,
            "border": null,
            "bottom": null,
            "display": null,
            "flex": null,
            "flex_flow": null,
            "grid_area": null,
            "grid_auto_columns": null,
            "grid_auto_flow": null,
            "grid_auto_rows": null,
            "grid_column": null,
            "grid_gap": null,
            "grid_row": null,
            "grid_template_areas": null,
            "grid_template_columns": null,
            "grid_template_rows": null,
            "height": null,
            "justify_content": null,
            "justify_items": null,
            "left": null,
            "margin": null,
            "max_height": null,
            "max_width": null,
            "min_height": null,
            "min_width": null,
            "object_fit": null,
            "object_position": null,
            "order": null,
            "overflow": null,
            "overflow_x": null,
            "overflow_y": null,
            "padding": null,
            "right": null,
            "top": null,
            "visibility": null,
            "width": null
          }
        },
        "4589cf9d65dc419aa8b75366d5d13c5d": {
          "model_module": "@jupyter-widgets/controls",
          "model_module_version": "1.5.0",
          "model_name": "HTMLModel",
          "state": {
            "_dom_classes": [],
            "_model_module": "@jupyter-widgets/controls",
            "_model_module_version": "1.5.0",
            "_model_name": "HTMLModel",
            "_view_count": null,
            "_view_module": "@jupyter-widgets/controls",
            "_view_module_version": "1.5.0",
            "_view_name": "HTMLView",
            "description": "",
            "description_tooltip": null,
            "layout": "IPY_MODEL_a3438c0add8c45a3af5d414c75b13117",
            "placeholder": "​",
            "style": "IPY_MODEL_958cbb4b9d3048e7b9cd96f184aff89e",
            "value": "<center> <img\nsrc=https://huggingface.co/front/assets/huggingface_logo-noborder.svg\nalt='Hugging Face'> <br> Copy a token from <a\nhref=\"https://huggingface.co/settings/tokens\" target=\"_blank\">your Hugging Face\ntokens page</a> and paste it below. <br> Immediately click login after copying\nyour token or it might be stored in plain text in this notebook file. </center>"
          }
        },
        "46a94e143c944c59801fbddff4a686d4": {
          "model_module": "@jupyter-widgets/controls",
          "model_module_version": "1.5.0",
          "model_name": "CheckboxModel",
          "state": {
            "_dom_classes": [],
            "_model_module": "@jupyter-widgets/controls",
            "_model_module_version": "1.5.0",
            "_model_name": "CheckboxModel",
            "_view_count": null,
            "_view_module": "@jupyter-widgets/controls",
            "_view_module_version": "1.5.0",
            "_view_name": "CheckboxView",
            "description": "Add token as git credential?",
            "description_tooltip": null,
            "disabled": false,
            "indent": true,
            "layout": "IPY_MODEL_b299310ff1264930bde9df29d5489d6d",
            "style": "IPY_MODEL_0e703bfd1e4243dbb5712de38d594be4",
            "value": true
          }
        },
        "487097e028924c36a57fd0c664fb08e2": {
          "model_module": "@jupyter-widgets/controls",
          "model_module_version": "1.5.0",
          "model_name": "ProgressStyleModel",
          "state": {
            "_model_module": "@jupyter-widgets/controls",
            "_model_module_version": "1.5.0",
            "_model_name": "ProgressStyleModel",
            "_view_count": null,
            "_view_module": "@jupyter-widgets/base",
            "_view_module_version": "1.2.0",
            "_view_name": "StyleView",
            "bar_color": null,
            "description_width": ""
          }
        },
        "4aa5a2b7ae444cd49fcfaac5e9c64813": {
          "model_module": "@jupyter-widgets/base",
          "model_module_version": "1.2.0",
          "model_name": "LayoutModel",
          "state": {
            "_model_module": "@jupyter-widgets/base",
            "_model_module_version": "1.2.0",
            "_model_name": "LayoutModel",
            "_view_count": null,
            "_view_module": "@jupyter-widgets/base",
            "_view_module_version": "1.2.0",
            "_view_name": "LayoutView",
            "align_content": null,
            "align_items": null,
            "align_self": null,
            "border": null,
            "bottom": null,
            "display": null,
            "flex": null,
            "flex_flow": null,
            "grid_area": null,
            "grid_auto_columns": null,
            "grid_auto_flow": null,
            "grid_auto_rows": null,
            "grid_column": null,
            "grid_gap": null,
            "grid_row": null,
            "grid_template_areas": null,
            "grid_template_columns": null,
            "grid_template_rows": null,
            "height": null,
            "justify_content": null,
            "justify_items": null,
            "left": null,
            "margin": null,
            "max_height": null,
            "max_width": null,
            "min_height": null,
            "min_width": null,
            "object_fit": null,
            "object_position": null,
            "order": null,
            "overflow": null,
            "overflow_x": null,
            "overflow_y": null,
            "padding": null,
            "right": null,
            "top": null,
            "visibility": null,
            "width": null
          }
        },
        "4be63112731c48fabf6831707e44ddd3": {
          "model_module": "@jupyter-widgets/controls",
          "model_module_version": "1.5.0",
          "model_name": "ProgressStyleModel",
          "state": {
            "_model_module": "@jupyter-widgets/controls",
            "_model_module_version": "1.5.0",
            "_model_name": "ProgressStyleModel",
            "_view_count": null,
            "_view_module": "@jupyter-widgets/base",
            "_view_module_version": "1.2.0",
            "_view_name": "StyleView",
            "bar_color": null,
            "description_width": ""
          }
        },
        "4c8f6179f3ef40eea9932d675d0500f3": {
          "model_module": "@jupyter-widgets/base",
          "model_module_version": "1.2.0",
          "model_name": "LayoutModel",
          "state": {
            "_model_module": "@jupyter-widgets/base",
            "_model_module_version": "1.2.0",
            "_model_name": "LayoutModel",
            "_view_count": null,
            "_view_module": "@jupyter-widgets/base",
            "_view_module_version": "1.2.0",
            "_view_name": "LayoutView",
            "align_content": null,
            "align_items": null,
            "align_self": null,
            "border": null,
            "bottom": null,
            "display": null,
            "flex": null,
            "flex_flow": null,
            "grid_area": null,
            "grid_auto_columns": null,
            "grid_auto_flow": null,
            "grid_auto_rows": null,
            "grid_column": null,
            "grid_gap": null,
            "grid_row": null,
            "grid_template_areas": null,
            "grid_template_columns": null,
            "grid_template_rows": null,
            "height": null,
            "justify_content": null,
            "justify_items": null,
            "left": null,
            "margin": null,
            "max_height": null,
            "max_width": null,
            "min_height": null,
            "min_width": null,
            "object_fit": null,
            "object_position": null,
            "order": null,
            "overflow": null,
            "overflow_x": null,
            "overflow_y": null,
            "padding": null,
            "right": null,
            "top": null,
            "visibility": null,
            "width": null
          }
        },
        "52f77561340c4a718feba0a804402a1d": {
          "model_module": "@jupyter-widgets/controls",
          "model_module_version": "1.5.0",
          "model_name": "HTMLModel",
          "state": {
            "_dom_classes": [],
            "_model_module": "@jupyter-widgets/controls",
            "_model_module_version": "1.5.0",
            "_model_name": "HTMLModel",
            "_view_count": null,
            "_view_module": "@jupyter-widgets/controls",
            "_view_module_version": "1.5.0",
            "_view_name": "HTMLView",
            "description": "",
            "description_tooltip": null,
            "layout": "IPY_MODEL_6f74a41170154c46855b5823ba64934a",
            "placeholder": "​",
            "style": "IPY_MODEL_41ff7cdb0834408c865d38768330b019",
            "value": " 232k/232k [00:00&lt;00:00, 17.9MB/s]"
          }
        },
        "5c2054a41d184dd8ba9edbfb03ee58a0": {
          "model_module": "@jupyter-widgets/controls",
          "model_module_version": "1.5.0",
          "model_name": "HTMLModel",
          "state": {
            "_dom_classes": [],
            "_model_module": "@jupyter-widgets/controls",
            "_model_module_version": "1.5.0",
            "_model_name": "HTMLModel",
            "_view_count": null,
            "_view_module": "@jupyter-widgets/controls",
            "_view_module_version": "1.5.0",
            "_view_name": "HTMLView",
            "description": "",
            "description_tooltip": null,
            "layout": "IPY_MODEL_054c3886c7a14622abfc0136b6658401",
            "placeholder": "​",
            "style": "IPY_MODEL_20d562f7f76b4ceeb862660957c1a7a7",
            "value": "tokenizer_config.json: 100%"
          }
        },
        "625ab34150744c7684f3502b1350420c": {
          "model_module": "@jupyter-widgets/controls",
          "model_module_version": "1.5.0",
          "model_name": "ProgressStyleModel",
          "state": {
            "_model_module": "@jupyter-widgets/controls",
            "_model_module_version": "1.5.0",
            "_model_name": "ProgressStyleModel",
            "_view_count": null,
            "_view_module": "@jupyter-widgets/base",
            "_view_module_version": "1.2.0",
            "_view_name": "StyleView",
            "bar_color": null,
            "description_width": ""
          }
        },
        "6dcf4bccaecf454b884a0798894fc2f0": {
          "model_module": "@jupyter-widgets/controls",
          "model_module_version": "1.5.0",
          "model_name": "PasswordModel",
          "state": {
            "_dom_classes": [],
            "_model_module": "@jupyter-widgets/controls",
            "_model_module_version": "1.5.0",
            "_model_name": "PasswordModel",
            "_view_count": null,
            "_view_module": "@jupyter-widgets/controls",
            "_view_module_version": "1.5.0",
            "_view_name": "PasswordView",
            "continuous_update": true,
            "description": "Token:",
            "description_tooltip": null,
            "disabled": false,
            "layout": "IPY_MODEL_35e119768ae14488a4a5984a47c0e8fb",
            "placeholder": "​",
            "style": "IPY_MODEL_cde14f2656044b7e89f113b2c8c01710",
            "value": ""
          }
        },
        "6e2b2d8e8bb740d58bfc35c40817c25e": {
          "model_module": "@jupyter-widgets/base",
          "model_module_version": "1.2.0",
          "model_name": "LayoutModel",
          "state": {
            "_model_module": "@jupyter-widgets/base",
            "_model_module_version": "1.2.0",
            "_model_name": "LayoutModel",
            "_view_count": null,
            "_view_module": "@jupyter-widgets/base",
            "_view_module_version": "1.2.0",
            "_view_name": "LayoutView",
            "align_content": null,
            "align_items": null,
            "align_self": null,
            "border": null,
            "bottom": null,
            "display": null,
            "flex": null,
            "flex_flow": null,
            "grid_area": null,
            "grid_auto_columns": null,
            "grid_auto_flow": null,
            "grid_auto_rows": null,
            "grid_column": null,
            "grid_gap": null,
            "grid_row": null,
            "grid_template_areas": null,
            "grid_template_columns": null,
            "grid_template_rows": null,
            "height": null,
            "justify_content": null,
            "justify_items": null,
            "left": null,
            "margin": null,
            "max_height": null,
            "max_width": null,
            "min_height": null,
            "min_width": null,
            "object_fit": null,
            "object_position": null,
            "order": null,
            "overflow": null,
            "overflow_x": null,
            "overflow_y": null,
            "padding": null,
            "right": null,
            "top": null,
            "visibility": null,
            "width": null
          }
        },
        "6f74a41170154c46855b5823ba64934a": {
          "model_module": "@jupyter-widgets/base",
          "model_module_version": "1.2.0",
          "model_name": "LayoutModel",
          "state": {
            "_model_module": "@jupyter-widgets/base",
            "_model_module_version": "1.2.0",
            "_model_name": "LayoutModel",
            "_view_count": null,
            "_view_module": "@jupyter-widgets/base",
            "_view_module_version": "1.2.0",
            "_view_name": "LayoutView",
            "align_content": null,
            "align_items": null,
            "align_self": null,
            "border": null,
            "bottom": null,
            "display": null,
            "flex": null,
            "flex_flow": null,
            "grid_area": null,
            "grid_auto_columns": null,
            "grid_auto_flow": null,
            "grid_auto_rows": null,
            "grid_column": null,
            "grid_gap": null,
            "grid_row": null,
            "grid_template_areas": null,
            "grid_template_columns": null,
            "grid_template_rows": null,
            "height": null,
            "justify_content": null,
            "justify_items": null,
            "left": null,
            "margin": null,
            "max_height": null,
            "max_width": null,
            "min_height": null,
            "min_width": null,
            "object_fit": null,
            "object_position": null,
            "order": null,
            "overflow": null,
            "overflow_x": null,
            "overflow_y": null,
            "padding": null,
            "right": null,
            "top": null,
            "visibility": null,
            "width": null
          }
        },
        "6fa35e944409454fa6597b0c426d90be": {
          "model_module": "@jupyter-widgets/controls",
          "model_module_version": "1.5.0",
          "model_name": "DescriptionStyleModel",
          "state": {
            "_model_module": "@jupyter-widgets/controls",
            "_model_module_version": "1.5.0",
            "_model_name": "DescriptionStyleModel",
            "_view_count": null,
            "_view_module": "@jupyter-widgets/base",
            "_view_module_version": "1.2.0",
            "_view_name": "StyleView",
            "description_width": ""
          }
        },
        "7d8f474318be4898abaa3f08750a30f7": {
          "model_module": "@jupyter-widgets/controls",
          "model_module_version": "1.5.0",
          "model_name": "HTMLModel",
          "state": {
            "_dom_classes": [],
            "_model_module": "@jupyter-widgets/controls",
            "_model_module_version": "1.5.0",
            "_model_name": "HTMLModel",
            "_view_count": null,
            "_view_module": "@jupyter-widgets/controls",
            "_view_module_version": "1.5.0",
            "_view_name": "HTMLView",
            "description": "",
            "description_tooltip": null,
            "layout": "IPY_MODEL_c59719f594dd43c38f1da9fc3a613938",
            "placeholder": "​",
            "style": "IPY_MODEL_1a24506a11634aee8ef0d85d12ecb3c6",
            "value": " 28.0/28.0 [00:00&lt;00:00, 1.72kB/s]"
          }
        },
        "7f45938787a142938c39966b8d5c23a9": {
          "model_module": "@jupyter-widgets/controls",
          "model_module_version": "1.5.0",
          "model_name": "HTMLModel",
          "state": {
            "_dom_classes": [],
            "_model_module": "@jupyter-widgets/controls",
            "_model_module_version": "1.5.0",
            "_model_name": "HTMLModel",
            "_view_count": null,
            "_view_module": "@jupyter-widgets/controls",
            "_view_module_version": "1.5.0",
            "_view_name": "HTMLView",
            "description": "",
            "description_tooltip": null,
            "layout": "IPY_MODEL_2dab15f25a7c495fb8f05f7442ee0e94",
            "placeholder": "​",
            "style": "IPY_MODEL_6fa35e944409454fa6597b0c426d90be",
            "value": " 483/483 [00:00&lt;00:00, 32.2kB/s]"
          }
        },
        "801bfe70c31a4960bef858222858d04f": {
          "model_module": "@jupyter-widgets/controls",
          "model_module_version": "1.5.0",
          "model_name": "HTMLModel",
          "state": {
            "_dom_classes": [],
            "_model_module": "@jupyter-widgets/controls",
            "_model_module_version": "1.5.0",
            "_model_name": "HTMLModel",
            "_view_count": null,
            "_view_module": "@jupyter-widgets/controls",
            "_view_module_version": "1.5.0",
            "_view_name": "HTMLView",
            "description": "",
            "description_tooltip": null,
            "layout": "IPY_MODEL_4aa5a2b7ae444cd49fcfaac5e9c64813",
            "placeholder": "​",
            "style": "IPY_MODEL_210d1a59d78e448b8331685247810bfe",
            "value": " 6918/0 [00:00&lt;00:00, 178308.82 examples/s]"
          }
        },
        "80c056083c054e0ab556bbc38742353a": {
          "model_module": "@jupyter-widgets/controls",
          "model_module_version": "1.5.0",
          "model_name": "DescriptionStyleModel",
          "state": {
            "_model_module": "@jupyter-widgets/controls",
            "_model_module_version": "1.5.0",
            "_model_name": "DescriptionStyleModel",
            "_view_count": null,
            "_view_module": "@jupyter-widgets/base",
            "_view_module_version": "1.2.0",
            "_view_name": "StyleView",
            "description_width": ""
          }
        },
        "814dd7a5a82f4347a0460a5d62b52f7e": {
          "model_module": "@jupyter-widgets/base",
          "model_module_version": "1.2.0",
          "model_name": "LayoutModel",
          "state": {
            "_model_module": "@jupyter-widgets/base",
            "_model_module_version": "1.2.0",
            "_model_name": "LayoutModel",
            "_view_count": null,
            "_view_module": "@jupyter-widgets/base",
            "_view_module_version": "1.2.0",
            "_view_name": "LayoutView",
            "align_content": null,
            "align_items": null,
            "align_self": null,
            "border": null,
            "bottom": null,
            "display": null,
            "flex": null,
            "flex_flow": null,
            "grid_area": null,
            "grid_auto_columns": null,
            "grid_auto_flow": null,
            "grid_auto_rows": null,
            "grid_column": null,
            "grid_gap": null,
            "grid_row": null,
            "grid_template_areas": null,
            "grid_template_columns": null,
            "grid_template_rows": null,
            "height": null,
            "justify_content": null,
            "justify_items": null,
            "left": null,
            "margin": null,
            "max_height": null,
            "max_width": null,
            "min_height": null,
            "min_width": null,
            "object_fit": null,
            "object_position": null,
            "order": null,
            "overflow": null,
            "overflow_x": null,
            "overflow_y": null,
            "padding": null,
            "right": null,
            "top": null,
            "visibility": null,
            "width": null
          }
        },
        "8fc42c8fde484efb97fd544f0f145dab": {
          "model_module": "@jupyter-widgets/controls",
          "model_module_version": "1.5.0",
          "model_name": "DescriptionStyleModel",
          "state": {
            "_model_module": "@jupyter-widgets/controls",
            "_model_module_version": "1.5.0",
            "_model_name": "DescriptionStyleModel",
            "_view_count": null,
            "_view_module": "@jupyter-widgets/base",
            "_view_module_version": "1.2.0",
            "_view_name": "StyleView",
            "description_width": ""
          }
        },
        "930053f0f1a64bef8be216e283ff7e67": {
          "model_module": "@jupyter-widgets/controls",
          "model_module_version": "1.5.0",
          "model_name": "ProgressStyleModel",
          "state": {
            "_model_module": "@jupyter-widgets/controls",
            "_model_module_version": "1.5.0",
            "_model_name": "ProgressStyleModel",
            "_view_count": null,
            "_view_module": "@jupyter-widgets/base",
            "_view_module_version": "1.2.0",
            "_view_name": "StyleView",
            "bar_color": null,
            "description_width": ""
          }
        },
        "943c640f4e7c489c9cf879299044aa5a": {
          "model_module": "@jupyter-widgets/controls",
          "model_module_version": "1.5.0",
          "model_name": "HTMLModel",
          "state": {
            "_dom_classes": [],
            "_model_module": "@jupyter-widgets/controls",
            "_model_module_version": "1.5.0",
            "_model_name": "HTMLModel",
            "_view_count": null,
            "_view_module": "@jupyter-widgets/controls",
            "_view_module_version": "1.5.0",
            "_view_name": "HTMLView",
            "description": "",
            "description_tooltip": null,
            "layout": "IPY_MODEL_17a4dbcf721c4ce0b941bc4e383b7e33",
            "placeholder": "​",
            "style": "IPY_MODEL_28b4f8c1e38c48c1aacdf33c92834552",
            "value": "vocab.txt: 100%"
          }
        },
        "958cbb4b9d3048e7b9cd96f184aff89e": {
          "model_module": "@jupyter-widgets/controls",
          "model_module_version": "1.5.0",
          "model_name": "DescriptionStyleModel",
          "state": {
            "_model_module": "@jupyter-widgets/controls",
            "_model_module_version": "1.5.0",
            "_model_name": "DescriptionStyleModel",
            "_view_count": null,
            "_view_module": "@jupyter-widgets/base",
            "_view_module_version": "1.2.0",
            "_view_name": "StyleView",
            "description_width": ""
          }
        },
        "9b0c2d236ae74c568cc1883c3d7421b0": {
          "model_module": "@jupyter-widgets/base",
          "model_module_version": "1.2.0",
          "model_name": "LayoutModel",
          "state": {
            "_model_module": "@jupyter-widgets/base",
            "_model_module_version": "1.2.0",
            "_model_name": "LayoutModel",
            "_view_count": null,
            "_view_module": "@jupyter-widgets/base",
            "_view_module_version": "1.2.0",
            "_view_name": "LayoutView",
            "align_content": null,
            "align_items": null,
            "align_self": null,
            "border": null,
            "bottom": null,
            "display": null,
            "flex": null,
            "flex_flow": null,
            "grid_area": null,
            "grid_auto_columns": null,
            "grid_auto_flow": null,
            "grid_auto_rows": null,
            "grid_column": null,
            "grid_gap": null,
            "grid_row": null,
            "grid_template_areas": null,
            "grid_template_columns": null,
            "grid_template_rows": null,
            "height": null,
            "justify_content": null,
            "justify_items": null,
            "left": null,
            "margin": null,
            "max_height": null,
            "max_width": null,
            "min_height": null,
            "min_width": null,
            "object_fit": null,
            "object_position": null,
            "order": null,
            "overflow": null,
            "overflow_x": null,
            "overflow_y": null,
            "padding": null,
            "right": null,
            "top": null,
            "visibility": null,
            "width": null
          }
        },
        "a1a5e2f917f84f359e4170e066bab9c5": {
          "model_module": "@jupyter-widgets/base",
          "model_module_version": "1.2.0",
          "model_name": "LayoutModel",
          "state": {
            "_model_module": "@jupyter-widgets/base",
            "_model_module_version": "1.2.0",
            "_model_name": "LayoutModel",
            "_view_count": null,
            "_view_module": "@jupyter-widgets/base",
            "_view_module_version": "1.2.0",
            "_view_name": "LayoutView",
            "align_content": null,
            "align_items": null,
            "align_self": null,
            "border": null,
            "bottom": null,
            "display": null,
            "flex": null,
            "flex_flow": null,
            "grid_area": null,
            "grid_auto_columns": null,
            "grid_auto_flow": null,
            "grid_auto_rows": null,
            "grid_column": null,
            "grid_gap": null,
            "grid_row": null,
            "grid_template_areas": null,
            "grid_template_columns": null,
            "grid_template_rows": null,
            "height": null,
            "justify_content": null,
            "justify_items": null,
            "left": null,
            "margin": null,
            "max_height": null,
            "max_width": null,
            "min_height": null,
            "min_width": null,
            "object_fit": null,
            "object_position": null,
            "order": null,
            "overflow": null,
            "overflow_x": null,
            "overflow_y": null,
            "padding": null,
            "right": null,
            "top": null,
            "visibility": null,
            "width": null
          }
        },
        "a3438c0add8c45a3af5d414c75b13117": {
          "model_module": "@jupyter-widgets/base",
          "model_module_version": "1.2.0",
          "model_name": "LayoutModel",
          "state": {
            "_model_module": "@jupyter-widgets/base",
            "_model_module_version": "1.2.0",
            "_model_name": "LayoutModel",
            "_view_count": null,
            "_view_module": "@jupyter-widgets/base",
            "_view_module_version": "1.2.0",
            "_view_name": "LayoutView",
            "align_content": null,
            "align_items": null,
            "align_self": null,
            "border": null,
            "bottom": null,
            "display": null,
            "flex": null,
            "flex_flow": null,
            "grid_area": null,
            "grid_auto_columns": null,
            "grid_auto_flow": null,
            "grid_auto_rows": null,
            "grid_column": null,
            "grid_gap": null,
            "grid_row": null,
            "grid_template_areas": null,
            "grid_template_columns": null,
            "grid_template_rows": null,
            "height": null,
            "justify_content": null,
            "justify_items": null,
            "left": null,
            "margin": null,
            "max_height": null,
            "max_width": null,
            "min_height": null,
            "min_width": null,
            "object_fit": null,
            "object_position": null,
            "order": null,
            "overflow": null,
            "overflow_x": null,
            "overflow_y": null,
            "padding": null,
            "right": null,
            "top": null,
            "visibility": null,
            "width": null
          }
        },
        "a44215b290e644338178e8ad83f0b2fa": {
          "model_module": "@jupyter-widgets/controls",
          "model_module_version": "1.5.0",
          "model_name": "DescriptionStyleModel",
          "state": {
            "_model_module": "@jupyter-widgets/controls",
            "_model_module_version": "1.5.0",
            "_model_name": "DescriptionStyleModel",
            "_view_count": null,
            "_view_module": "@jupyter-widgets/base",
            "_view_module_version": "1.2.0",
            "_view_name": "StyleView",
            "description_width": ""
          }
        },
        "ac9001abe6734bf490462e806522e9d3": {
          "model_module": "@jupyter-widgets/controls",
          "model_module_version": "1.5.0",
          "model_name": "VBoxModel",
          "state": {
            "_dom_classes": [],
            "_model_module": "@jupyter-widgets/controls",
            "_model_module_version": "1.5.0",
            "_model_name": "VBoxModel",
            "_view_count": null,
            "_view_module": "@jupyter-widgets/controls",
            "_view_module_version": "1.5.0",
            "_view_name": "VBoxView",
            "box_style": "",
            "children": [
              "IPY_MODEL_4589cf9d65dc419aa8b75366d5d13c5d",
              "IPY_MODEL_6dcf4bccaecf454b884a0798894fc2f0",
              "IPY_MODEL_46a94e143c944c59801fbddff4a686d4",
              "IPY_MODEL_fd7bd63a76b0458ca08ce75c703d1533",
              "IPY_MODEL_233feaafecc1400b856309fe744bc991"
            ],
            "layout": "IPY_MODEL_b365c7ae86674b9aab14adac1e4bee92"
          }
        },
        "ae59bd3f68154204a346e3b82668c5f8": {
          "model_module": "@jupyter-widgets/controls",
          "model_module_version": "1.5.0",
          "model_name": "HTMLModel",
          "state": {
            "_dom_classes": [],
            "_model_module": "@jupyter-widgets/controls",
            "_model_module_version": "1.5.0",
            "_model_name": "HTMLModel",
            "_view_count": null,
            "_view_module": "@jupyter-widgets/controls",
            "_view_module_version": "1.5.0",
            "_view_name": "HTMLView",
            "description": "",
            "description_tooltip": null,
            "layout": "IPY_MODEL_4c8f6179f3ef40eea9932d675d0500f3",
            "placeholder": "​",
            "style": "IPY_MODEL_d069de31c5494fa2b32967633c1102b4",
            "value": " 466k/466k [00:00&lt;00:00, 29.1MB/s]"
          }
        },
        "b165ccedfc6247c6b2bd039f89f7e9d9": {
          "model_module": "@jupyter-widgets/controls",
          "model_module_version": "1.5.0",
          "model_name": "HBoxModel",
          "state": {
            "_dom_classes": [],
            "_model_module": "@jupyter-widgets/controls",
            "_model_module_version": "1.5.0",
            "_model_name": "HBoxModel",
            "_view_count": null,
            "_view_module": "@jupyter-widgets/controls",
            "_view_module_version": "1.5.0",
            "_view_name": "HBoxView",
            "box_style": "",
            "children": [
              "IPY_MODEL_33853dd660264aa880b89a4ea3bc54bd",
              "IPY_MODEL_39a9cb86d00f4177b777098be98826d7",
              "IPY_MODEL_801bfe70c31a4960bef858222858d04f"
            ],
            "layout": "IPY_MODEL_814dd7a5a82f4347a0460a5d62b52f7e"
          }
        },
        "b299310ff1264930bde9df29d5489d6d": {
          "model_module": "@jupyter-widgets/base",
          "model_module_version": "1.2.0",
          "model_name": "LayoutModel",
          "state": {
            "_model_module": "@jupyter-widgets/base",
            "_model_module_version": "1.2.0",
            "_model_name": "LayoutModel",
            "_view_count": null,
            "_view_module": "@jupyter-widgets/base",
            "_view_module_version": "1.2.0",
            "_view_name": "LayoutView",
            "align_content": null,
            "align_items": null,
            "align_self": null,
            "border": null,
            "bottom": null,
            "display": null,
            "flex": null,
            "flex_flow": null,
            "grid_area": null,
            "grid_auto_columns": null,
            "grid_auto_flow": null,
            "grid_auto_rows": null,
            "grid_column": null,
            "grid_gap": null,
            "grid_row": null,
            "grid_template_areas": null,
            "grid_template_columns": null,
            "grid_template_rows": null,
            "height": null,
            "justify_content": null,
            "justify_items": null,
            "left": null,
            "margin": null,
            "max_height": null,
            "max_width": null,
            "min_height": null,
            "min_width": null,
            "object_fit": null,
            "object_position": null,
            "order": null,
            "overflow": null,
            "overflow_x": null,
            "overflow_y": null,
            "padding": null,
            "right": null,
            "top": null,
            "visibility": null,
            "width": null
          }
        },
        "b365c7ae86674b9aab14adac1e4bee92": {
          "model_module": "@jupyter-widgets/base",
          "model_module_version": "1.2.0",
          "model_name": "LayoutModel",
          "state": {
            "_model_module": "@jupyter-widgets/base",
            "_model_module_version": "1.2.0",
            "_model_name": "LayoutModel",
            "_view_count": null,
            "_view_module": "@jupyter-widgets/base",
            "_view_module_version": "1.2.0",
            "_view_name": "LayoutView",
            "align_content": null,
            "align_items": "center",
            "align_self": null,
            "border": null,
            "bottom": null,
            "display": "flex",
            "flex": null,
            "flex_flow": "column",
            "grid_area": null,
            "grid_auto_columns": null,
            "grid_auto_flow": null,
            "grid_auto_rows": null,
            "grid_column": null,
            "grid_gap": null,
            "grid_row": null,
            "grid_template_areas": null,
            "grid_template_columns": null,
            "grid_template_rows": null,
            "height": null,
            "justify_content": null,
            "justify_items": null,
            "left": null,
            "margin": null,
            "max_height": null,
            "max_width": null,
            "min_height": null,
            "min_width": null,
            "object_fit": null,
            "object_position": null,
            "order": null,
            "overflow": null,
            "overflow_x": null,
            "overflow_y": null,
            "padding": null,
            "right": null,
            "top": null,
            "visibility": null,
            "width": "50%"
          }
        },
        "b6a6e9bd403a46b1aa64a3c07638736e": {
          "model_module": "@jupyter-widgets/controls",
          "model_module_version": "1.5.0",
          "model_name": "HBoxModel",
          "state": {
            "_dom_classes": [],
            "_model_module": "@jupyter-widgets/controls",
            "_model_module_version": "1.5.0",
            "_model_name": "HBoxModel",
            "_view_count": null,
            "_view_module": "@jupyter-widgets/controls",
            "_view_module_version": "1.5.0",
            "_view_name": "HBoxView",
            "box_style": "",
            "children": [
              "IPY_MODEL_e7906889f382472d93d0e79197adbafe",
              "IPY_MODEL_0c31d948ae0b43e1981e2c751438bed5",
              "IPY_MODEL_d277a1fbe45d4a65b98ff21a0f7e7d54"
            ],
            "layout": "IPY_MODEL_d28aeb84542b475cb03b9555d7160243"
          }
        },
        "bee6f85d2ae64f1d8a8a97d7b051cf75": {
          "model_module": "@jupyter-widgets/controls",
          "model_module_version": "1.5.0",
          "model_name": "HTMLModel",
          "state": {
            "_dom_classes": [],
            "_model_module": "@jupyter-widgets/controls",
            "_model_module_version": "1.5.0",
            "_model_name": "HTMLModel",
            "_view_count": null,
            "_view_module": "@jupyter-widgets/controls",
            "_view_module_version": "1.5.0",
            "_view_name": "HTMLView",
            "description": "",
            "description_tooltip": null,
            "layout": "IPY_MODEL_435acd65e4704773a3bee9124500eb2d",
            "placeholder": "​",
            "style": "IPY_MODEL_80c056083c054e0ab556bbc38742353a",
            "value": "config.json: 100%"
          }
        },
        "c59719f594dd43c38f1da9fc3a613938": {
          "model_module": "@jupyter-widgets/base",
          "model_module_version": "1.2.0",
          "model_name": "LayoutModel",
          "state": {
            "_model_module": "@jupyter-widgets/base",
            "_model_module_version": "1.2.0",
            "_model_name": "LayoutModel",
            "_view_count": null,
            "_view_module": "@jupyter-widgets/base",
            "_view_module_version": "1.2.0",
            "_view_name": "LayoutView",
            "align_content": null,
            "align_items": null,
            "align_self": null,
            "border": null,
            "bottom": null,
            "display": null,
            "flex": null,
            "flex_flow": null,
            "grid_area": null,
            "grid_auto_columns": null,
            "grid_auto_flow": null,
            "grid_auto_rows": null,
            "grid_column": null,
            "grid_gap": null,
            "grid_row": null,
            "grid_template_areas": null,
            "grid_template_columns": null,
            "grid_template_rows": null,
            "height": null,
            "justify_content": null,
            "justify_items": null,
            "left": null,
            "margin": null,
            "max_height": null,
            "max_width": null,
            "min_height": null,
            "min_width": null,
            "object_fit": null,
            "object_position": null,
            "order": null,
            "overflow": null,
            "overflow_x": null,
            "overflow_y": null,
            "padding": null,
            "right": null,
            "top": null,
            "visibility": null,
            "width": null
          }
        },
        "c711815022d34e08be1e355c2342ac90": {
          "model_module": "@jupyter-widgets/controls",
          "model_module_version": "1.5.0",
          "model_name": "ProgressStyleModel",
          "state": {
            "_model_module": "@jupyter-widgets/controls",
            "_model_module_version": "1.5.0",
            "_model_name": "ProgressStyleModel",
            "_view_count": null,
            "_view_module": "@jupyter-widgets/base",
            "_view_module_version": "1.2.0",
            "_view_name": "StyleView",
            "bar_color": null,
            "description_width": ""
          }
        },
        "ca45fc8c471041aba2990d968ce50f62": {
          "model_module": "@jupyter-widgets/controls",
          "model_module_version": "1.5.0",
          "model_name": "ButtonStyleModel",
          "state": {
            "_model_module": "@jupyter-widgets/controls",
            "_model_module_version": "1.5.0",
            "_model_name": "ButtonStyleModel",
            "_view_count": null,
            "_view_module": "@jupyter-widgets/base",
            "_view_module_version": "1.2.0",
            "_view_name": "StyleView",
            "button_color": null,
            "font_weight": ""
          }
        },
        "cb8fc566557b466e88dcd7e581869d0b": {
          "model_module": "@jupyter-widgets/base",
          "model_module_version": "1.2.0",
          "model_name": "LayoutModel",
          "state": {
            "_model_module": "@jupyter-widgets/base",
            "_model_module_version": "1.2.0",
            "_model_name": "LayoutModel",
            "_view_count": null,
            "_view_module": "@jupyter-widgets/base",
            "_view_module_version": "1.2.0",
            "_view_name": "LayoutView",
            "align_content": null,
            "align_items": null,
            "align_self": null,
            "border": null,
            "bottom": null,
            "display": null,
            "flex": null,
            "flex_flow": null,
            "grid_area": null,
            "grid_auto_columns": null,
            "grid_auto_flow": null,
            "grid_auto_rows": null,
            "grid_column": null,
            "grid_gap": null,
            "grid_row": null,
            "grid_template_areas": null,
            "grid_template_columns": null,
            "grid_template_rows": null,
            "height": null,
            "justify_content": null,
            "justify_items": null,
            "left": null,
            "margin": null,
            "max_height": null,
            "max_width": null,
            "min_height": null,
            "min_width": null,
            "object_fit": null,
            "object_position": null,
            "order": null,
            "overflow": null,
            "overflow_x": null,
            "overflow_y": null,
            "padding": null,
            "right": null,
            "top": null,
            "visibility": null,
            "width": null
          }
        },
        "cde14f2656044b7e89f113b2c8c01710": {
          "model_module": "@jupyter-widgets/controls",
          "model_module_version": "1.5.0",
          "model_name": "DescriptionStyleModel",
          "state": {
            "_model_module": "@jupyter-widgets/controls",
            "_model_module_version": "1.5.0",
            "_model_name": "DescriptionStyleModel",
            "_view_count": null,
            "_view_module": "@jupyter-widgets/base",
            "_view_module_version": "1.2.0",
            "_view_name": "StyleView",
            "description_width": ""
          }
        },
        "cdf69374c56b40708f722fca010f9779": {
          "model_module": "@jupyter-widgets/base",
          "model_module_version": "1.2.0",
          "model_name": "LayoutModel",
          "state": {
            "_model_module": "@jupyter-widgets/base",
            "_model_module_version": "1.2.0",
            "_model_name": "LayoutModel",
            "_view_count": null,
            "_view_module": "@jupyter-widgets/base",
            "_view_module_version": "1.2.0",
            "_view_name": "LayoutView",
            "align_content": null,
            "align_items": null,
            "align_self": null,
            "border": null,
            "bottom": null,
            "display": null,
            "flex": null,
            "flex_flow": null,
            "grid_area": null,
            "grid_auto_columns": null,
            "grid_auto_flow": null,
            "grid_auto_rows": null,
            "grid_column": null,
            "grid_gap": null,
            "grid_row": null,
            "grid_template_areas": null,
            "grid_template_columns": null,
            "grid_template_rows": null,
            "height": null,
            "justify_content": null,
            "justify_items": null,
            "left": null,
            "margin": null,
            "max_height": null,
            "max_width": null,
            "min_height": null,
            "min_width": null,
            "object_fit": null,
            "object_position": null,
            "order": null,
            "overflow": null,
            "overflow_x": null,
            "overflow_y": null,
            "padding": null,
            "right": null,
            "top": null,
            "visibility": null,
            "width": null
          }
        },
        "d069de31c5494fa2b32967633c1102b4": {
          "model_module": "@jupyter-widgets/controls",
          "model_module_version": "1.5.0",
          "model_name": "DescriptionStyleModel",
          "state": {
            "_model_module": "@jupyter-widgets/controls",
            "_model_module_version": "1.5.0",
            "_model_name": "DescriptionStyleModel",
            "_view_count": null,
            "_view_module": "@jupyter-widgets/base",
            "_view_module_version": "1.2.0",
            "_view_name": "StyleView",
            "description_width": ""
          }
        },
        "d277a1fbe45d4a65b98ff21a0f7e7d54": {
          "model_module": "@jupyter-widgets/controls",
          "model_module_version": "1.5.0",
          "model_name": "HTMLModel",
          "state": {
            "_dom_classes": [],
            "_model_module": "@jupyter-widgets/controls",
            "_model_module_version": "1.5.0",
            "_model_name": "HTMLModel",
            "_view_count": null,
            "_view_module": "@jupyter-widgets/controls",
            "_view_module_version": "1.5.0",
            "_view_name": "HTMLView",
            "description": "",
            "description_tooltip": null,
            "layout": "IPY_MODEL_11ee10a555654f0ab9e6427b76434415",
            "placeholder": "​",
            "style": "IPY_MODEL_3fbef34aa739472db620ca88cc56319e",
            "value": " 7.95k/7.95k [00:00&lt;00:00, 131kB/s]"
          }
        },
        "d28aeb84542b475cb03b9555d7160243": {
          "model_module": "@jupyter-widgets/base",
          "model_module_version": "1.2.0",
          "model_name": "LayoutModel",
          "state": {
            "_model_module": "@jupyter-widgets/base",
            "_model_module_version": "1.2.0",
            "_model_name": "LayoutModel",
            "_view_count": null,
            "_view_module": "@jupyter-widgets/base",
            "_view_module_version": "1.2.0",
            "_view_name": "LayoutView",
            "align_content": null,
            "align_items": null,
            "align_self": null,
            "border": null,
            "bottom": null,
            "display": null,
            "flex": null,
            "flex_flow": null,
            "grid_area": null,
            "grid_auto_columns": null,
            "grid_auto_flow": null,
            "grid_auto_rows": null,
            "grid_column": null,
            "grid_gap": null,
            "grid_row": null,
            "grid_template_areas": null,
            "grid_template_columns": null,
            "grid_template_rows": null,
            "height": null,
            "justify_content": null,
            "justify_items": null,
            "left": null,
            "margin": null,
            "max_height": null,
            "max_width": null,
            "min_height": null,
            "min_width": null,
            "object_fit": null,
            "object_position": null,
            "order": null,
            "overflow": null,
            "overflow_x": null,
            "overflow_y": null,
            "padding": null,
            "right": null,
            "top": null,
            "visibility": null,
            "width": null
          }
        },
        "d88c6387f7064925b53983032b08253a": {
          "model_module": "@jupyter-widgets/controls",
          "model_module_version": "1.5.0",
          "model_name": "FloatProgressModel",
          "state": {
            "_dom_classes": [],
            "_model_module": "@jupyter-widgets/controls",
            "_model_module_version": "1.5.0",
            "_model_name": "FloatProgressModel",
            "_view_count": null,
            "_view_module": "@jupyter-widgets/controls",
            "_view_module_version": "1.5.0",
            "_view_name": "ProgressView",
            "bar_style": "success",
            "description": "",
            "description_tooltip": null,
            "layout": "IPY_MODEL_6e2b2d8e8bb740d58bfc35c40817c25e",
            "max": 466062,
            "min": 0,
            "orientation": "horizontal",
            "style": "IPY_MODEL_c711815022d34e08be1e355c2342ac90",
            "value": 466062
          }
        },
        "d947f768351247f1bed9e27a4d8edf39": {
          "model_module": "@jupyter-widgets/base",
          "model_module_version": "1.2.0",
          "model_name": "LayoutModel",
          "state": {
            "_model_module": "@jupyter-widgets/base",
            "_model_module_version": "1.2.0",
            "_model_name": "LayoutModel",
            "_view_count": null,
            "_view_module": "@jupyter-widgets/base",
            "_view_module_version": "1.2.0",
            "_view_name": "LayoutView",
            "align_content": null,
            "align_items": null,
            "align_self": null,
            "border": null,
            "bottom": null,
            "display": null,
            "flex": null,
            "flex_flow": null,
            "grid_area": null,
            "grid_auto_columns": null,
            "grid_auto_flow": null,
            "grid_auto_rows": null,
            "grid_column": null,
            "grid_gap": null,
            "grid_row": null,
            "grid_template_areas": null,
            "grid_template_columns": null,
            "grid_template_rows": null,
            "height": null,
            "justify_content": null,
            "justify_items": null,
            "left": null,
            "margin": null,
            "max_height": null,
            "max_width": null,
            "min_height": null,
            "min_width": null,
            "object_fit": null,
            "object_position": null,
            "order": null,
            "overflow": null,
            "overflow_x": null,
            "overflow_y": null,
            "padding": null,
            "right": null,
            "top": null,
            "visibility": null,
            "width": null
          }
        },
        "d9931f6fca6c4ec380bf9e2f955ebbe3": {
          "model_module": "@jupyter-widgets/controls",
          "model_module_version": "1.5.0",
          "model_name": "HBoxModel",
          "state": {
            "_dom_classes": [],
            "_model_module": "@jupyter-widgets/controls",
            "_model_module_version": "1.5.0",
            "_model_name": "HBoxModel",
            "_view_count": null,
            "_view_module": "@jupyter-widgets/controls",
            "_view_module_version": "1.5.0",
            "_view_name": "HBoxView",
            "box_style": "",
            "children": [
              "IPY_MODEL_3683886409e14d05b3e112542558918b",
              "IPY_MODEL_d88c6387f7064925b53983032b08253a",
              "IPY_MODEL_ae59bd3f68154204a346e3b82668c5f8"
            ],
            "layout": "IPY_MODEL_38c38ec3917a46fab353819e317e4c40"
          }
        },
        "df1a91f1d4e1486f84be29ec8f9e4e92": {
          "model_module": "@jupyter-widgets/base",
          "model_module_version": "1.2.0",
          "model_name": "LayoutModel",
          "state": {
            "_model_module": "@jupyter-widgets/base",
            "_model_module_version": "1.2.0",
            "_model_name": "LayoutModel",
            "_view_count": null,
            "_view_module": "@jupyter-widgets/base",
            "_view_module_version": "1.2.0",
            "_view_name": "LayoutView",
            "align_content": null,
            "align_items": null,
            "align_self": null,
            "border": null,
            "bottom": null,
            "display": null,
            "flex": null,
            "flex_flow": null,
            "grid_area": null,
            "grid_auto_columns": null,
            "grid_auto_flow": null,
            "grid_auto_rows": null,
            "grid_column": null,
            "grid_gap": null,
            "grid_row": null,
            "grid_template_areas": null,
            "grid_template_columns": null,
            "grid_template_rows": null,
            "height": null,
            "justify_content": null,
            "justify_items": null,
            "left": null,
            "margin": null,
            "max_height": null,
            "max_width": null,
            "min_height": null,
            "min_width": null,
            "object_fit": null,
            "object_position": null,
            "order": null,
            "overflow": null,
            "overflow_x": null,
            "overflow_y": null,
            "padding": null,
            "right": null,
            "top": null,
            "visibility": null,
            "width": null
          }
        },
        "e109133a3bb74edd9ed009b5132c8850": {
          "model_module": "@jupyter-widgets/controls",
          "model_module_version": "1.5.0",
          "model_name": "DescriptionStyleModel",
          "state": {
            "_model_module": "@jupyter-widgets/controls",
            "_model_module_version": "1.5.0",
            "_model_name": "DescriptionStyleModel",
            "_view_count": null,
            "_view_module": "@jupyter-widgets/base",
            "_view_module_version": "1.2.0",
            "_view_name": "StyleView",
            "description_width": ""
          }
        },
        "e580acc8204643a8a8c8f774f501029c": {
          "model_module": "@jupyter-widgets/controls",
          "model_module_version": "1.5.0",
          "model_name": "HBoxModel",
          "state": {
            "_dom_classes": [],
            "_model_module": "@jupyter-widgets/controls",
            "_model_module_version": "1.5.0",
            "_model_name": "HBoxModel",
            "_view_count": null,
            "_view_module": "@jupyter-widgets/controls",
            "_view_module_version": "1.5.0",
            "_view_name": "HBoxView",
            "box_style": "",
            "children": [
              "IPY_MODEL_bee6f85d2ae64f1d8a8a97d7b051cf75",
              "IPY_MODEL_1c6e78b85a174b21b8337a6767fdbe30",
              "IPY_MODEL_7f45938787a142938c39966b8d5c23a9"
            ],
            "layout": "IPY_MODEL_df1a91f1d4e1486f84be29ec8f9e4e92"
          }
        },
        "e7906889f382472d93d0e79197adbafe": {
          "model_module": "@jupyter-widgets/controls",
          "model_module_version": "1.5.0",
          "model_name": "HTMLModel",
          "state": {
            "_dom_classes": [],
            "_model_module": "@jupyter-widgets/controls",
            "_model_module_version": "1.5.0",
            "_model_name": "HTMLModel",
            "_view_count": null,
            "_view_module": "@jupyter-widgets/controls",
            "_view_module_version": "1.5.0",
            "_view_name": "HTMLView",
            "description": "",
            "description_tooltip": null,
            "layout": "IPY_MODEL_1b9c57c85a224d0899cf225911e7202f",
            "placeholder": "​",
            "style": "IPY_MODEL_182e2aac306e46b1884838827e8b6b40",
            "value": "Downloading builder script: 100%"
          }
        },
        "e9f4fd3853464628a51238f8f887efaf": {
          "model_module": "@jupyter-widgets/controls",
          "model_module_version": "1.5.0",
          "model_name": "HBoxModel",
          "state": {
            "_dom_classes": [],
            "_model_module": "@jupyter-widgets/controls",
            "_model_module_version": "1.5.0",
            "_model_name": "HBoxModel",
            "_view_count": null,
            "_view_module": "@jupyter-widgets/controls",
            "_view_module_version": "1.5.0",
            "_view_name": "HBoxView",
            "box_style": "",
            "children": [
              "IPY_MODEL_5c2054a41d184dd8ba9edbfb03ee58a0",
              "IPY_MODEL_fc966b63d5ed4da4863e921c7970e414",
              "IPY_MODEL_7d8f474318be4898abaa3f08750a30f7"
            ],
            "layout": "IPY_MODEL_cb8fc566557b466e88dcd7e581869d0b"
          }
        },
        "f0ef68275c0e4cb4a6c542ac94dc515a": {
          "model_module": "@jupyter-widgets/base",
          "model_module_version": "1.2.0",
          "model_name": "LayoutModel",
          "state": {
            "_model_module": "@jupyter-widgets/base",
            "_model_module_version": "1.2.0",
            "_model_name": "LayoutModel",
            "_view_count": null,
            "_view_module": "@jupyter-widgets/base",
            "_view_module_version": "1.2.0",
            "_view_name": "LayoutView",
            "align_content": null,
            "align_items": null,
            "align_self": null,
            "border": null,
            "bottom": null,
            "display": null,
            "flex": null,
            "flex_flow": null,
            "grid_area": null,
            "grid_auto_columns": null,
            "grid_auto_flow": null,
            "grid_auto_rows": null,
            "grid_column": null,
            "grid_gap": null,
            "grid_row": null,
            "grid_template_areas": null,
            "grid_template_columns": null,
            "grid_template_rows": null,
            "height": null,
            "justify_content": null,
            "justify_items": null,
            "left": null,
            "margin": null,
            "max_height": null,
            "max_width": null,
            "min_height": null,
            "min_width": null,
            "object_fit": null,
            "object_position": null,
            "order": null,
            "overflow": null,
            "overflow_x": null,
            "overflow_y": null,
            "padding": null,
            "right": null,
            "top": null,
            "visibility": null,
            "width": null
          }
        },
        "f8801a2759f94c138701fb5e7727ff05": {
          "model_module": "@jupyter-widgets/controls",
          "model_module_version": "1.5.0",
          "model_name": "ProgressStyleModel",
          "state": {
            "_model_module": "@jupyter-widgets/controls",
            "_model_module_version": "1.5.0",
            "_model_name": "ProgressStyleModel",
            "_view_count": null,
            "_view_module": "@jupyter-widgets/base",
            "_view_module_version": "1.2.0",
            "_view_name": "StyleView",
            "bar_color": null,
            "description_width": ""
          }
        },
        "fc966b63d5ed4da4863e921c7970e414": {
          "model_module": "@jupyter-widgets/controls",
          "model_module_version": "1.5.0",
          "model_name": "FloatProgressModel",
          "state": {
            "_dom_classes": [],
            "_model_module": "@jupyter-widgets/controls",
            "_model_module_version": "1.5.0",
            "_model_name": "FloatProgressModel",
            "_view_count": null,
            "_view_module": "@jupyter-widgets/controls",
            "_view_module_version": "1.5.0",
            "_view_name": "ProgressView",
            "bar_style": "success",
            "description": "",
            "description_tooltip": null,
            "layout": "IPY_MODEL_f0ef68275c0e4cb4a6c542ac94dc515a",
            "max": 28,
            "min": 0,
            "orientation": "horizontal",
            "style": "IPY_MODEL_625ab34150744c7684f3502b1350420c",
            "value": 28
          }
        },
        "fd7bd63a76b0458ca08ce75c703d1533": {
          "model_module": "@jupyter-widgets/controls",
          "model_module_version": "1.5.0",
          "model_name": "ButtonModel",
          "state": {
            "_dom_classes": [],
            "_model_module": "@jupyter-widgets/controls",
            "_model_module_version": "1.5.0",
            "_model_name": "ButtonModel",
            "_view_count": null,
            "_view_module": "@jupyter-widgets/controls",
            "_view_module_version": "1.5.0",
            "_view_name": "ButtonView",
            "button_style": "",
            "description": "Login",
            "disabled": false,
            "icon": "",
            "layout": "IPY_MODEL_fe34e38ec02a4e1e9d22eb5a5da0f355",
            "style": "IPY_MODEL_ca45fc8c471041aba2990d968ce50f62",
            "tooltip": ""
          }
        },
        "fe34e38ec02a4e1e9d22eb5a5da0f355": {
          "model_module": "@jupyter-widgets/base",
          "model_module_version": "1.2.0",
          "model_name": "LayoutModel",
          "state": {
            "_model_module": "@jupyter-widgets/base",
            "_model_module_version": "1.2.0",
            "_model_name": "LayoutModel",
            "_view_count": null,
            "_view_module": "@jupyter-widgets/base",
            "_view_module_version": "1.2.0",
            "_view_name": "LayoutView",
            "align_content": null,
            "align_items": null,
            "align_self": null,
            "border": null,
            "bottom": null,
            "display": null,
            "flex": null,
            "flex_flow": null,
            "grid_area": null,
            "grid_auto_columns": null,
            "grid_auto_flow": null,
            "grid_auto_rows": null,
            "grid_column": null,
            "grid_gap": null,
            "grid_row": null,
            "grid_template_areas": null,
            "grid_template_columns": null,
            "grid_template_rows": null,
            "height": null,
            "justify_content": null,
            "justify_items": null,
            "left": null,
            "margin": null,
            "max_height": null,
            "max_width": null,
            "min_height": null,
            "min_width": null,
            "object_fit": null,
            "object_position": null,
            "order": null,
            "overflow": null,
            "overflow_x": null,
            "overflow_y": null,
            "padding": null,
            "right": null,
            "top": null,
            "visibility": null,
            "width": null
          }
        }
      }
    }
  },
  "nbformat": 4,
  "nbformat_minor": 0
}
